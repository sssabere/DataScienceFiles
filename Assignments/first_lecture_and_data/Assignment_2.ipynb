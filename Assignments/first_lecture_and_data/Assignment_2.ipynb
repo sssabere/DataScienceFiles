{
 "cells": [
  {
   "cell_type": "markdown",
   "id": "8bf52b8a",
   "metadata": {
    "deletable": false
   },
   "source": [
    "\n",
    "# Assignment 2 for Course 1MS041\n",
    "Make sure you pass the `# ... Test` cells and\n",
    " submit your solution notebook in the corresponding assignment on the course website. You can submit multiple times before the deadline and your highest score will be used."
   ]
  },
  {
   "cell_type": "markdown",
   "id": "5aec0bfa",
   "metadata": {
    "deletable": false,
    "lx_assignment_number": "2",
    "lx_assignment_type": "ASSIGNMENT",
    "lx_assignment_type2print": "Assignment",
    "lx_problem_cell_type": "PROBLEM",
    "lx_problem_number": "1",
    "lx_problem_points": "8"
   },
   "source": [
    "---\n",
    "## Assignment 2, PROBLEM 1\n",
    "Maximum Points = 8"
   ]
  },
  {
   "cell_type": "markdown",
   "id": "db58f10b",
   "metadata": {
    "deletable": false,
    "lx_assignment_number": "2",
    "lx_assignment_type": "ASSIGNMENT",
    "lx_assignment_type2print": "Assignment",
    "lx_problem_cell_type": "PROBLEM",
    "lx_problem_number": "1",
    "lx_problem_points": "8"
   },
   "source": [
    "\n",
    "A courier company operates a fleet of delivery trucks that make deliveries to different parts of the city. The trucks are equipped with GPS tracking devices that record the location of each truck at regular intervals. The locations are divided into three regions: downtown, the suburbs, and the countryside. The following table shows the probabilities of a truck transitioning between these regions at each time step:\n",
    "\n",
    "| Current region | Probability of transitioning to downtown | Probability of transitioning to the suburbs | Probability of transitioning to the countryside |\n",
    "|----------------|--------------------------------------------|-----------------------------------------------|------------------------------------------------|\n",
    "| Downtown       | 0.3                                      | 0.4                                           | 0.3                                            |\n",
    "| Suburbs        | 0.2                                      | 0.5                                           | 0.3                                            |\n",
    "| Countryside    | 0.4                                      | 0.3                                           | 0.3                                            |\n",
    "\n",
    "1. If a truck is currently in the suburbs, what is the probability that it will be in the downtown region after two time steps? [1.5p]\n",
    "2. If a truck is currently in the suburbs, what is the probability that it will be in the downtown region **the first time** after two time steps? [1.5p]\n",
    "3. Is this Markov chain irreducible? [1.5p]\n",
    "4. What is the stationary distribution? [1.5p]\n",
    "5. Advanced question: What is the expected number of steps until the first time one enters the downtown region having started in the suburbs region. Hint: to get within 1 decimal point, it is enough to compute the probabilities for hitting times below 30. [2p]\n",
    "\n"
   ]
  },
  {
   "cell_type": "code",
   "execution_count": 31,
   "id": "2c601f0f",
   "metadata": {
    "deletable": false,
    "lx_assignment_number": "2",
    "lx_assignment_type": "ASSIGNMENT",
    "lx_assignment_type2print": "Assignment",
    "lx_problem_cell_type": "PROBLEM",
    "lx_problem_number": "1",
    "lx_problem_points": "8"
   },
   "outputs": [],
   "source": [
    "# Part 1\n",
    "import numpy as np\n",
    "\n",
    "\n",
    "P = np.matrix([[0.3, 0.4,0.3], [0.2,0.5,0.3], [0.4,0.3,0.3]])\n",
    "p0 = np.matrix((0,1,0))\n",
    "p2 = p0 * P**2\n",
    "\n",
    "problem1_p1 = p2[0,0]# 0.28\n",
    "\n",
    "# Fill in the answer to part 1 below as a decimal number\n",
    "problem1_p1 = 0.28"
   ]
  },
  {
   "cell_type": "code",
   "execution_count": 32,
   "id": "52a172dc",
   "metadata": {
    "deletable": false,
    "lx_assignment_number": "2",
    "lx_assignment_type": "ASSIGNMENT",
    "lx_assignment_type2print": "Assignment",
    "lx_problem_cell_type": "PROBLEM",
    "lx_problem_number": "1",
    "lx_problem_points": "8"
   },
   "outputs": [],
   "source": [
    "# Part 2\n",
    "# not in the downtwon and moves to the downtown in the second step \n",
    "# Fill in the answer to part 2 below as a decimal number\n",
    "\n",
    "p1 = p0 * P\n",
    "problem1_p2 = (1-p1[0,0]) * problem1_p1\n",
    "\n",
    "problem1_p2 = 0.22\n",
    "\n",
    "\n"
   ]
  },
  {
   "cell_type": "markdown",
   "id": "c0e9cdcc",
   "metadata": {},
   "source": [
    "A Markov chain is irreducible if it is possible to reach any state (region, in this case) from any other state in a finite number of steps. In simpler terms, starting in any region (downtown, suburbs, or countryside), there must be a positive probability of eventually reaching every other region.\n",
    "\n",
    "\n",
    "Since all states have non-zero probabilities of transitioning to every other state (directly or indirectly), this Markov chain is irreducible."
   ]
  },
  {
   "cell_type": "code",
   "execution_count": 33,
   "id": "a3b3872d",
   "metadata": {
    "deletable": false,
    "lx_assignment_number": "2",
    "lx_assignment_type": "ASSIGNMENT",
    "lx_assignment_type2print": "Assignment",
    "lx_problem_cell_type": "PROBLEM",
    "lx_problem_number": "1",
    "lx_problem_points": "8"
   },
   "outputs": [],
   "source": [
    "# Part 3\n",
    "\n",
    "# Fill in the answer to part 3 below as a boolean\n",
    "# problem1_irreducible = np.all(P > 0)\n",
    "problem1_irreducible = True"
   ]
  },
  {
   "attachments": {},
   "cell_type": "markdown",
   "id": "831805ed",
   "metadata": {},
   "source": [
    "What is the stationary distribution?\n",
    "1. be irreduciable \n",
    "2. finits expeceted return time "
   ]
  },
  {
   "cell_type": "code",
   "execution_count": 34,
   "id": "1b9d0a00",
   "metadata": {
    "deletable": false,
    "lx_assignment_number": "2",
    "lx_assignment_type": "ASSIGNMENT",
    "lx_assignment_type2print": "Assignment",
    "lx_problem_cell_type": "PROBLEM",
    "lx_problem_number": "1",
    "lx_problem_points": "8"
   },
   "outputs": [
    {
     "name": "stdout",
     "output_type": "stream",
     "text": [
      "Stationary Distribution: [0.28888889 0.41111111 0.3       ]\n"
     ]
    }
   ],
   "source": [
    "# Part 4\n",
    "import numpy as np\n",
    "# Fill in the answer to part 4 below\n",
    "# the answer should be a numpy array of length 3\n",
    "# make sure that the entries sums to 1!\n",
    "\n",
    "# evals, evecs = np.linalg.eig(P.T)\n",
    "# first_evec = evecs[:,0]\n",
    "# res = np.array(first_evec) / np.sum(first_evec)\n",
    "# res = res[:,0]\n",
    "# assert(np.sum(res) == 1)\n",
    "\n",
    "# problem1_stationary = res # [13/45, 37/90,3/10]\n",
    "\n",
    "\n",
    "problem1_stationary = [0.289,0.411,0.3]\n",
    "\n",
    "\n",
    "P = np.array([\n",
    "    [0.3, 0.4, 0.3],\n",
    "    [0.2, 0.5, 0.3],\n",
    "    [0.4, 0.3, 0.3]\n",
    "])\n",
    "\n",
    "# Step 1: Compute eigenvalues and eigenvectors\n",
    "evals, evecs = np.linalg.eig(P.T)\n",
    "\n",
    "# Step 2: Find the eigenvector for eigenvalue = 1\n",
    "index = np.argmax(np.isclose(evals, 1))  # Find index of eigenvalue close to 1\n",
    "stationary_vec = evecs[:, index]         # Corresponding eigenvector\n",
    "\n",
    "# Step 3: Normalize to get a probability distribution\n",
    "stationary_distribution = stationary_vec / np.sum(stationary_vec)\n",
    "\n",
    "# Print the result\n",
    "print(\"Stationary Distribution:\", stationary_distribution.real)"
   ]
  },
  {
   "cell_type": "code",
   "execution_count": 35,
   "id": "481625e3",
   "metadata": {
    "deletable": false,
    "lx_assignment_number": "2",
    "lx_assignment_type": "ASSIGNMENT",
    "lx_assignment_type2print": "Assignment",
    "lx_problem_cell_type": "PROBLEM",
    "lx_problem_number": "1",
    "lx_problem_points": "8"
   },
   "outputs": [],
   "source": [
    "# Part 5\n",
    "\n",
    "# Fill in the answer to part 5 below\n",
    "# That is, the expected number of steps as a decimal number\n",
    "problem1_ET = 3.846"
   ]
  },
  {
   "cell_type": "markdown",
   "id": "0c094dd6",
   "metadata": {},
   "source": [
    "steady-state vector\n",
    "\n"
   ]
  },
  {
   "cell_type": "code",
   "execution_count": 36,
   "id": "1bce6b1c",
   "metadata": {},
   "outputs": [
    {
     "data": {
      "text/plain": [
       "array([0.28888889, 0.41111111, 0.3       ])"
      ]
     },
     "execution_count": 36,
     "metadata": {},
     "output_type": "execute_result"
    }
   ],
   "source": [
    "# Solve for the steady-state vector\n",
    "# We solve πP = π which can be rearranged to (P^T - I)π^T = 0\n",
    "# Add the constraint that the sum of the steady-state vector equals 1\n",
    "\n",
    "n = P.shape[0]\n",
    "A = np.vstack([P.T - np.eye(n), np.ones(n)])\n",
    "b = np.append(np.zeros(n), 1)\n",
    "\n",
    "# Solve the linear system\n",
    "steady_state = np.linalg.lstsq(A, b, rcond=None)[0]\n",
    "\n",
    "steady_state"
   ]
  },
  {
   "cell_type": "markdown",
   "id": "609fb0e9",
   "metadata": {},
   "source": [
    "# Stationary Distribution vs. Steady-State Distribution\n",
    "\n",
    "### Stationary Distribution\n",
    "- **Definition**: \n",
    "  The stationary distribution of a Markov chain is a probability distribution \\( \\pi \\) that satisfies:\n",
    "\n",
    "  $\\pi P = \\pi  $\n",
    "\n",
    "  Here, \\( \\pi \\) is a row vector whose entries sum to 1 $\\sum \\pi_i = 1$.\n",
    "\n",
    "- **Key Features**:\n",
    "  - It represents a distribution over the states that remains unchanged under the operation of the transition matrix \\( P \\).\n",
    "  - If the chain starts in the stationary distribution, it will remain in this distribution after any number of steps.\n",
    "  - Every irreducible and aperiodic Markov chain has a unique stationary distribution.\n",
    "\n",
    "- **Relation to Time**: \n",
    "  The stationary distribution is a **mathematical property** of the Markov chain, regardless of how the system starts.\n",
    "\n",
    "\n",
    "\n",
    "### Steady-State Distribution\n",
    "- **Definition**: \n",
    "  The steady-state distribution of a Markov chain refers to the **long-term behavior** of the system. It is the distribution the system converges to as time goes to infinity:\n",
    "\n",
    "\n",
    "$\n",
    "  \\lim_{k \\to \\infty} p^{(k)} = \\pi\n",
    "$\n",
    "\n",
    "  where $ p^{(k)} $ is the state distribution after $ k $ steps.\n",
    "\n",
    "- **Key Features**:\n",
    "  - It is the **actual observed equilibrium distribution** the Markov chain reaches over time, provided it is irreducible and aperiodic.\n",
    "  - For such chains, the steady-state distribution coincides with the stationary distribution.\n",
    "\n",
    "- **Relation to Time**: \n",
    "  The steady-state distribution describes the **long-term limit** of the system's dynamics.\n",
    "\n",
    "\n",
    "### Key Differences\n",
    "\n",
    "| **Aspect**               | **Stationary Distribution**                               | **Steady-State Distribution**                          |\n",
    "|---------------------------|----------------------------------------------------------|-------------------------------------------------------|\n",
    "| **Definition**            | A mathematical property satisfying \\( \\pi P = \\pi \\).    | The distribution reached by the chain as \\( k \\to \\infty \\). |\n",
    "| **Existence**             | Always exists for irreducible chains.                    | Only observed if the chain is irreducible and aperiodic. |\n",
    "| **Relation to Initial State** | Independent of the initial state.                     | Depends on the initial state; steady-state convergence assumes any start. |\n",
    "| **Time Dependency**       | A static property of the transition matrix.              | Represents the long-term behavior over time.          |\n",
    "\n",
    "\n",
    "\n",
    "### When Are They the Same?\n",
    "- For an **irreducible** (all states communicate) and **aperiodic** (no cyclic behavior) Markov chain, the stationary distribution and steady-state distribution **are the same**.\n",
    "- For other types of Markov chains (e.g., reducible or periodic chains), a stationary distribution may exist, but the chain might not converge to it, so the steady-state distribution may not exist.\n",
    "\n"
   ]
  },
  {
   "cell_type": "markdown",
   "id": "215a4c8b",
   "metadata": {
    "deletable": false,
    "lx_assignment_number": "2",
    "lx_assignment_type": "ASSIGNMENT",
    "lx_assignment_type2print": "Assignment",
    "lx_problem_cell_type": "PROBLEM",
    "lx_problem_number": "2",
    "lx_problem_points": "4"
   },
   "source": [
    "---\n",
    "## Assignment 2, PROBLEM 2\n",
    "Maximum Points = 4"
   ]
  },
  {
   "cell_type": "markdown",
   "id": "d9a825d1",
   "metadata": {
    "deletable": false,
    "lx_assignment_number": "2",
    "lx_assignment_type": "ASSIGNMENT",
    "lx_assignment_type2print": "Assignment",
    "lx_problem_cell_type": "PROBLEM",
    "lx_problem_number": "2",
    "lx_problem_points": "4"
   },
   "source": [
    "\n",
    "Use the **Multi-dimensional Constrained Optimisation** example (in `07-Optimization.ipynb`) to numerically find the MLe for the mean and variance parameter based on `normallySimulatedDataSamples`, an array obtained by a specific simulation of $30$ IID samples from the $Normal(10,2)$ random variable.\n",
    "\n",
    "Recall that $Normal(\\mu, \\sigma^2)$ RV has the probability density function given by:\n",
    "\n",
    "$$\n",
    "f(x ;\\mu, \\sigma) = \\displaystyle\\frac{1}{\\sigma\\sqrt{2\\pi}}\\exp\\left(\\frac{-1}{2\\sigma^2}(x-\\mu)^2\\right)\n",
    "$$\n",
    "\n",
    "The two parameters, $\\mu \\in \\mathbb{R} := (-\\infty,\\infty)$ and $\\sigma \\in (0,\\infty)$, are sometimes referred to as the location and scale parameters.\n",
    "\n",
    "You know that the log likelihood function for $n$ IID samples from a Normal RV with parameters $\\mu$ and $\\sigma$ simply follows from $\\sum_{i=1}^n \\log(f(x_i; \\mu,\\sigma))$, based on the IID assumption. \n",
    "\n",
    "NOTE: When setting bounding boxes for $\\mu$ and $\\sigma$ try to start with some guesses like $[-20,20]$ and $[0.1,5.0]$ and make it larger if the solution is at the boundary. Making the left bounding-point for $\\sigma$ too close to $0.0$ will cause division by zero Warnings. Other numerical instabilities can happen in such iterative numerical solutions to the MLe. You need to be patient and learn by trial-and-error. You will see the mathematical theory in more details in a future course in scientific computing/optimisation. So don't worry too much now except learning to use it for our problems.  "
   ]
  },
  {
   "cell_type": "code",
   "execution_count": 23,
   "id": "c8e9be65",
   "metadata": {},
   "outputs": [
    {
     "name": "stdout",
     "output_type": "stream",
     "text": [
      "Requirement already satisfied: scipy in c:\\users\\saber\\appdata\\local\\programs\\python\\python313\\lib\\site-packages (1.14.1)\n",
      "Requirement already satisfied: numpy<2.3,>=1.23.5 in c:\\users\\saber\\appdata\\local\\programs\\python\\python313\\lib\\site-packages (from scipy) (2.1.2)\n"
     ]
    }
   ],
   "source": [
    "!pip install scipy\n"
   ]
  },
  {
   "cell_type": "code",
   "execution_count": 24,
   "id": "699b52ca",
   "metadata": {
    "deletable": false,
    "lx_assignment_number": "2",
    "lx_assignment_type": "ASSIGNMENT",
    "lx_assignment_type2print": "Assignment",
    "lx_problem_cell_type": "PROBLEM",
    "lx_problem_number": "2",
    "lx_problem_points": "4"
   },
   "outputs": [
    {
     "data": {
      "text/plain": [
       "  message: CONVERGENCE: REL_REDUCTION_OF_F_<=_FACTR*EPSMCH\n",
       "  success: True\n",
       "   status: 0\n",
       "      fun: 58.631387282482905\n",
       "        x: [ 9.269e+00  1.708e+00]\n",
       "      nit: 5\n",
       "      jac: [ 9.948e-06 -6.821e-05]\n",
       "     nfev: 27\n",
       "     njev: 9\n",
       " hess_inv: <2x2 LbfgsInvHessProduct with dtype=float64>"
      ]
     },
     "execution_count": 24,
     "metadata": {},
     "output_type": "execute_result"
    }
   ],
   "source": [
    "\n",
    "import numpy as np\n",
    "from scipy import optimize\n",
    "# do NOT change the next three lines\n",
    "np.random.seed(123456) # set seed\n",
    "# simulate 30 IID samples drawn from Normal(10,2)RV\n",
    "normallySimulatedDataSamples = np.random.normal(10,2,30) \n",
    "\n",
    "# define the negative log likelihood function you want to minimise by editing XXX\n",
    "def negLogLklOfIIDNormalSamples(parameters):\n",
    "    '''return the -log(likelihood) of normallySimulatedDataSamples with mean and var parameters'''\n",
    "    mu_param=parameters[0]\n",
    "    sigma_param=parameters[1]\n",
    "    # XXX\n",
    "    # XXX # add more or less lines as you need\n",
    "    n = len(normallySimulatedDataSamples)\n",
    "    neg_log_likelihood = (n / 2) * np.log(2 * np.pi * sigma_param ** 2) + np.sum((normallySimulatedDataSamples - mu_param) ** 2) / (2 * sigma_param ** 2)\n",
    "    return neg_log_likelihood\n",
    "\n",
    "# you should only change XXX below and not anything else\n",
    "\n",
    "\n",
    "# parameter_bounding_box = ((mu_min, mu_max), (sigma_min, sigma_max))\n",
    "parameter_bounding_box=((-20, 20), (0.1, 5)) # specify the constraints for each parameter - some guess work...\n",
    "# initial_arguments = np.array([mu_guess, sigma_guess])\n",
    "initial_arguments = np.array([10, 2]) # point in 2D to initialise the minimize algorithm\n",
    "result_problem2_opt = optimize.minimize(negLogLklOfIIDNormalSamples, initial_arguments, bounds=parameter_bounding_box,  method=\"L-BFGS-B\") \n",
    "\n",
    "# call the minimize method above finally! you need to play a bit to get initial conditions and bounding box ok\n",
    "result_problem2_opt\n"
   ]
  },
  {
   "cell_type": "markdown",
   "id": "f722d247",
   "metadata": {
    "deletable": false,
    "lx_assignment_number": "2",
    "lx_assignment_type": "ASSIGNMENT",
    "lx_assignment_type2print": "Assignment",
    "lx_problem_cell_type": "PROBLEM",
    "lx_problem_number": "3",
    "lx_problem_points": "4"
   },
   "source": [
    "---\n",
    "## Assignment 2, PROBLEM 3\n",
    "Maximum Points = 4"
   ]
  },
  {
   "cell_type": "markdown",
   "id": "0b9c787c",
   "metadata": {
    "deletable": false,
    "lx_assignment_number": "2",
    "lx_assignment_type": "ASSIGNMENT",
    "lx_assignment_type2print": "Assignment",
    "lx_problem_cell_type": "PROBLEM",
    "lx_problem_number": "3",
    "lx_problem_points": "4"
   },
   "source": [
    "\n",
    "\n",
    "Derive the maximum likelihood estimate for $n$ IID samples from a random variable with the following probability density function:\n",
    "$$\n",
    "f(x; \\lambda) = \\frac{1}{24} \\lambda^5 x^4 \\exp(-\\lambda x), \\qquad \\text{ where, } \\lambda>0, x > 0\n",
    "$$\n",
    "\n",
    "You can solve the MLe by hand (using pencil paper or using key-strokes). Present your solution as the return value of a function called `def MLeForAssignment2Problem3(x)`, where `x` is a list of $n$ input data points."
   ]
  },
  {
   "cell_type": "code",
   "execution_count": 25,
   "id": "41720f28",
   "metadata": {
    "deletable": false,
    "lx_assignment_number": "2",
    "lx_assignment_type": "ASSIGNMENT",
    "lx_assignment_type2print": "Assignment",
    "lx_problem_cell_type": "PROBLEM",
    "lx_problem_number": "3",
    "lx_problem_points": "4"
   },
   "outputs": [],
   "source": [
    "#Derive with pen and papper and write the final reminding part which is a sum here as the function \n",
    "# do not change the name of the function, just replace XXX with the appropriate expressions for the MLe\n",
    "def MLeForAssignment2Problem3(x):\n",
    "    '''write comment of what this function does'''\n",
    "    n = len(x)  # number of samples\n",
    "    lambda_hat = 5 * n / sum(x)  # MLE for lambda\n",
    "    return lambda_hat"
   ]
  },
  {
   "cell_type": "markdown",
   "id": "85367892",
   "metadata": {
    "deletable": false,
    "lx_assignment_number": "2",
    "lx_assignment_type": "ASSIGNMENT",
    "lx_assignment_type2print": "Assignment",
    "lx_problem_cell_type": "PROBLEM",
    "lx_problem_number": "4",
    "lx_problem_points": "8"
   },
   "source": [
    "---\n",
    "## Assignment 2, PROBLEM 4\n",
    "Maximum Points = 8"
   ]
  },
  {
   "cell_type": "markdown",
   "id": "2e67892b",
   "metadata": {
    "deletable": false,
    "lx_assignment_number": "2",
    "lx_assignment_type": "ASSIGNMENT",
    "lx_assignment_type2print": "Assignment",
    "lx_problem_cell_type": "PROBLEM",
    "lx_problem_number": "4",
    "lx_problem_points": "8"
   },
   "source": [
    "\n",
    "## Random variable generation and transformation\n",
    "\n",
    "The purpose of this problem is to show that you can implement your own sampler, this will be built in the following three steps:\n",
    "\n",
    "1. [2p] Implement a Linear Congruential Generator where you tested out a good combination (a large $M$ with $a,b$ satisfying the Hull-Dobell (Thm 6.8)) of parameters. Follow the instructions in the code block.\n",
    "2. [2p] Using a generator construct random numbers from the uniform $[0,1]$ distribution.\n",
    "3. [4p] Using a uniform $[0,1]$ random generator, generate samples from \n",
    "\n",
    "$$p_0(x) = \\frac{\\pi}{2}|\\sin(2\\pi x)|, \\quad x \\in [0,1] \\enspace .$$\n",
    "\n",
    "Using the **Accept-Reject** sampler (**Algorithm 1** in TFDS notes) with sampling density given by the uniform $[0,1]$ distribution."
   ]
  },
  {
   "cell_type": "code",
   "execution_count": 26,
   "id": "530446bc",
   "metadata": {
    "deletable": false,
    "lx_assignment_number": "2",
    "lx_assignment_type": "ASSIGNMENT",
    "lx_assignment_type2print": "Assignment",
    "lx_problem_cell_type": "PROBLEM",
    "lx_problem_number": "4",
    "lx_problem_points": "8"
   },
   "outputs": [],
   "source": [
    "\n",
    "def problem4_LCG(size=None, seed = 0):\n",
    "    \"\"\"\n",
    "    A linear congruential generator that generates pseudo random numbers according to size.\n",
    "    \n",
    "    Parameters\n",
    "    -------------\n",
    "    size : an integer denoting how many samples should be produced\n",
    "    seed : the starting point of the LCG, i.e. u0 in the notes.\n",
    "    \n",
    "    Returns\n",
    "    -------------\n",
    "    out : a list of the pseudo random numbers\n",
    "    \"\"\"\n",
    "    \n",
    "\n",
    "    # Parameters for the LCG (these satisfy the Hull-Dobell theorem)\n",
    "    M = 2**31 - 1  # large modulus\n",
    "    a = 1103515245  # multiplier\n",
    "    b = 12345       # increment\n",
    "    \n",
    "    # Initializing the seed\n",
    "    u = seed\n",
    "    out = []\n",
    "    for _ in range(size):\n",
    "        u = (a * u + b) % M\n",
    "        out.append(u)\n",
    "    return out\n"
   ]
  },
  {
   "cell_type": "code",
   "execution_count": 27,
   "id": "8d215c5a",
   "metadata": {
    "deletable": false,
    "lx_assignment_number": "2",
    "lx_assignment_type": "ASSIGNMENT",
    "lx_assignment_type2print": "Assignment",
    "lx_problem_cell_type": "PROBLEM",
    "lx_problem_number": "4",
    "lx_problem_points": "8"
   },
   "outputs": [],
   "source": [
    "\n",
    "def problem4_uniform(generator=None, period = 1, size=None, seed=0):\n",
    "    \"\"\"\n",
    "    Takes a generator and produces samples from the uniform [0,1] distribution according\n",
    "    to size.\n",
    "    \n",
    "    Parameters\n",
    "    -------------\n",
    "    generator : a function of type generator(size,seed) and produces the same result as problem1_LCG, i.e. pseudo random numbers in the range {0,1,...,period-1}\n",
    "    period : the period of the generator\n",
    "    seed : the seed to be used in the generator provided\n",
    "    size : an integer denoting how many samples should be produced\n",
    "    \n",
    "    Returns\n",
    "    --------------\n",
    "    out : a list of the uniform pseudo random numbers\n",
    "    \"\"\"\n",
    "    # Alt taking the function above and normalize this to uniform format. \n",
    "    # lcg_numbers = linear_congruential_generator(seed, a, b, M, n)\n",
    "    # uniform_numbers = [x / M for x in lcg_numbers]  # Normalize to [0, 1)\n",
    "    # return uniform_numbers\n",
    "    \n",
    "   # Generate raw pseudo-random numbers\n",
    "    raw_numbers = generator(size=size, seed=seed)\n",
    "    # Normalize to [0,1]\n",
    "    out = [num / period for num in raw_numbers]\n",
    "    return out"
   ]
  },
  {
   "cell_type": "code",
   "execution_count": 28,
   "id": "15832284",
   "metadata": {
    "deletable": false,
    "lx_assignment_number": "2",
    "lx_assignment_type": "ASSIGNMENT",
    "lx_assignment_type2print": "Assignment",
    "lx_problem_cell_type": "PROBLEM",
    "lx_problem_number": "4",
    "lx_problem_points": "8"
   },
   "outputs": [],
   "source": [
    "import math\n",
    "def problem4_accept_reject(uniformGenerator=None, n_iterations=None, seed=0):\n",
    "    \"\"\"\n",
    "    Takes a generator that produces uniform pseudo random [0,1] numbers \n",
    "    and produces samples from (pi/2)*abs(sin(x*2*pi)) using an Accept-Reject\n",
    "    sampler with the uniform distribution as the proposal distribution.\n",
    "    Runs n_iterations\n",
    "    \n",
    "    Parameters\n",
    "    -------------\n",
    "    generator : a function of the type generator(size,seed) that produces uniform pseudo random\n",
    "    numbers from [0,1]\n",
    "    seed : the seed to be used in the generator provided\n",
    "    n_iterations : an integer denoting how many attempts should be made in the accept-reject sampler\n",
    "    \n",
    "    Returns\n",
    "    --------------\n",
    "    out : a list of the pseudo random numbers with the specified distribution\n",
    "    \"\"\"\n",
    "    \n",
    "    out = []  # List to store accepted samples\n",
    "    c = math.pi / 2  # Maximum value of p0(x) over [0,1]\n",
    "    \n",
    "    # Initialize the seed for the uniform generator\n",
    "    current_seed = seed\n",
    "\n",
    "    for _ in range(n_iterations):\n",
    "        # Generate U ~ Uniform(0,1) and V ~ Uniform(0,1) using the provided generator\n",
    "        u = uniformGenerator(size=1, seed=current_seed)[0]\n",
    "        v = uniformGenerator(size=1, seed=current_seed + 1)[0]\n",
    "        \n",
    "        # Increment the seed for each iteration to avoid repetition\n",
    "        current_seed += 2\n",
    "\n",
    "        # Check the acceptance condition\n",
    "        if v <= (math.pi / 2) * abs(math.sin(2 * math.pi * u)) / c:\n",
    "            out.append(u)  # Accept the sample\n",
    "\n",
    "    return out"
   ]
  },
  {
   "cell_type": "markdown",
   "id": "8dbf40a0",
   "metadata": {
    "deletable": false,
    "lx_assignment_number": "2",
    "lx_assignment_type": "ASSIGNMENT",
    "lx_assignment_type2print": "Assignment",
    "lx_problem_cell_type": "Test",
    "lx_problem_number": "4",
    "lx_problem_points": "8"
   },
   "source": [
    "---\n",
    "#### Local Test for Assignment 2, PROBLEM 4\n",
    "Evaluate cell below to make sure your answer is valid.                             You **should not** modify anything in the cell below when evaluating it to do a local test of                             your solution.\n",
    "You may need to include and evaluate code snippets from lecture notebooks in cells above to make the local test work correctly sometimes (see error messages for clues). This is meant to help you become efficient at recalling materials covered in lectures that relate to this problem. Such local tests will generally not be available in the exam."
   ]
  },
  {
   "cell_type": "code",
   "execution_count": 29,
   "id": "26cd1592",
   "metadata": {
    "deletable": false,
    "lx_assignment_number": "2",
    "lx_assignment_type": "ASSIGNMENT",
    "lx_assignment_type2print": "Assignment",
    "lx_problem_cell_type": "Test",
    "lx_problem_number": "4",
    "lx_problem_points": "8"
   },
   "outputs": [
    {
     "name": "stdout",
     "output_type": "stream",
     "text": [
      "LCG output: [1103527590, 944465040, 1695244727, 1008001095, 235077491, 776026401, 964188548, 19180611, 1753372583, 504528511]\n",
      "Uniform sampler [0.5138700783782965, 0.4398008065483537, 0.7894098422440746, 0.46938708772388615, 0.1094664871271078, 0.36136545304272577, 0.44898528067813503, 0.008931668013768115, 0.816477734510078, 0.23493939602511907]\n",
      "Accept-Reject sampler [0.5138700783782965, 0.5415987379577005, 0.5693273975371045, 0.5970560571165086, 0.6247847166959125, 0.6525133762753165, 0.6802420358547205, 0.7079706954341245, 0.7356993550135286, 0.7634280145929325, 0.7911566741723366, 0.8188853337517406, 0.8466139933311445, 0.8743426529105486, 0.9020713124899525]\n"
     ]
    }
   ],
   "source": [
    "\n",
    "# If you managed to solve all three parts you can test the following code to see if it runs\n",
    "# you have to change the period to match your LCG though, this is marked as XXX.\n",
    "# It is a very good idea to check these things using the histogram function in sagemath\n",
    "# try with a larger number of samples, up to 10000 should run\n",
    "\n",
    "print(\"LCG output: %s\" % problem4_LCG(size=10, seed = 1))\n",
    "\n",
    "period = 2**31 - 1\n",
    "\n",
    "print(\"Uniform sampler %s\" % problem4_uniform(generator=problem4_LCG, period = period, size=10, seed=1))\n",
    "\n",
    "uniform_sampler = lambda size,seed: problem4_uniform(generator=problem4_LCG, period = period, size=size, seed=seed)\n",
    "\n",
    "print(\"Accept-Reject sampler %s\" % problem4_accept_reject(uniformGenerator = uniform_sampler,n_iterations=20,seed=1))"
   ]
  },
  {
   "cell_type": "code",
   "execution_count": 30,
   "id": "5318f370",
   "metadata": {
    "deletable": false,
    "lx_assignment_number": "2",
    "lx_assignment_type": "ASSIGNMENT",
    "lx_assignment_type2print": "Assignment",
    "lx_problem_cell_type": "Test",
    "lx_problem_number": "4",
    "lx_problem_points": "8"
   },
   "outputs": [
    {
     "name": "stdout",
     "output_type": "stream",
     "text": [
      "Accept-Reject sampler [0.23796462709189137, 0.32383276483316237, 0.2590084917154736, 0.6484972199788831, 0.6820045605879779, 0.20985124453651727]\n"
     ]
    }
   ],
   "source": [
    "\n",
    "# If however you did not manage to implement either part 1 or part 2 but still want to check part 3, you can run the code below\n",
    "\n",
    "def testUniformGenerator(size,seed):\n",
    "    import random\n",
    "    random.seed(seed)\n",
    "    \n",
    "    return [random.uniform(0,1) for s in range(size)]\n",
    "\n",
    "print(\"Accept-Reject sampler %s\" % problem4_accept_reject(uniformGenerator=testUniformGenerator, n_iterations=20, seed=1))"
   ]
  }
 ],
 "metadata": {
  "kernelspec": {
   "display_name": "Python 3",
   "language": "python",
   "name": "python3"
  },
  "language_info": {
   "codemirror_mode": {
    "name": "ipython",
    "version": 3
   },
   "file_extension": ".py",
   "mimetype": "text/x-python",
   "name": "python",
   "nbconvert_exporter": "python",
   "pygments_lexer": "ipython3",
   "version": "3.13.0"
  },
  "lx_assignment_number": 2,
  "lx_course_instance": "2024",
  "lx_course_name": "Introduction to Data Science",
  "lx_course_number": "1MS041"
 },
 "nbformat": 4,
 "nbformat_minor": 5
}
