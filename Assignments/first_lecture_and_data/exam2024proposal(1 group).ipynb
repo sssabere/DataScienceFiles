{
 "cells": [
  {
   "cell_type": "code",
   "execution_count": 39,
   "metadata": {},
   "outputs": [],
   "source": [
    "import numpy as np\n",
    "\n",
    "# Define the target distribution f(x)\n",
    "def f(x):\n",
    "    if x <= 0:\n",
    "        return 0\n",
    "    elif 0 < x < 1:\n",
    "        return np.exp(x**2 - 1)\n",
    "    else:\n",
    "        return 1\n",
    "\n",
    "# Define the proposal distribution g(x)\n",
    "# Here we use a uniform distribution between 0 and 1\n",
    "def g(x):\n",
    "    return 1 if 0 <= x <= 1 else 0\n",
    "\n",
    "# Implement rejection sampling\n",
    "def problem1_inversion(n_samples=100000):\n",
    "    samples = []\n",
    "    M = np.exp(1 - 1)  # Max value of f(x) in the interval (0, 1)\n",
    "    \n",
    "    while len(samples) < n_samples:\n",
    "        # Sample from the proposal distribution g(x) (uniform between 0 and 1)\n",
    "        x = np.random.uniform(0, 1)\n",
    "        # Sample a uniform random variable U\n",
    "        U = np.random.uniform(0, 1)\n",
    "        # Accept or reject the sample based on the ratio f(x) / (M * g(x))\n",
    "        if U <= f(x) / (M * g(x)):\n",
    "            samples.append(x)\n",
    "    \n",
    "    return np.array(samples)\n",
    "\n",
    "# Generate samples\n",
    "problem1_samples = problem1_inversion(n_samples=100000)\n"
   ]
  },
  {
   "cell_type": "code",
   "execution_count": 40,
   "metadata": {},
   "outputs": [
    {
     "name": "stdout",
     "output_type": "stream",
     "text": [
      "[0.49466615 0.43595684 0.98715808 0.13127794 0.56565926 0.99278766\n",
      " 0.73664826 0.36446645 0.92894594 0.55533752]\n"
     ]
    }
   ],
   "source": [
    "print(problem1_samples[:10])"
   ]
  },
  {
   "cell_type": "code",
   "execution_count": 2,
   "metadata": {},
   "outputs": [
    {
     "name": "stdout",
     "output_type": "stream",
     "text": [
      "[0.2102262  0.26646508 0.9624746  0.10386657 0.75503485 0.41203626\n",
      " 0.76550902 0.99276458 0.64953181 0.76390458]\n"
     ]
    }
   ],
   "source": [
    "import numpy as np\n",
    "\n",
    "# Define the target distribution F[x]\n",
    "def target_distribution(x):\n",
    "    if x <= 0:\n",
    "        return 0\n",
    "    elif 0 < x < 1:\n",
    "        return np.exp(x**2 - 1)\n",
    "    else:\n",
    "        return 1\n",
    "\n",
    "# Define the proposal distribution g(x), which is uniform in [0, 1]\n",
    "def proposal_distribution():\n",
    "    return np.random.uniform(0, 1)\n",
    "\n",
    "# Rejection sampling function to generate samples\n",
    "def generate_samples(n_samples=100000):\n",
    "    samples = []\n",
    "    M = np.exp(1 - 1)  # Maximum value of F[x] in the range (0, 1)\n",
    "\n",
    "    while len(samples) < n_samples:\n",
    "        x = proposal_distribution()  # Propose a random sample from g(x)\n",
    "        U = np.random.uniform(0, 1)  # Random decision threshold\n",
    "\n",
    "        # Accept the sample if it falls under the target distribution curve\n",
    "        if U <= target_distribution(x) / M:\n",
    "            samples.append(x)\n",
    "\n",
    "    return np.array(samples)\n",
    "\n",
    "# Generate 100,000 samples and store in problem1_samples\n",
    "problem1_samples = generate_samples(n_samples=100000)\n",
    "\n",
    "# Print the first 10 samples for verification\n",
    "print(problem1_samples[:10])\n"
   ]
  },
  {
   "cell_type": "code",
   "execution_count": 3,
   "metadata": {},
   "outputs": [
    {
     "data": {
      "text/plain": [
       "[<matplotlib.lines.Line2D at 0x1d6cd3363b0>]"
      ]
     },
     "execution_count": 3,
     "metadata": {},
     "output_type": "execute_result"
    },
    {
     "data": {
      "image/png": "[encoded data removed]",
      "text/plain": [
       "<Figure size 640x480 with 1 Axes>"
      ]
     },
     "metadata": {},
     "output_type": "display_data"
    }
   ],
   "source": [
    "import matplotlib.pyplot as plt\n",
    "plt.hist(problem1_samples, bins=50, density=True, alpha=0.6, label=\"Generated Samples\")\n",
    "\n",
    "# Define the true density function for comparison\n",
    "x_vals = np.linspace(0, 1, 1000)\n",
    "true_density = np.exp(x_vals**2 - 1)\n",
    "\n",
    "# Plot the true density\n",
    "plt.plot(x_vals, true_density, color=\"red\", label=\"True Density\")"
   ]
  },
  {
   "cell_type": "code",
   "execution_count": 4,
   "metadata": {},
   "outputs": [
    {
     "name": "stdout",
     "output_type": "stream",
     "text": [
      "The approximate value of the integral is: 0.568199859193669\n"
     ]
    }
   ],
   "source": [
    "# Function to calculate the integral using Monte Carlo integration\n",
    "def monte_carlo_integral(samples):\n",
    "    # Calculate the function values for the integral\n",
    "    function_values = np.sin(samples) * np.exp(samples**2) / (np.e - 1)\n",
    "    \n",
    "    # Calculate the average of the function values\n",
    "    integral_estimate = np.mean(function_values)\n",
    "    \n",
    "    # Since the integration range is [0, 1], multiply by 1 (the length of the interval)\n",
    "    return integral_estimate\n",
    "\n",
    "# Calculate the integral using the generated samples\n",
    "problem1_integral = monte_carlo_integral(problem1_samples)\n",
    "\n",
    "# Print the result\n",
    "print(\"The approximate value of the integral is:\", problem1_integral)\n",
    "\n"
   ]
  },
  {
   "cell_type": "code",
   "execution_count": 5,
   "metadata": {},
   "outputs": [
    {
     "name": "stdout",
     "output_type": "stream",
     "text": [
      "The 95% confidence interval is: (0.5639051651102016, 0.5724945532771364)\n"
     ]
    }
   ],
   "source": [
    "import numpy as np\n",
    "\n",
    "# Given values\n",
    "n_samples = len(problem1_samples)  # Number of samples\n",
    "delta = 0.05  # 95% confidence level\n",
    "\n",
    "# Hoeffding's epsilon calculation\n",
    "epsilon = np.sqrt(np.log(2 / delta) / (2 * n_samples))\n",
    "\n",
    "# Calculate the 95% confidence interval\n",
    "lower_bound = problem1_integral - epsilon\n",
    "upper_bound = problem1_integral + epsilon\n",
    "\n",
    "# Store the result as a tuple in problem1_interval\n",
    "problem1_interval = (lower_bound, upper_bound)\n",
    "\n",
    "# Display the result\n",
    "print(\"The 95% confidence interval is:\", problem1_interval)\n"
   ]
  },
  {
   "cell_type": "code",
   "execution_count": 6,
   "metadata": {},
   "outputs": [
    {
     "name": "stdout",
     "output_type": "stream",
     "text": [
      "[0.04624208 0.04624076 0.04923344 0.04685413 0.04476751 0.0492407\n",
      " 0.043719   0.04933454 0.04973464 0.04895039]\n"
     ]
    }
   ],
   "source": [
    "import numpy as np\n",
    "\n",
    "# Vectorized version of the target distribution F[x]\n",
    "def target_distribution_2_vectorized(x):\n",
    "    # Calculate F[x] for an array of values\n",
    "    return np.where((x > 0) & (x < 1 / 20), 20 * x * np.exp(20 - 1 / x), 0)\n",
    "\n",
    "# Fully vectorized rejection sampling for the second distribution\n",
    "def problem1_inversion_2_fully_vectorized(n_samples=100000):\n",
    "    samples = []\n",
    "    M = 20 * (1 / 20) * np.exp(20 - 1 / (1 / 20))  # Max value approximation\n",
    "\n",
    "    while len(samples) < n_samples:\n",
    "        # Generate a large batch of candidate samples from the proposal distribution\n",
    "        x_batch = np.random.exponential(scale=1 / 20, size=n_samples)\n",
    "        x_batch = x_batch[x_batch < 1 / 20]  # Keep only samples within the valid range\n",
    "\n",
    "        # Generate a batch of uniform random thresholds\n",
    "        U_batch = np.random.uniform(0, 1, size=len(x_batch))\n",
    "\n",
    "        # Calculate acceptance ratios using vectorized target distribution\n",
    "        acceptance_ratio = target_distribution_2_vectorized(x_batch) / (M * 20 * np.exp(-20 * x_batch))\n",
    "\n",
    "        # Accept samples based on the acceptance ratio\n",
    "        accepted_samples = x_batch[U_batch <= acceptance_ratio]\n",
    "        samples.extend(accepted_samples.tolist())\n",
    "\n",
    "    # Return exactly n_samples\n",
    "    return np.array(samples[:n_samples])\n",
    "\n",
    "# Generate 100,000 samples\n",
    "problem1_inversion_2_samples = problem1_inversion_2_fully_vectorized(n_samples=100000)\n",
    "\n",
    "# Print the first 10 samples to verify\n",
    "print(problem1_inversion_2_samples[:10])\n",
    "\n"
   ]
  },
  {
   "cell_type": "code",
   "execution_count": 7,
   "metadata": {},
   "outputs": [
    {
     "name": "stdout",
     "output_type": "stream",
     "text": [
      "Good, your problem1_inversion returns a numpy array\n",
      "Good, your problem1_samples is a numpy array\n",
      "Good, your problem1_integral is a float\n",
      "Good, your problem1_interval is a tuple or list of length 2\n",
      "Try again. You should return a numpy array from problem1_inversion_2\n"
     ]
    }
   ],
   "source": [
    "import numpy as np\n",
    "\n",
    "try:\n",
    "    assert(isinstance(problem1_inversion(10), np.ndarray))\n",
    "except:\n",
    "    print(\"Try again. You should return a numpy array from problem1_inversion\")\n",
    "else:\n",
    "    print(\"Good, your problem1_inversion returns a numpy array\")\n",
    "\n",
    "try:\n",
    "    assert(isinstance(problem1_samples, np.ndarray))\n",
    "except:\n",
    "    print(\"Try again. your problem1_samples is not a numpy array\")\n",
    "else:\n",
    "    print(\"Good, your problem1_samples is a numpy array\")\n",
    "\n",
    "try:\n",
    "    assert(isinstance(problem1_integral, float))\n",
    "except:\n",
    "    print(\"Try again. your problem1_integral is not a float\")\n",
    "else:\n",
    "    print(\"Good, your problem1_integral is a float\")\n",
    "\n",
    "try:\n",
    "    assert(isinstance(problem1_interval, list) or isinstance(problem1_interval, tuple)), \"problem1_interval not a tuple or list\"\n",
    "    assert(len(problem1_interval) == 2), \"problem1_interval does not have length 2, it should have a lower bound and an upper bound\"\n",
    "except Exception as e:\n",
    "    print(e)\n",
    "else:\n",
    "    print(\"Good, your problem1_interval is a tuple or list of length 2\")\n",
    "\n",
    "try:\n",
    "    assert(isinstance(problem1_inversion_2(10), np.ndarray))\n",
    "except:\n",
    "    print(\"Try again. You should return a numpy array from problem1_inversion_2\")\n",
    "else:\n",
    "    print(\"Good, your problem1_inversion_2 returns a numpy array\")\n"
   ]
  },
  {
   "cell_type": "markdown",
   "metadata": {},
   "source": [
    "SABERE´S TRY "
   ]
  },
  {
   "cell_type": "code",
   "execution_count": 60,
   "metadata": {},
   "outputs": [],
   "source": [
    "# Part 1\n",
    "\n",
    "import numpy as np\n",
    "def f_x(x):\n",
    "      if 0<x<1:\n",
    "         return  np.exp(x**2 - 1)\n",
    "      # (2*x* (np.exp(x**2))) / (np.exp - 1)\n",
    "      else:\n",
    "         return 0 \n",
    "      \n",
    "      # 2. Proposal distribution g(x) = Uniform(0, 1), so g(x) = 1 for 0 <= x <= 1\n",
    "def g_x(x):\n",
    "       \n",
    " if 0 <= x <= 1:\n",
    "            return 1\n",
    " else:\n",
    "            return 0\n",
    "        \n",
    "def problem1_inversion(n_samples= 10000):\n",
    "\n",
    " # Distribution from part 1\n",
    " # write the code in this function to produce samples from the distribution␣ →in the assignment\n",
    " # Make sure you choose a good sampling distribution to avoid unnecessary␣ →rejections\n",
    " # Return a numpy array of length n_samples\n",
    " # M => f_x M is equal to max value of f_x \n",
    "    samples=[]\n",
    "    M =np.exp(1 - 1)\n",
    "   #  (2* np.exp(2))/(np.exp(1-1))\n",
    "\n",
    "    #  1. derivate F_X\n",
    "    \n",
    "      #3. Rejection sampling loop\n",
    "\n",
    "    while len(samples) < n_samples:\n",
    "        # Step 1: Sample x from g(x)\n",
    "        x = np.random.uniform(0, 1)\n",
    "\n",
    "        # Step 2: Compute acceptance ratio r(x) = f(x) / (M * g(x))\n",
    "        r_x = f_x(x) / (M * g_x(x))\n",
    "\n",
    "        # Step 3: Draw U from Uniform(0, 1)\n",
    "        U = np.random.uniform(0, 1)\n",
    "\n",
    "        # Step 4: Accept or reject the sample\n",
    "        if U <= r_x:\n",
    "            samples.append(x)\n",
    "\n",
    "    # Return the accepted samples as a numpy array\n",
    "    return np.array(samples)\n",
    "\n",
    "#  # Part 2\n"
   ]
  },
  {
   "cell_type": "code",
   "execution_count": 61,
   "metadata": {},
   "outputs": [
    {
     "name": "stdout",
     "output_type": "stream",
     "text": [
      "[0.80103421 0.80803528 0.77687592 0.71306215 0.11140304 0.03771317\n",
      " 0.43691755 0.90780834 0.92652796 0.82714405]\n"
     ]
    }
   ],
   "source": [
    "problem1_samples =  problem1_inversion(10000)\n",
    "print(problem1_samples[:10])"
   ]
  },
  {
   "cell_type": "code",
   "execution_count": 33,
   "metadata": {},
   "outputs": [
    {
     "ename": "TypeError",
     "evalue": "'function' object is not subscriptable",
     "output_type": "error",
     "traceback": [
      "\u001b[1;31m---------------------------------------------------------------------------\u001b[0m",
      "\u001b[1;31mTypeError\u001b[0m                                 Traceback (most recent call last)",
      "Cell \u001b[1;32mIn[33], line 1\u001b[0m\n\u001b[1;32m----> 1\u001b[0m \u001b[38;5;28mprint\u001b[39m(\u001b[43mproblem1_samples\u001b[49m\u001b[43m[\u001b[49m\u001b[43m:\u001b[49m\u001b[38;5;241;43m10\u001b[39;49m\u001b[43m]\u001b[49m)\n",
      "\u001b[1;31mTypeError\u001b[0m: 'function' object is not subscriptable"
     ]
    }
   ],
   "source": []
  }
 ],
 "metadata": {
  "kernelspec": {
   "display_name": "Python 3",
   "language": "python",
   "name": "python3"
  },
  "language_info": {
   "codemirror_mode": {
    "name": "ipython",
    "version": 3
   },
   "file_extension": ".py",
   "mimetype": "text/x-python",
   "name": "python",
   "nbconvert_exporter": "python",
   "pygments_lexer": "ipython3",
   "version": "3.13.0"
  }
 },
 "nbformat": 4,
 "nbformat_minor": 2
}
