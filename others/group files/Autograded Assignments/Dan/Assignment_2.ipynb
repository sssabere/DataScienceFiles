{
 "cells": [
  {
   "cell_type": "markdown",
   "id": "bb5f5811",
   "metadata": {
    "deletable": false
   },
   "source": [
    "\n",
    "# Assignment 2 for Course 1MS041\n",
    "Make sure you pass the `# ... Test` cells and\n",
    " submit your solution notebook in the corresponding assignment on the course website. You can submit multiple times before the deadline and your highest score will be used."
   ]
  },
  {
   "cell_type": "markdown",
   "id": "7fbf36f2",
   "metadata": {
    "deletable": false,
    "lx_assignment_number": "2",
    "lx_assignment_type": "ASSIGNMENT",
    "lx_assignment_type2print": "Assignment",
    "lx_problem_cell_type": "PROBLEM",
    "lx_problem_number": "1",
    "lx_problem_points": "8"
   },
   "source": [
    "---\n",
    "## Assignment 2, PROBLEM 1\n",
    "Maximum Points = 8"
   ]
  },
  {
   "cell_type": "markdown",
   "id": "db58f10b",
   "metadata": {
    "deletable": false,
    "lx_assignment_number": "2",
    "lx_assignment_type": "ASSIGNMENT",
    "lx_assignment_type2print": "Assignment",
    "lx_problem_cell_type": "PROBLEM",
    "lx_problem_number": "1",
    "lx_problem_points": "8"
   },
   "source": [
    "\n",
    "A courier company operates a fleet of delivery trucks that make deliveries to different parts of the city. The trucks are equipped with GPS tracking devices that record the location of each truck at regular intervals. The locations are divided into three regions: downtown, the suburbs, and the countryside. The following table shows the probabilities of a truck transitioning between these regions at each time step:\n",
    "\n",
    "| Current region | Probability of transitioning to downtown | Probability of transitioning to the suburbs | Probability of transitioning to the countryside |\n",
    "|----------------|--------------------------------------------|-----------------------------------------------|------------------------------------------------|\n",
    "| Downtown       | 0.3                                      | 0.4                                           | 0.3                                            |\n",
    "| Suburbs        | 0.2                                      | 0.5                                           | 0.3                                            |\n",
    "| Countryside    | 0.4                                      | 0.3                                           | 0.3                                            |\n",
    "\n",
    "1. If a truck is currently in the suburbs, what is the probability that it will be in the downtown region after two time steps? [1.5p]\n",
    "2. If a truck is currently in the suburbs, what is the probability that it will be in the downtown region **the first time** after two time steps? [1.5p]\n",
    "3. Is this Markov chain irreducible? [1.5p]\n",
    "4. What is the stationary distribution? [1.5p]\n",
    "5. Advanced question: What is the expected number of steps until the first time one enters the downtown region having started in the suburbs region. Hint: to get within 1 decimal point, it is enough to compute the probabilities for hitting times below 30. [2p]\n",
    "\n"
   ]
  },
  {
   "metadata": {
    "ExecuteTime": {
     "end_time": "2025-01-11T16:16:48.782519Z",
     "start_time": "2025-01-11T16:16:48.777933Z"
    }
   },
   "cell_type": "code",
   "source": [
    "# Part 1\n",
    "import numpy as np\n",
    "\n",
    "P = np.array([\n",
    "    [0.3, 0.4, 0.3],\n",
    "    [0.2, 0.5, 0.3],\n",
    "    [0.4, 0.3, 0.3]\n",
    "])\n",
    "P_squared = np.linalg.matrix_power(P, 2)\n",
    "\n",
    "# Fill in the answer to part 1 below as a decimal number\n",
    "problem1_p1 = P_squared[1, 0]"
   ],
   "id": "8f690a873042b682",
   "outputs": [],
   "execution_count": 44
  },
  {
   "metadata": {
    "ExecuteTime": {
     "end_time": "2025-01-11T16:16:48.802308Z",
     "start_time": "2025-01-11T16:16:48.800193Z"
    }
   },
   "cell_type": "code",
   "source": [
    "# Part 2\n",
    "\n",
    "# Fill in the answer to part 2 below as a decimal number\n",
    "problem1_p2 = 0.22"
   ],
   "id": "959f22639a98a946",
   "outputs": [],
   "execution_count": 45
  },
  {
   "metadata": {
    "ExecuteTime": {
     "end_time": "2025-01-11T16:16:48.808154Z",
     "start_time": "2025-01-11T16:16:48.806153Z"
    }
   },
   "cell_type": "code",
   "source": [
    "# Part 3\n",
    "\n",
    "# Fill in the answer to part 3 below as a boolean\n",
    "problem1_irreducible = True"
   ],
   "id": "d7fba63562fb8b35",
   "outputs": [],
   "execution_count": 46
  },
  {
   "metadata": {
    "ExecuteTime": {
     "end_time": "2025-01-11T16:16:48.820574Z",
     "start_time": "2025-01-11T16:16:48.816614Z"
    }
   },
   "cell_type": "code",
   "source": [
    "# Part 4\n",
    "\n",
    "# Fill in the answer to part 4 below\n",
    "# the answer should be a numpy array of length 3\n",
    "# make sure that the entries sums to 1!\n",
    "# Finding eigenvector corresponding to lambda=1\n",
    "\n",
    "from scipy.linalg import solve\n",
    "\n",
    "A = np.array([\n",
    "    [0.3 - 1, 0.2, 0.4],\n",
    "    [0.4, 0.5 - 1, 0.3],\n",
    "    [0.3, 0.3, 0.3 - 1]\n",
    "])\n",
    "\n",
    "# Since we have the constraint that the sum of probabilities is 1, we add that row\n",
    "A = np.vstack([A, [1, 1, 1]])\n",
    "b = np.array([0, 0, 0, 1])  # Right side of the equations\n",
    "\n",
    "# Solve the linear system\n",
    "pi = solve(A.T @ A, A.T @ b)  # Use least squares to handle any redundancy\n",
    "problem1_stationary = pi\n",
    "pi"
   ],
   "id": "e9df70c8f7f8fa10",
   "outputs": [
    {
     "data": {
      "text/plain": [
       "array([0.28888889, 0.41111111, 0.3       ])"
      ]
     },
     "execution_count": 47,
     "metadata": {},
     "output_type": "execute_result"
    }
   ],
   "execution_count": 47
  },
  {
   "metadata": {
    "ExecuteTime": {
     "end_time": "2025-01-11T16:16:48.831784Z",
     "start_time": "2025-01-11T16:16:48.828392Z"
    }
   },
   "cell_type": "code",
   "source": [
    "# Part 5\n",
    "\n",
    "# Fill in the answer to part 5 below\n",
    "# That is, the expected number of steps as a decimal number\n",
    "# Initialize the hitting probabilities for each step\n",
    "max_steps = 30\n",
    "# Start in the suburbs state (index 1), looking to reach downtown state (index 0)\n",
    "initial_state = np.array([0, 1, 0])  # start from the suburbs\n",
    "target_index = 0  # downtown index\n",
    "\n",
    "# Array to store the probability of first hitting downtown at each step\n",
    "hitting_probabilities = []\n",
    "\n",
    "current_state = initial_state.copy()\n",
    "for step in range(1, max_steps + 1):\n",
    "    # Multiply by P to move one step forward in the Markov process\n",
    "    next_state = current_state @ P\n",
    "    # Probability of first hitting downtown at this step is the probability of being downtown now\n",
    "    # minus the probability of already having been downtown in prior steps\n",
    "    hitting_probability = next_state[target_index] - (hitting_probabilities[-1] if hitting_probabilities else 0)\n",
    "    hitting_probabilities.append(hitting_probability)\n",
    "    # Move forward in the process for next iteration\n",
    "    current_state = next_state\n",
    "\n",
    "# Expected hitting time: sum of (step * probability of first hitting at that step)\n",
    "expected_hitting_time = sum(step * hitting_probabilities[step - 1] for step in range(1, max_steps + 1))\n",
    "expected_hitting_time\n",
    "\n",
    "problem1_ET = 3.8"
   ],
   "id": "9c8fac7113f91ed4",
   "outputs": [],
   "execution_count": 48
  },
  {
   "cell_type": "markdown",
   "id": "4389563e",
   "metadata": {
    "deletable": false,
    "lx_assignment_number": "2",
    "lx_assignment_type": "ASSIGNMENT",
    "lx_assignment_type2print": "Assignment",
    "lx_problem_cell_type": "PROBLEM",
    "lx_problem_number": "2",
    "lx_problem_points": "4"
   },
   "source": [
    "---\n",
    "## Assignment 2, PROBLEM 2\n",
    "Maximum Points = 4"
   ]
  },
  {
   "cell_type": "markdown",
   "id": "d9a825d1",
   "metadata": {
    "deletable": false,
    "lx_assignment_number": "2",
    "lx_assignment_type": "ASSIGNMENT",
    "lx_assignment_type2print": "Assignment",
    "lx_problem_cell_type": "PROBLEM",
    "lx_problem_number": "2",
    "lx_problem_points": "4"
   },
   "source": [
    "\n",
    "Use the **Multi-dimensional Constrained Optimisation** example (in `07-Optimization.ipynb`) to numerically find the MLe for the mean and variance parameter based on `normallySimulatedDataSamples`, an array obtained by a specific simulation of $30$ IID samples from the $Normal(10,2)$ random variable.\n",
    "\n",
    "Recall that $Normal(\\mu, \\sigma^2)$ RV has the probability density function given by:\n",
    "\n",
    "$$\n",
    "f(x ;\\mu, \\sigma) = \\displaystyle\\frac{1}{\\sigma\\sqrt{2\\pi}}\\exp\\left(\\frac{-1}{2\\sigma^2}(x-\\mu)^2\\right)\n",
    "$$\n",
    "\n",
    "The two parameters, $\\mu \\in \\mathbb{R} := (-\\infty,\\infty)$ and $\\sigma \\in (0,\\infty)$, are sometimes referred to as the location and scale parameters.\n",
    "\n",
    "You know that the log likelihood function for $n$ IID samples from a Normal RV with parameters $\\mu$ and $\\sigma$ simply follows from $\\sum_{i=1}^n \\log(f(x_i; \\mu,\\sigma))$, based on the IID assumption. \n",
    "\n",
    "NOTE: When setting bounding boxes for $\\mu$ and $\\sigma$ try to start with some guesses like $[-20,20]$ and $[0.1,5.0]$ and make it larger if the solution is at the boundary. Making the left bounding-point for $\\sigma$ too close to $0.0$ will cause division by zero Warnings. Other numerical instabilities can happen in such iterative numerical solutions to the MLe. You need to be patient and learn by trial-and-error. You will see the mathematical theory in more details in a future course in scientific computing/optimisation. So don't worry too much now except learning to use it for our problems.  "
   ]
  },
  {
   "metadata": {
    "ExecuteTime": {
     "end_time": "2025-01-11T16:16:48.844993Z",
     "start_time": "2025-01-11T16:16:48.839277Z"
    }
   },
   "cell_type": "code",
   "source": [
    "import numpy as np\n",
    "from scipy import optimize\n",
    "\n",
    "# do NOT change the next three lines\n",
    "np.random.seed(123456)  # set seed\n",
    "# simulate 30 IID samples drawn from Normal(10,2)RV\n",
    "normallySimulatedDataSamples = np.random.normal(10, 2, 30)\n",
    "\n",
    "\n",
    "# define the negative log likelihood function you want to minimise by editing XXX\n",
    "def negLogLklOfIIDNormalSamples(parameters):\n",
    "    '''return the -log(likelihood) of normallySimulatedDataSamples with mean and var parameters'''\n",
    "    mu_param = parameters[0]\n",
    "    sigma_param = parameters[1]\n",
    "    n = len(normallySimulatedDataSamples)\n",
    "    neg_log_likelihood = (n / 2) * np.log(2 * np.pi) + (n / 2) * np.log(sigma_param ** 2) + (\n",
    "                1 / (2 * sigma_param ** 2)) * np.sum((normallySimulatedDataSamples - mu_param) ** 2)\n",
    "    return neg_log_likelihood\n",
    "\n",
    "\n",
    "# you should only change XXX below and not anything else\n",
    "parameter_bounding_box = ((-10, 10), (0.1, 5))  # specify the constraints for each parameter - some guess work...\n",
    "initial_arguments = np.array([10, 2])  # point in 2D to initialise the minimize algorithm\n",
    "result_problem2_opt = optimize.minimize(negLogLklOfIIDNormalSamples, initial_arguments, bounds=parameter_bounding_box)\n",
    "# call the minimize method above finally! you need to play a bit to get initial conditions and bounding box ok\n",
    "result_problem2_opt\n"
   ],
   "id": "a6a03efb2b5076ce",
   "outputs": [
    {
     "data": {
      "text/plain": [
       "  message: CONVERGENCE: REL_REDUCTION_OF_F_<=_FACTR*EPSMCH\n",
       "  success: True\n",
       "   status: 0\n",
       "      fun: 58.631387282479764\n",
       "        x: [ 9.269e+00  1.708e+00]\n",
       "      nit: 5\n",
       "      jac: [ 9.237e-06 -6.750e-05]\n",
       "     nfev: 27\n",
       "     njev: 9\n",
       " hess_inv: <2x2 LbfgsInvHessProduct with dtype=float64>"
      ]
     },
     "execution_count": 49,
     "metadata": {},
     "output_type": "execute_result"
    }
   ],
   "execution_count": 49
  },
  {
   "cell_type": "markdown",
   "id": "948157f2",
   "metadata": {
    "deletable": false,
    "lx_assignment_number": "2",
    "lx_assignment_type": "ASSIGNMENT",
    "lx_assignment_type2print": "Assignment",
    "lx_problem_cell_type": "PROBLEM",
    "lx_problem_number": "3",
    "lx_problem_points": "4"
   },
   "source": [
    "---\n",
    "## Assignment 2, PROBLEM 3\n",
    "Maximum Points = 4"
   ]
  },
  {
   "cell_type": "markdown",
   "id": "0b9c787c",
   "metadata": {
    "deletable": false,
    "lx_assignment_number": "2",
    "lx_assignment_type": "ASSIGNMENT",
    "lx_assignment_type2print": "Assignment",
    "lx_problem_cell_type": "PROBLEM",
    "lx_problem_number": "3",
    "lx_problem_points": "4"
   },
   "source": [
    "\n",
    "\n",
    "Derive the maximum likelihood estimate for $n$ IID samples from a random variable with the following probability density function:\n",
    "$$\n",
    "f(x; \\lambda) = \\frac{1}{24} \\lambda^5 x^4 \\exp(-\\lambda x), \\qquad \\text{ where, } \\lambda>0, x > 0\n",
    "$$\n",
    "\n",
    "You can solve the MLe by hand (using pencil paper or using key-strokes). Present your solution as the return value of a function called `def MLeForAssignment2Problem3(x)`, where `x` is a list of $n$ input data points."
   ]
  },
  {
   "metadata": {
    "ExecuteTime": {
     "end_time": "2025-01-11T16:16:48.854783Z",
     "start_time": "2025-01-11T16:16:48.852675Z"
    }
   },
   "cell_type": "code",
   "source": [
    "import numpy as np\n",
    "\n",
    "\n",
    "# do not change the name of the function, just replace XXX with the appropriate expressions for the MLe\n",
    "def MLeForAssignment2Problem3(x):\n",
    "    '''write comment of what this function does'''\n",
    "    n = len(x)\n",
    "    return 5 * n / np.sum(x)"
   ],
   "id": "b6254dfbf72c4660",
   "outputs": [],
   "execution_count": 50
  },
  {
   "cell_type": "markdown",
   "id": "84e51e44",
   "metadata": {
    "deletable": false,
    "lx_assignment_number": "2",
    "lx_assignment_type": "ASSIGNMENT",
    "lx_assignment_type2print": "Assignment",
    "lx_problem_cell_type": "PROBLEM",
    "lx_problem_number": "4",
    "lx_problem_points": "8"
   },
   "source": [
    "---\n",
    "## Assignment 2, PROBLEM 4\n",
    "Maximum Points = 8"
   ]
  },
  {
   "cell_type": "markdown",
   "id": "2e67892b",
   "metadata": {
    "deletable": false,
    "lx_assignment_number": "2",
    "lx_assignment_type": "ASSIGNMENT",
    "lx_assignment_type2print": "Assignment",
    "lx_problem_cell_type": "PROBLEM",
    "lx_problem_number": "4",
    "lx_problem_points": "8"
   },
   "source": [
    "\n",
    "## Random variable generation and transformation\n",
    "\n",
    "The purpose of this problem is to show that you can implement your own sampler, this will be built in the following three steps:\n",
    "\n",
    "1. [2p] Implement a Linear Congruential Generator where you tested out a good combination (a large $M$ with $a,b$ satisfying the Hull-Dobell (Thm 6.8)) of parameters. Follow the instructions in the code block.\n",
    "2. [2p] Using a generator construct random numbers from the uniform $[0,1]$ distribution.\n",
    "3. [4p] Using a uniform $[0,1]$ random generator, generate samples from \n",
    "\n",
    "$$p_0(x) = \\frac{\\pi}{2}|\\sin(2\\pi x)|, \\quad x \\in [0,1] \\enspace .$$\n",
    "\n",
    "Using the **Accept-Reject** sampler (**Algorithm 1** in TFDS notes) with sampling density given by the uniform $[0,1]$ distribution."
   ]
  },
  {
   "metadata": {
    "ExecuteTime": {
     "end_time": "2025-01-11T16:16:48.865129Z",
     "start_time": "2025-01-11T16:16:48.862513Z"
    }
   },
   "cell_type": "code",
   "source": [
    "from math import gcd\n",
    "from sympy.ntheory import primefactors as prime_factors\n",
    "\n",
    "\n",
    "def problem4_LCG(size=None, seed=0):\n",
    "    m = 123123\n",
    "    a = 3 * 7 * 11 * 13 * 41 + 1\n",
    "    b = 202\n",
    "    x = seed\n",
    "    retValue = [x % m]\n",
    "    for i in range(0, b + 1, 1):\n",
    "        x = (a * x + b) % m\n",
    "        retValue.append(x)\n",
    "    return retValue"
   ],
   "id": "93d5bf7e0411c6be",
   "outputs": [],
   "execution_count": 51
  },
  {
   "metadata": {
    "ExecuteTime": {
     "end_time": "2025-01-11T16:16:48.939996Z",
     "start_time": "2025-01-11T16:16:48.871715Z"
    }
   },
   "cell_type": "code",
   "source": [
    "from matplotlib import pyplot as plt\n",
    "\n",
    "\n",
    "def problem4_uniform(generator=problem4_LCG(seed=0), period=2147483648, size=None, seed=0):\n",
    "    \"\"\"\n",
    "    Takes a generator and produces samples from the uniform [0,1] distribution according\n",
    "    to size.\n",
    "    \n",
    "    Parameters\n",
    "    -------------\n",
    "    generator : a function of type generator(size,seed) and produces the same result as problem1_LCG, i.e. pseudo random numbers in the range {0,1,...,period-1}\n",
    "    period : the period of the generator\n",
    "    seed : the seed to be used in the generator provided\n",
    "    size : an integer denoting how many samples should be produced\n",
    "    \n",
    "    Returns\n",
    "    --------------\n",
    "    out : a list of the uniform pseudo random numbers\n",
    "    \"\"\"\n",
    "    LCG = problem4_LCG(seed=seed)\n",
    "    scaledLCG = [x / max(problem4_LCG(seed=0)) for x in LCG]\n",
    "\n",
    "    return scaledLCG\n",
    "\n",
    "\n",
    "ScaledLCG = problem4_uniform(generator=problem4_LCG, period=256)\n",
    "\n",
    "plt.hist(ScaledLCG, bins=40)"
   ],
   "id": "ec495d1aeda85b85",
   "outputs": [
    {
     "data": {
      "text/plain": [
       "(array([6., 5., 5., 5., 5., 5., 5., 5., 5., 5., 5., 5., 5., 6., 5., 5., 5.,\n",
       "        5., 5., 5., 5., 5., 5., 5., 5., 5., 6., 5., 5., 5., 5., 5., 5., 5.,\n",
       "        5., 5., 5., 5., 5., 6.]),\n",
       " array([0.   , 0.025, 0.05 , 0.075, 0.1  , 0.125, 0.15 , 0.175, 0.2  ,\n",
       "        0.225, 0.25 , 0.275, 0.3  , 0.325, 0.35 , 0.375, 0.4  , 0.425,\n",
       "        0.45 , 0.475, 0.5  , 0.525, 0.55 , 0.575, 0.6  , 0.625, 0.65 ,\n",
       "        0.675, 0.7  , 0.725, 0.75 , 0.775, 0.8  , 0.825, 0.85 , 0.875,\n",
       "        0.9  , 0.925, 0.95 , 0.975, 1.   ]),\n",
       " <BarContainer object of 40 artists>)"
      ]
     },
     "execution_count": 52,
     "metadata": {},
     "output_type": "execute_result"
    },
    {
     "data": {
      "text/plain": [
       "<Figure size 640x480 with 1 Axes>"
      ],
      "image/png": "[encoded data removed]"
     },
     "metadata": {},
     "output_type": "display_data"
    }
   ],
   "execution_count": 52
  },
  {
   "metadata": {
    "ExecuteTime": {
     "end_time": "2025-01-11T16:16:49.043160Z",
     "start_time": "2025-01-11T16:16:48.953780Z"
    }
   },
   "cell_type": "code",
   "source": [
    "\n",
    "import numpy as np\n",
    "import matplotlib.pyplot as plt\n",
    "\n",
    "\n",
    "def problem4_accept_reject(uniformGenerator=problem4_uniform, n_iterations=10000, seed=0):\n",
    "    accepted_samples = []  # List to store accepted samples\n",
    "    for _ in range(n_iterations):\n",
    "        x = uniformGenerator()  # Candidate sample from U[0,1]\n",
    "        u = uniformGenerator()  # Uniform random for acceptance criterion\n",
    "\n",
    "        # Acceptance check: u <= target density / (M * proposal density)\n",
    "        if u <= (np.abs(np.sin(2 * np.pi * x))):\n",
    "            accepted_samples.append(x)  # Accept x\n",
    "\n",
    "        # Stop if we have collected enough samples\n",
    "        if len(accepted_samples) >= n_iterations:\n",
    "            break\n",
    "\n",
    "    return np.array(accepted_samples)\n",
    "\n",
    "\n",
    "# Example usage with matplotlib for plotting\n",
    "plot = problem4_accept_reject(np.random.uniform, n_iterations=10000)\n",
    "plt.hist(plot, bins=30, density=True)\n"
   ],
   "id": "cfb9e84816561a94",
   "outputs": [
    {
     "data": {
      "text/plain": [
       "(array([0.2051572 , 0.57253173, 0.77291784, 1.16414786, 1.14029237,\n",
       "        1.26911201, 1.52198019, 1.58400446, 1.63171544, 1.4981247 ,\n",
       "        1.19277444, 1.02101492, 0.81108662, 0.38645892, 0.12404854,\n",
       "        0.15267513, 0.49619417, 0.73474906, 1.13552127, 1.45518482,\n",
       "        1.52675129, 1.53629348, 1.63171544, 1.39316055, 1.39793165,\n",
       "        1.36453396, 1.01147273, 0.74429125, 0.61547161, 0.25286818]),\n",
       " array([0.0080593 , 0.04101455, 0.0739698 , 0.10692505, 0.13988029,\n",
       "        0.17283554, 0.20579079, 0.23874603, 0.27170128, 0.30465653,\n",
       "        0.33761177, 0.37056702, 0.40352227, 0.43647751, 0.46943276,\n",
       "        0.50238801, 0.53534325, 0.5682985 , 0.60125375, 0.63420899,\n",
       "        0.66716424, 0.70011949, 0.73307473, 0.76602998, 0.79898523,\n",
       "        0.83194047, 0.86489572, 0.89785097, 0.93080621, 0.96376146,\n",
       "        0.99671671]),\n",
       " <BarContainer object of 30 artists>)"
      ]
     },
     "execution_count": 53,
     "metadata": {},
     "output_type": "execute_result"
    },
    {
     "data": {
      "text/plain": [
       "<Figure size 640x480 with 1 Axes>"
      ],
      "image/png": "[encoded data removed]"
     },
     "metadata": {},
     "output_type": "display_data"
    }
   ],
   "execution_count": 53
  },
  {
   "cell_type": "markdown",
   "id": "9a298b4e",
   "metadata": {
    "deletable": false,
    "lx_assignment_number": "2",
    "lx_assignment_type": "ASSIGNMENT",
    "lx_assignment_type2print": "Assignment",
    "lx_problem_cell_type": "Test",
    "lx_problem_number": "4",
    "lx_problem_points": "8"
   },
   "source": [
    "---\n",
    "#### Local Test for Assignment 2, PROBLEM 4\n",
    "Evaluate cell below to make sure your answer is valid.                             You **should not** modify anything in the cell below when evaluating it to do a local test of                             your solution.\n",
    "You may need to include and evaluate code snippets from lecture notebooks in cells above to make the local test work correctly sometimes (see error messages for clues). This is meant to help you become efficient at recalling materials covered in lectures that relate to this problem. Such local tests will generally not be available in the exam."
   ]
  },
  {
   "metadata": {
    "ExecuteTime": {
     "end_time": "2025-01-11T16:16:49.083423Z",
     "start_time": "2025-01-11T16:16:49.061192Z"
    }
   },
   "cell_type": "code",
   "source": [
    "\n",
    "# If you managed to solve all three parts you can test the following code to see if it runs\n",
    "# you have to change the period to match your LCG though, this is marked as XXX.\n",
    "# It is a very good idea to check these things using the histogram function in sagemath\n",
    "# try with a larger number of samples, up to 10000 should run\n",
    "\n",
    "print(\"LCG output: %s\" % problem4_LCG(size=10, seed=1))\n",
    "\n",
    "period = 256\n",
    "\n",
    "print(\"Uniform sampler %s\" % problem4_uniform(generator=problem4_LCG, period=period, size=10, seed=1))\n",
    "\n",
    "uniform_sampler = lambda size, seed: problem4_uniform(generator=problem4_LCG, period=period, size=size, seed=seed)\n",
    "\n",
    "print(\"Accept-Reject sampler %s\" % problem4_accept_reject(uniformGenerator=uniform_sampler, n_iterations=20, seed=1))"
   ],
   "id": "ba758590a9276db2",
   "outputs": [
    {
     "name": "stdout",
     "output_type": "stream",
     "text": [
      "LCG output: [1, 203, 405, 607, 809, 1011, 1213, 1415, 1617, 1819, 2021, 2223, 2425, 2627, 2829, 3031, 3233, 3435, 3637, 3839, 4041, 4243, 4445, 4647, 4849, 5051, 5253, 5455, 5657, 5859, 6061, 6263, 6465, 6667, 6869, 7071, 7273, 7475, 7677, 7879, 8081, 8283, 8485, 8687, 8889, 9091, 9293, 9495, 9697, 9899, 10101, 10303, 10505, 10707, 10909, 11111, 11313, 11515, 11717, 11919, 12121, 12323, 12525, 12727, 12929, 13131, 13333, 13535, 13737, 13939, 14141, 14343, 14545, 14747, 14949, 15151, 15353, 15555, 15757, 15959, 16161, 16363, 16565, 16767, 16969, 17171, 17373, 17575, 17777, 17979, 18181, 18383, 18585, 18787, 18989, 19191, 19393, 19595, 19797, 19999, 20201, 20403, 20605, 20807, 21009, 21211, 21413, 21615, 21817, 22019, 22221, 22423, 22625, 22827, 23029, 23231, 23433, 23635, 23837, 24039, 24241, 24443, 24645, 24847, 25049, 25251, 25453, 25655, 25857, 26059, 26261, 26463, 26665, 26867, 27069, 27271, 27473, 27675, 27877, 28079, 28281, 28483, 28685, 28887, 29089, 29291, 29493, 29695, 29897, 30099, 30301, 30503, 30705, 30907, 31109, 31311, 31513, 31715, 31917, 32119, 32321, 32523, 32725, 32927, 33129, 33331, 33533, 33735, 33937, 34139, 34341, 34543, 34745, 34947, 35149, 35351, 35553, 35755, 35957, 36159, 36361, 36563, 36765, 36967, 37169, 37371, 37573, 37775, 37977, 38179, 38381, 38583, 38785, 38987, 39189, 39391, 39593, 39795, 39997, 40199, 40401, 40603, 40805, 41007]\n",
      "Uniform sampler [2.4386675120714043e-05, 0.0049504950495049506, 0.009876603423889187, 0.014802711798273423, 0.01972882017265766, 0.024654928547041897, 0.02958103692142613, 0.03450714529581037, 0.0394332536701946, 0.04435936204457884, 0.04928547041896308, 0.054211578793347315, 0.05913768716773155, 0.06406379554211579, 0.06898990391650002, 0.07391601229088426, 0.0788421206652685, 0.08376822903965274, 0.08869433741403697, 0.0936204457884212, 0.09854655416280544, 0.10347266253718967, 0.10839877091157392, 0.11332487928595815, 0.1182509876603424, 0.12317709603472662, 0.12810320440911085, 0.13302931278349509, 0.13795542115787934, 0.14288152953226357, 0.1478076379066478, 0.15273374628103203, 0.1576598546554163, 0.16258596302980052, 0.16751207140418475, 0.17243817977856898, 0.17736428815295321, 0.18229039652733747, 0.1872165049017217, 0.19214261327610593, 0.19706872165049016, 0.20199483002487442, 0.20692093839925865, 0.21184704677364288, 0.2167731551480271, 0.22169926352241134, 0.2266253718967956, 0.23155148027117983, 0.23647758864556406, 0.2414036970199483, 0.24632980539433252, 0.25125591376871675, 0.256182022143101, 0.26110813051748527, 0.2660342388918695, 0.27096034726625373, 0.27588645564063796, 0.2808125640150222, 0.2857386723894064, 0.29066478076379065, 0.2955908891381749, 0.3005169975125591, 0.3054431058869434, 0.31036921426132763, 0.31529532263571186, 0.3202214310100961, 0.3251475393844803, 0.33007364775886455, 0.3349997561332488, 0.339925864507633, 0.34485197288201724, 0.34977808125640153, 0.35470418963078576, 0.35963029800517, 0.3645564063795542, 0.36948251475393845, 0.3744086231283227, 0.3793347315027069, 0.38426083987709114, 0.3891869482514754, 0.3941130566258596, 0.3990391650002439, 0.4039652733746281, 0.40889138174901235, 0.4138174901233966, 0.4187435984977808, 0.42366970687216504, 0.42859581524654927, 0.4335219236209335, 0.43844803199531773, 0.443374140369702, 0.44830024874408625, 0.4532263571184705, 0.4581524654928547, 0.46307857386723894, 0.46800468224162317, 0.4729307906160074, 0.47785689899039163, 0.48278300736477586, 0.48770911573916015, 0.4926352241135444, 0.4975613324879286, 0.5024874408623128, 0.507413549236697, 0.5123396576110814, 0.5172657659854656, 0.5221918743598498, 0.527117982734234, 0.5320440911086183, 0.5369701994830025, 0.5418963078573867, 0.546822416231771, 0.5517485246061552, 0.5566746329805394, 0.5616007413549237, 0.5665268497293079, 0.5714529581036921, 0.5763790664780764, 0.5813051748524606, 0.5862312832268448, 0.591157391601229, 0.5960834999756133, 0.6010096083499976, 0.6059357167243818, 0.6108618250987661, 0.6157879334731503, 0.6207140418475345, 0.6256401502219188, 0.630566258596303, 0.6354923669706872, 0.6404184753450715, 0.6453445837194557, 0.6502706920938399, 0.6551968004682241, 0.6601229088426084, 0.6650490172169926, 0.6699751255913768, 0.6749012339657611, 0.6798273423401453, 0.6847534507145295, 0.6896795590889138, 0.6946056674632981, 0.6995317758376823, 0.7044578842120666, 0.7093839925864508, 0.714310100960835, 0.7192362093352193, 0.7241623177096035, 0.7290884260839877, 0.734014534458372, 0.7389406428327562, 0.7438667512071404, 0.7487928595815246, 0.7537189679559089, 0.7586450763302931, 0.7635711847046773, 0.7684972930790616, 0.7734234014534458, 0.77834950982783, 0.7832756182022144, 0.7882017265765986, 0.7931278349509828, 0.798053943325367, 0.8029800516997513, 0.8079061600741355, 0.8128322684485197, 0.817758376822904, 0.8226844851972882, 0.8276105935716724, 0.8325367019460567, 0.8374628103204409, 0.8423889186948251, 0.8473150270692094, 0.8522411354435936, 0.8571672438179778, 0.862093352192362, 0.8670194605667463, 0.8719455689411305, 0.8768716773155149, 0.8817977856898991, 0.8867238940642833, 0.8916500024386675, 0.8965761108130518, 0.901502219187436, 0.9064283275618202, 0.9113544359362045, 0.9162805443105887, 0.9212066526849729, 0.9261327610593572, 0.9310588694337414, 0.9359849778081256, 0.9409110861825098, 0.9458371945568941, 0.9507633029312783, 0.9556894113056625, 0.9606155196800468, 0.9655416280544311, 0.9704677364288153, 0.9753938448031996, 0.9803199531775838, 0.985246061551968, 0.9901721699263523, 0.9950982783007365, 1.0000243866751206]\n"
     ]
    },
    {
     "ename": "TypeError",
     "evalue": "<lambda>() missing 2 required positional arguments: 'size' and 'seed'",
     "output_type": "error",
     "traceback": [
      "\u001B[0;31m---------------------------------------------------------------------------\u001B[0m",
      "\u001B[0;31mTypeError\u001B[0m                                 Traceback (most recent call last)",
      "Cell \u001B[0;32mIn[54], line 14\u001B[0m\n\u001B[1;32m     10\u001B[0m \u001B[38;5;28mprint\u001B[39m(\u001B[38;5;124m\"\u001B[39m\u001B[38;5;124mUniform sampler \u001B[39m\u001B[38;5;132;01m%s\u001B[39;00m\u001B[38;5;124m\"\u001B[39m \u001B[38;5;241m%\u001B[39m problem4_uniform(generator\u001B[38;5;241m=\u001B[39mproblem4_LCG, period\u001B[38;5;241m=\u001B[39mperiod, size\u001B[38;5;241m=\u001B[39m\u001B[38;5;241m10\u001B[39m, seed\u001B[38;5;241m=\u001B[39m\u001B[38;5;241m1\u001B[39m))\n\u001B[1;32m     12\u001B[0m uniform_sampler \u001B[38;5;241m=\u001B[39m \u001B[38;5;28;01mlambda\u001B[39;00m size, seed: problem4_uniform(generator\u001B[38;5;241m=\u001B[39mproblem4_LCG, period\u001B[38;5;241m=\u001B[39mperiod, size\u001B[38;5;241m=\u001B[39msize, seed\u001B[38;5;241m=\u001B[39mseed)\n\u001B[0;32m---> 14\u001B[0m \u001B[38;5;28mprint\u001B[39m(\u001B[38;5;124m\"\u001B[39m\u001B[38;5;124mAccept-Reject sampler \u001B[39m\u001B[38;5;132;01m%s\u001B[39;00m\u001B[38;5;124m\"\u001B[39m \u001B[38;5;241m%\u001B[39m \u001B[43mproblem4_accept_reject\u001B[49m\u001B[43m(\u001B[49m\u001B[43muniformGenerator\u001B[49m\u001B[38;5;241;43m=\u001B[39;49m\u001B[43muniform_sampler\u001B[49m\u001B[43m,\u001B[49m\u001B[43m \u001B[49m\u001B[43mn_iterations\u001B[49m\u001B[38;5;241;43m=\u001B[39;49m\u001B[38;5;241;43m20\u001B[39;49m\u001B[43m,\u001B[49m\u001B[43m \u001B[49m\u001B[43mseed\u001B[49m\u001B[38;5;241;43m=\u001B[39;49m\u001B[38;5;241;43m1\u001B[39;49m\u001B[43m)\u001B[49m)\n",
      "Cell \u001B[0;32mIn[53], line 8\u001B[0m, in \u001B[0;36mproblem4_accept_reject\u001B[0;34m(uniformGenerator, n_iterations, seed)\u001B[0m\n\u001B[1;32m      6\u001B[0m accepted_samples \u001B[38;5;241m=\u001B[39m []  \u001B[38;5;66;03m# List to store accepted samples\u001B[39;00m\n\u001B[1;32m      7\u001B[0m \u001B[38;5;28;01mfor\u001B[39;00m _ \u001B[38;5;129;01min\u001B[39;00m \u001B[38;5;28mrange\u001B[39m(n_iterations):\n\u001B[0;32m----> 8\u001B[0m     x \u001B[38;5;241m=\u001B[39m \u001B[43muniformGenerator\u001B[49m\u001B[43m(\u001B[49m\u001B[43m)\u001B[49m  \u001B[38;5;66;03m# Candidate sample from U[0,1]\u001B[39;00m\n\u001B[1;32m      9\u001B[0m     u \u001B[38;5;241m=\u001B[39m uniformGenerator()  \u001B[38;5;66;03m# Uniform random for acceptance criterion\u001B[39;00m\n\u001B[1;32m     11\u001B[0m     \u001B[38;5;66;03m# Acceptance check: u <= target density / (M * proposal density)\u001B[39;00m\n",
      "\u001B[0;31mTypeError\u001B[0m: <lambda>() missing 2 required positional arguments: 'size' and 'seed'"
     ]
    }
   ],
   "execution_count": 54
  },
  {
   "metadata": {},
   "cell_type": "code",
   "outputs": [],
   "execution_count": null,
   "source": [
    "\n",
    "# If however you did not manage to implement either part 1 or part 2 but still want to check part 3, you can run the code below\n",
    "\n",
    "def testUniformGenerator(size, seed):\n",
    "    import random\n",
    "    random.seed(seed)\n",
    "\n",
    "    return [random.uniform(0, 1) for s in range(size)]\n",
    "\n",
    "\n",
    "print(\n",
    "    \"Accept-Reject sampler %s\" % problem4_accept_reject(uniformGenerator=testUniformGenerator, n_iterations=20, seed=1))"
   ],
   "id": "ab2f3343f0c9c895"
  }
 ],
 "metadata": {
  "kernelspec": {
   "display_name": "base",
   "language": "python",
   "name": "python3"
  },
  "language_info": {
   "codemirror_mode": {
    "name": "ipython",
    "version": 3
   },
   "file_extension": ".py",
   "mimetype": "text/x-python",
   "name": "python",
   "nbconvert_exporter": "python",
   "pygments_lexer": "ipython3",
   "version": "3.11.7"
  },
  "lx_assignment_number": 2,
  "lx_course_instance": "2024",
  "lx_course_name": "Introduction to Data Science",
  "lx_course_number": "1MS041"
 },
 "nbformat": 4,
 "nbformat_minor": 5
}
