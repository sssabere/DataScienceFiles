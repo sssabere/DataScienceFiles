{
 "cells": [
  {
   "cell_type": "markdown",
   "id": "e9959f48",
   "metadata": {
    "deletable": false
   },
   "source": [
    "\n",
    "# Assignment 4 for Course 1MS041\n",
    "Make sure you pass the `# ... Test` cells and\n",
    " submit your solution notebook in the corresponding assignment on the course website. You can submit multiple times before the deadline and your highest score will be used."
   ]
  },
  {
   "cell_type": "markdown",
   "id": "b63d8b71",
   "metadata": {
    "deletable": false,
    "lx_assignment_number": "4",
    "lx_assignment_type": "ASSIGNMENT",
    "lx_assignment_type2print": "Assignment",
    "lx_problem_cell_type": "PROBLEM",
    "lx_problem_number": "1",
    "lx_problem_points": "24"
   },
   "source": [
    "---\n",
    "## Assignment 4, PROBLEM 1\n",
    "Maximum Points = 24"
   ]
  },
  {
   "cell_type": "markdown",
   "id": "04e1585d",
   "metadata": {
    "deletable": false,
    "lx_assignment_number": "4",
    "lx_assignment_type": "ASSIGNMENT",
    "lx_assignment_type2print": "Assignment",
    "lx_problem_cell_type": "PROBLEM",
    "lx_problem_number": "1",
    "lx_problem_points": "24"
   },
   "source": [
    "\n",
    "    This time the assignment only consists of one problem, but we will do a more comprehensive analysis instead.\n",
    "\n",
    "Consider the dataset `Corona_NLP_train.csv` that you can get from the course website [git](https://github.com/datascience-intro/1MS041-2024/blob/main/notebooks/data/Corona_NLP_train.csv). The data is \"Coronavirus tweets NLP - Text Classification\" that can be found on [kaggle](https://www.kaggle.com/datasets/datatattle/covid-19-nlp-text-classification). The data has several columns, but we will only be working with `OriginalTweet`and `Sentiment`.\n",
    "\n",
    "1. [3p] Load the data and filter out those tweets that have `Sentiment`=`Neutral`. Let $X$ represent the `OriginalTweet` and let \n",
    "    $$\n",
    "        Y = \n",
    "        \\begin{cases}\n",
    "        1 & \\text{if sentiment is towards positive}\n",
    "        \\\\\n",
    "        0 & \\text{if sentiment is towards negative}.\n",
    "        \\end{cases}\n",
    "    $$\n",
    "    Put the resulting arrays into the variables $X$ and $Y$. Split the data into three parts, train/test/validation where train is 60% of the data, test is 15% and validation is 25% of the data. Do not do this randomly, this is to make sure that we all did the same splits (we are in this case assuming the data is IID as presented in the dataset). That is [train,test,validation] is the splitting layout.\n",
    "\n",
    "2. [4p] There are many ways to solve this classification problem. The first main issue to resolve is to convert the $X$ variable to something that you can feed into a machine learning model. For instance, you can first use [`CountVectorizer`](https://scikit-learn.org/1.5/modules/generated/sklearn.feature_extraction.text.CountVectorizer.html) as the first step. The step that comes after should be a `LogisticRegression` model, but for this to work you need to put together the `CountVectorizer` and the `LogisticRegression` model into a [`Pipeline`](https://scikit-learn.org/1.5/modules/generated/sklearn.pipeline.Pipeline.html#sklearn.pipeline.Pipeline). Fill in the variable `model` such that it accepts the raw text as input and outputs a number $0$ or $1$, make sure that `model.predict_proba` works for this. **Hint: You might need to play with the parameters of LogisticRegression to get convergence, make sure that it doesn't take too long or the autograder might kill your code**\n",
    "3. [3p] Use your trained model and calculate the precision and recall on both classes. Fill in the corresponding variables with the answer.\n",
    "4. [3p] Let us now define a cost function\n",
    "    * A positive tweet that is classified as negative will have a cost of 1\n",
    "    * A negative tweet that is classified as positive will have a cost of 5\n",
    "    * Correct classifications cost 0\n",
    "    \n",
    "    complete filling the function `cost` to compute the cost of a prediction model under a certain prediction threshold (recall our precision recall lecture and the `predict_proba` function from trained models). \n",
    "\n",
    "5. [4p] Now, we wish to select the threshold of our classifier that minimizes the cost, fill in the selected threshold value in value `optimal_threshold`.\n",
    "6. [4p] With your newly computed threshold value, compute the cost of putting this model in production by computing the cost using the validation data. Also provide a confidence interval of the cost using Hoeffdings inequality with a 99% confidence.\n",
    "7. [3p] Let $t$ be the threshold you found and $f$ the model you fitted (one of the outputs of `predict_proba`), if we define the random variable\n",
    "    $$\n",
    "        C = (1-1_{f(X)\\geq t})Y+5(1-Y)1_{f(X) \\geq t}\n",
    "    $$\n",
    "    then $C$ denotes the cost of a randomly chosen tweet. In the previous step we estimated $\\mathbb{E}[C]$ using the empirical mean. However, since the threshold is chosen to minimize cost it is likely that $C=0$ or $C=1$ than $C=5$ as such it will have a low variance. Compute the empirical variance of $C$ on the validation set. What would be the confidence interval if we used Bennett's inequality instead of Hoeffding in point 6 but with the computed empirical variance as our guess for the variance?"
   ]
  },
  {
   "cell_type": "code",
   "id": "49e6fa33",
   "metadata": {
    "deletable": false,
    "lx_assignment_number": "4",
    "lx_assignment_type": "ASSIGNMENT",
    "lx_assignment_type2print": "Assignment",
    "lx_problem_cell_type": "PROBLEM",
    "lx_problem_number": "1",
    "lx_problem_points": "24",
    "ExecuteTime": {
     "end_time": "2024-12-22T19:13:29.461342Z",
     "start_time": "2024-12-22T19:13:28.534660Z"
    }
   },
   "source": [
    "\n",
    "# Part 1\n",
    "\n",
    "# Load the data from the file specified in the problem definition and make sure that it is loaded using\n",
    "# the search path `data/Corona_NLP_train.csv`. This is to make sure the autograder and your computer have the same\n",
    "# file path and can load the data correctly.\n",
    "\n",
    "# Contrary to how many other problems are structured, this problem actually requires you to\n",
    "# have X on the shape (n_samples, ) that is a 1-dimensional array. Otherwise it will cause a bunch\n",
    "# of errors in the autograder or also in for instance CountVectorizer.\n",
    "\n",
    "import pandas as pd\n",
    "from sklearn.linear_model import LogisticRegression\n",
    "from sklearn.feature_extraction.text import CountVectorizer\n",
    "from sklearn.pipeline import Pipeline\n",
    "from sklearn.metrics import classification_report\n",
    "import numpy as np\n",
    "\n",
    "data = pd.read_csv('data/Corona_NLP_train.csv', encoding='Latin1')\n",
    "\n",
    "# FILTER OUT \"NEUTRAL\" TWEETS\n",
    "data_filtered = data[data[\"Sentiment\"] != \"Neutral\"]\n",
    "\n",
    "# Make sure that all your data is numpy arrays and not pandas dataframes or series.\n",
    "X = data_filtered[\"OriginalTweet\"].to_numpy()\n",
    "Y = (data_filtered[\"Sentiment\"].map(\n",
    "    {\"Positive\": 1,\n",
    "     \"Extremely Positive\": 1,\n",
    "     \"Negative\": 0,\n",
    "     \"Extremely Negative\": 0})\n",
    "     .to_numpy())\n",
    "\n",
    "# DETERMINE SPLIT\n",
    "n = len(X)\n",
    "train_size = int(0.6 * n)\n",
    "test_size = int(0.15 * n)\n",
    "valid_size = n - train_size - test_size\n",
    "\n",
    "# SPLIT\n",
    "X_train = X[:train_size]\n",
    "Y_train = Y[:train_size]\n",
    "X_test = X[train_size:train_size + test_size]\n",
    "Y_test = Y[train_size:train_size + test_size]\n",
    "X_valid = X[train_size + test_size:]\n",
    "Y_valid = Y[train_size + test_size:]"
   ],
   "outputs": [],
   "execution_count": 1
  },
  {
   "cell_type": "code",
   "id": "078fe203",
   "metadata": {
    "deletable": false,
    "lx_assignment_number": "4",
    "lx_assignment_type": "ASSIGNMENT",
    "lx_assignment_type2print": "Assignment",
    "lx_problem_cell_type": "PROBLEM",
    "lx_problem_number": "1",
    "lx_problem_points": "24",
    "ExecuteTime": {
     "end_time": "2024-12-22T19:13:31.441941Z",
     "start_time": "2024-12-22T19:13:29.471359Z"
    }
   },
   "source": [
    "\n",
    "# Part 2\n",
    "\n",
    "# Train a machine learning model or pipeline that can take the raw strings from X and predict Y=0,1 depending on the\n",
    "# sentiment of the tweet. Store the trained model in the variable `model`.\n",
    "\n",
    "pipeline = Pipeline([\n",
    "    (\"vectorizer\", CountVectorizer()),\n",
    "    (\"classifier\", LogisticRegression(\n",
    "        solver=\"saga\",\n",
    "        max_iter=50000,\n",
    "        random_state=42\n",
    "    ))\n",
    "])\n",
    "\n",
    "model = pipeline.fit(X_train, Y_train)"
   ],
   "outputs": [],
   "execution_count": 2
  },
  {
   "cell_type": "code",
   "id": "ec6fd1d4",
   "metadata": {
    "deletable": false,
    "lx_assignment_number": "4",
    "lx_assignment_type": "ASSIGNMENT",
    "lx_assignment_type2print": "Assignment",
    "lx_problem_cell_type": "PROBLEM",
    "lx_problem_number": "1",
    "lx_problem_points": "24",
    "ExecuteTime": {
     "end_time": "2024-12-22T19:13:31.594191Z",
     "start_time": "2024-12-22T19:13:31.516602Z"
    }
   },
   "source": [
    "\n",
    "# Part 3\n",
    "\n",
    "# Evaluate the model on the test set and calculate precision, and recall on both classes. Store the results in the\n",
    "# variables `precision_0`, `precision_1`, `recall_0`, `recall_1`.\n",
    "\n",
    "pred_test = pipeline.predict(X_test)\n",
    "report = classification_report(Y_test, pred_test, output_dict=True)\n",
    "\n",
    "precision_0 = report[\"0\"][\"precision\"]\n",
    "precision_1 = report[\"1\"][\"precision\"]\n",
    "recall_0 = report[\"0\"][\"recall\"]\n",
    "recall_1 = report[\"1\"][\"recall\"]"
   ],
   "outputs": [],
   "execution_count": 3
  },
  {
   "cell_type": "code",
   "id": "10698374",
   "metadata": {
    "deletable": false,
    "lx_assignment_number": "4",
    "lx_assignment_type": "ASSIGNMENT",
    "lx_assignment_type2print": "Assignment",
    "lx_problem_cell_type": "PROBLEM",
    "lx_problem_number": "1",
    "lx_problem_points": "24",
    "ExecuteTime": {
     "end_time": "2024-12-22T19:13:31.611943Z",
     "start_time": "2024-12-22T19:13:31.608774Z"
    }
   },
   "source": [
    "\n",
    "# Part 4\n",
    "\n",
    "def cost(model, threshold, X, Y):\n",
    "    # Hint, make sure that the model has a predict_proba method\n",
    "    # think about how the decision is made based on the probabilities\n",
    "    # and how the threshold can be used to make the decision.\n",
    "    # For reference take a look at the lecture notes \"Bayes classifier\"\n",
    "    # which contains how the decision is made based on the probabilities when the threshold is 0.5.\n",
    "\n",
    "    # Fill in what is missing to compute the cost and return it\n",
    "    # Note that we are interested in average cost\n",
    "\n",
    "    # Get the probabilities for each of the positive classifications that the model has made\n",
    "    pos_prob = model.predict_proba(X)[:, 1]\n",
    "\n",
    "    # Make new predictions based on our own threshold (the original model defaults 0.5)\n",
    "    predictions = (np.array(pos_prob) >= threshold).astype(int)\n",
    "\n",
    "    cost_values = np.zeros_like(Y, dtype=float)\n",
    "    cost_values[(Y == 1) & (predictions == 0)] = 1  # Positive classified as Negative\n",
    "    cost_values[(Y == 0) & (predictions == 1)] = 5  # Negative classified as Positive\n",
    "\n",
    "    return np.mean(cost_values)"
   ],
   "outputs": [],
   "execution_count": 4
  },
  {
   "cell_type": "code",
   "id": "b21963ec",
   "metadata": {
    "deletable": false,
    "lx_assignment_number": "4",
    "lx_assignment_type": "ASSIGNMENT",
    "lx_assignment_type2print": "Assignment",
    "lx_problem_cell_type": "PROBLEM",
    "lx_problem_number": "1",
    "lx_problem_points": "24",
    "ExecuteTime": {
     "end_time": "2024-12-22T19:13:46.202713Z",
     "start_time": "2024-12-22T19:13:31.640518Z"
    }
   },
   "source": [
    "\n",
    "# Part 5\n",
    "\n",
    "# Find the optimal threshold for the model on the test set. Store the threshold in the variable `optimal_threshold`\n",
    "# and the cost at the optimal threshold in the variable `cost_at_optimal_threshold` evaluated on the test set.\n",
    "\n",
    "# Find the optimal threshold\n",
    "thresholds = np.linspace(0, 1, 201)\n",
    "costs = [cost(model, t, X_test, Y_test) for t in thresholds]\n",
    "\n",
    "optimal_threshold = thresholds[np.argmin(costs)]\n",
    "cost_at_optimal_threshold = min(costs)\n",
    "\n",
    "optimal_threshold, cost_at_optimal_threshold"
   ],
   "outputs": [
    {
     "data": {
      "text/plain": [
       "(np.float64(0.805), np.float64(0.27232854864433814))"
      ]
     },
     "execution_count": 5,
     "metadata": {},
     "output_type": "execute_result"
    }
   ],
   "execution_count": 5
  },
  {
   "cell_type": "code",
   "id": "79a1c5e6",
   "metadata": {
    "deletable": false,
    "lx_assignment_number": "4",
    "lx_assignment_type": "ASSIGNMENT",
    "lx_assignment_type2print": "Assignment",
    "lx_problem_cell_type": "PROBLEM",
    "lx_problem_number": "1",
    "lx_problem_points": "24",
    "ExecuteTime": {
     "end_time": "2024-12-22T19:13:46.341639Z",
     "start_time": "2024-12-22T19:13:46.218277Z"
    }
   },
   "source": [
    "\n",
    "# Part 6\n",
    "\n",
    "hoeff = np.sqrt(np.log(2 / (1 - 0.99)) / (2 * len(Y_valid)))\n",
    "\n",
    "cost_at_optimal_threshold_valid = cost(model, optimal_threshold, X_valid, Y_valid)\n",
    "cost_interval_valid = (cost_at_optimal_threshold_valid - hoeff, cost_at_optimal_threshold_valid + hoeff)\n",
    "\n",
    "assert (type(cost_interval_valid) == tuple)\n",
    "assert (len(cost_interval_valid) == 2)\n",
    "\n",
    "cost_at_optimal_threshold, cost_interval_valid"
   ],
   "outputs": [
    {
     "data": {
      "text/plain": [
       "(np.float64(0.27232854864433814),\n",
       " (np.float64(0.2602443949319217), np.float64(0.2958426655799176)))"
      ]
     },
     "execution_count": 6,
     "metadata": {},
     "output_type": "execute_result"
    }
   ],
   "execution_count": 6
  },
  {
   "cell_type": "code",
   "id": "e3bc0760",
   "metadata": {
    "deletable": false,
    "lx_assignment_number": "4",
    "lx_assignment_type": "ASSIGNMENT",
    "lx_assignment_type2print": "Assignment",
    "lx_problem_cell_type": "PROBLEM",
    "lx_problem_number": "1",
    "lx_problem_points": "24",
    "ExecuteTime": {
     "end_time": "2024-12-22T19:13:46.481425Z",
     "start_time": "2024-12-22T19:13:46.357207Z"
    }
   },
   "source": [
    "\n",
    "# Part 7\n",
    "\n",
    "pred_valid = (np.array(model.predict_proba(X_valid)[:, 1]) >= optimal_threshold).astype(int)\n",
    "\n",
    "C = (1 - pred_valid) * Y_valid + 5 * (1 - Y_valid) * pred_valid\n",
    "epsilon = np.sqrt((2 * np.var(C, ddof=1) * np.log(2 / (1 - 0.99))) / len(C))\n",
    "\n",
    "variance_of_C = np.var(C, ddof=1)\n",
    "interval_of_C = (np.mean(C) - epsilon, np.mean(C) + epsilon)\n",
    "\n",
    "assert (type(interval_of_C) == tuple)\n",
    "assert (len(interval_of_C) == 2)"
   ],
   "outputs": [],
   "execution_count": 7
  }
 ],
 "metadata": {
  "lx_assignment_number": 4,
  "lx_course_instance": "2024",
  "lx_course_name": "Introduction to Data Science",
  "lx_course_number": "1MS041",
  "kernelspec": {
   "name": "python3",
   "language": "python",
   "display_name": "Python 3 (ipykernel)"
  }
 },
 "nbformat": 4,
 "nbformat_minor": 5
}
