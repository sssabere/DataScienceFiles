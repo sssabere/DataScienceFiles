{
 "cells": [
  {
   "cell_type": "markdown",
   "id": "daa981f6",
   "metadata": {
    "deletable": false
   },
   "source": [
    "\n",
    "# Assignment 2 for Course 1MS041\n",
    "Make sure you pass the `# ... Test` cells and\n",
    " submit your solution notebook in the corresponding assignment on the course website. You can submit multiple times before the deadline and your highest score will be used."
   ]
  },
  {
   "cell_type": "markdown",
   "id": "5184e036",
   "metadata": {
    "deletable": false,
    "lx_assignment_number": "2",
    "lx_assignment_type": "ASSIGNMENT",
    "lx_assignment_type2print": "Assignment",
    "lx_problem_cell_type": "PROBLEM",
    "lx_problem_number": "1",
    "lx_problem_points": "8"
   },
   "source": [
    "---\n",
    "## Assignment 2, PROBLEM 1\n",
    "Maximum Points = 8"
   ]
  },
  {
   "cell_type": "markdown",
   "id": "db58f10b",
   "metadata": {
    "deletable": false,
    "lx_assignment_number": "2",
    "lx_assignment_type": "ASSIGNMENT",
    "lx_assignment_type2print": "Assignment",
    "lx_problem_cell_type": "PROBLEM",
    "lx_problem_number": "1",
    "lx_problem_points": "8"
   },
   "source": [
    "\n",
    "A courier company operates a fleet of delivery trucks that make deliveries to different parts of the city. The trucks are equipped with GPS tracking devices that record the location of each truck at regular intervals. The locations are divided into three regions: downtown, the suburbs, and the countryside. The following table shows the probabilities of a truck transitioning between these regions at each time step:\n",
    "\n",
    "| Current region | Probability of transitioning to downtown | Probability of transitioning to the suburbs | Probability of transitioning to the countryside |\n",
    "|----------------|--------------------------------------------|-----------------------------------------------|------------------------------------------------|\n",
    "| Downtown       | 0.3                                      | 0.4                                           | 0.3                                            |\n",
    "| Suburbs        | 0.2                                      | 0.5                                           | 0.3                                            |\n",
    "| Countryside    | 0.4                                      | 0.3                                           | 0.3                                            |\n",
    "\n",
    "1. If a truck is currently in the suburbs, what is the probability that it will be in the downtown region after two time steps? [1.5p]\n",
    "2. If a truck is currently in the suburbs, what is the probability that it will be in the downtown region **the first time** after two time steps? [1.5p]\n",
    "3. Is this Markov chain irreducible? [1.5p]\n",
    "4. What is the stationary distribution? [1.5p]\n",
    "5. Advanced question: What is the expected number of steps until the first time one enters the downtown region having started in the suburbs region. Hint: to get within 1 decimal point, it is enough to compute the probabilities for hitting times below 30. [2p]\n",
    "\n"
   ]
  },
  {
   "cell_type": "code",
   "id": "2c601f0f",
   "metadata": {
    "deletable": false,
    "lx_assignment_number": "2",
    "lx_assignment_type": "ASSIGNMENT",
    "lx_assignment_type2print": "Assignment",
    "lx_problem_cell_type": "PROBLEM",
    "lx_problem_number": "1",
    "lx_problem_points": "8",
    "ExecuteTime": {
     "end_time": "2025-01-16T14:05:52.302010Z",
     "start_time": "2025-01-16T14:05:52.297096Z"
    }
   },
   "source": [
    "import numpy as np\n",
    "\n",
    "# Part 1\n",
    "\n",
    "# Stochastic matrix / Probability matrix\n",
    "matrix = np.array([\n",
    "    [0.3, 0.4, 0.3],\n",
    "    [0.2, 0.5, 0.3],\n",
    "    [0.4, 0.3, 0.3]\n",
    "])\n",
    "\n",
    "two_steps = matrix @ matrix\n",
    "\n",
    "start_pos = [0, 1, 0]\n",
    "\n",
    "final_pos = (start_pos @ two_steps)[0]\n",
    "\n",
    "# Fill in the answer to part 1 below as a decimal number\n",
    "problem1_p1 = final_pos\n",
    "\n",
    "print(final_pos)"
   ],
   "outputs": [
    {
     "name": "stdout",
     "output_type": "stream",
     "text": [
      "0.28\n"
     ]
    }
   ],
   "execution_count": 4
  },
  {
   "cell_type": "code",
   "id": "52a172dc",
   "metadata": {
    "deletable": false,
    "lx_assignment_number": "2",
    "lx_assignment_type": "ASSIGNMENT",
    "lx_assignment_type2print": "Assignment",
    "lx_problem_cell_type": "PROBLEM",
    "lx_problem_number": "1",
    "lx_problem_points": "8",
    "ExecuteTime": {
     "end_time": "2025-01-16T14:05:52.319468Z",
     "start_time": "2025-01-16T14:05:52.316792Z"
    }
   },
   "source": [
    "# Part 2\n",
    "\n",
    "'''\n",
    "There exist two ways:\n",
    "\n",
    "a = suburb -> suburb -> downtown\n",
    "b = suburb -> countryside -> downtown\n",
    "'''\n",
    "a = 1 * 0.5 * 0.2\n",
    "b = 1 * 0.3 * 0.4\n",
    "\n",
    "# Fill in the answer to part 2 below as a decimal number\n",
    "problem1_p2 = a + b\n",
    "print(problem1_p2)"
   ],
   "outputs": [
    {
     "name": "stdout",
     "output_type": "stream",
     "text": [
      "0.22\n"
     ]
    }
   ],
   "execution_count": 5
  },
  {
   "cell_type": "code",
   "id": "a3b3872d",
   "metadata": {
    "deletable": false,
    "lx_assignment_number": "2",
    "lx_assignment_type": "ASSIGNMENT",
    "lx_assignment_type2print": "Assignment",
    "lx_problem_cell_type": "PROBLEM",
    "lx_problem_number": "1",
    "lx_problem_points": "8",
    "ExecuteTime": {
     "end_time": "2025-01-16T14:05:52.338033Z",
     "start_time": "2025-01-16T14:05:52.334924Z"
    }
   },
   "source": [
    "# Part 3\n",
    "'''\n",
    "To check for irreducibility, raise the matrix to a high power\n",
    "and check for convergence. No elements should approach 0.\n",
    "'''\n",
    "\n",
    "matrix_inf = np.linalg.matrix_power(matrix, 100)\n",
    "\n",
    "mama = matrix = np.array([\n",
    "    [0.3, 0.4, 0.3],\n",
    "    [0.2, 0.5, 0.3],\n",
    "    [0.4, 0.3, 0.3]\n",
    "])\n",
    "\n",
    "swd = np.linalg.matrix_power(mama, 30)\n",
    "\n",
    "print(swd)\n",
    "\n",
    "# Fill in the answer to part 3 below as a boolean\n",
    "problem1_irreducible = True"
   ],
   "outputs": [
    {
     "name": "stdout",
     "output_type": "stream",
     "text": [
      "[[0.28888889 0.41111111 0.3       ]\n",
      " [0.28888889 0.41111111 0.3       ]\n",
      " [0.28888889 0.41111111 0.3       ]]\n"
     ]
    }
   ],
   "execution_count": 6
  },
  {
   "cell_type": "code",
   "id": "1b9d0a00",
   "metadata": {
    "deletable": false,
    "lx_assignment_number": "2",
    "lx_assignment_type": "ASSIGNMENT",
    "lx_assignment_type2print": "Assignment",
    "lx_problem_cell_type": "PROBLEM",
    "lx_problem_number": "1",
    "lx_problem_points": "8",
    "ExecuteTime": {
     "end_time": "2025-01-16T14:05:52.358963Z",
     "start_time": "2025-01-16T14:05:52.356463Z"
    }
   },
   "source": [
    "# Part 4\n",
    "\n",
    "# Fill in the answer to part 4 below\n",
    "# the answer should be a numpy array of length 3\n",
    "# make sure that the entries sums to 1!\n",
    "\n",
    "def stat_distr(p):\n",
    "    A = p.T - np.eye(p.shape[0])\n",
    "    b = np.zeros(p.shape[0])\n",
    "\n",
    "    A[-1] = 1\n",
    "    b[-1] = 1\n",
    "\n",
    "    return np.linalg.solve(A, b)\n",
    "\n",
    "\n",
    "problem1_stationary = stat_distr(matrix)"
   ],
   "outputs": [],
   "execution_count": 7
  },
  {
   "cell_type": "code",
   "id": "481625e3",
   "metadata": {
    "deletable": false,
    "lx_assignment_number": "2",
    "lx_assignment_type": "ASSIGNMENT",
    "lx_assignment_type2print": "Assignment",
    "lx_problem_cell_type": "PROBLEM",
    "lx_problem_number": "1",
    "lx_problem_points": "8",
    "ExecuteTime": {
     "end_time": "2025-01-16T14:05:52.370812Z",
     "start_time": "2025-01-16T14:05:52.365997Z"
    }
   },
   "source": [
    "# Part 5\n",
    "\n",
    "import numpy as np\n",
    "\n",
    "# Transition matrix with downtown as an absorbing state\n",
    "P = np.array([\n",
    "    [1.0, 0.0, 0.0],  # Downtown is absorbing\n",
    "    [0.2, 0.5, 0.3],  # Suburbs\n",
    "    [0.4, 0.3, 0.3]  # Countryside\n",
    "])\n",
    "\n",
    "max_steps = 30\n",
    "initial_state = np.array([0, 1, 0])  # Start in the suburbs\n",
    "target_index = 0  # Downtown index\n",
    "\n",
    "hitting_probabilities = []\n",
    "cumulative_probability = 0  # Tracks total probability of hitting downtown\n",
    "\n",
    "current_state = initial_state.copy()\n",
    "for step in range(1, max_steps + 1):\n",
    "    # Advance the Markov chain one step\n",
    "    next_state = current_state @ P\n",
    "    # Calculate hitting probability at this step\n",
    "    hitting_probability = next_state[target_index] - cumulative_probability\n",
    "    hitting_probabilities.append(hitting_probability)\n",
    "    # Update cumulative probability\n",
    "    cumulative_probability += hitting_probability\n",
    "    # Update the current state\n",
    "    current_state = next_state\n",
    "\n",
    "    print(hitting_probability)\n",
    "\n",
    "# Check if total hitting probabilities sum to 1\n",
    "total_probability = sum(hitting_probabilities)\n",
    "if not np.isclose(total_probability, 1.0):\n",
    "    print(f\"Warning: Total hitting probability is {total_probability}, not 1.0\")\n",
    "\n",
    "# Compute expected hitting time\n",
    "expected_hitting_time = sum(step * hitting_probabilities[step - 1] for step in range(1, max_steps + 1))\n",
    "print(f\"Expected hitting time: {expected_hitting_time}\")\n",
    "\n",
    "# Fill in the answer to part 5 below\n",
    "# That is, the expected number of steps as a decimal number\n",
    "problem1_ET = 3.8"
   ],
   "outputs": [
    {
     "name": "stdout",
     "output_type": "stream",
     "text": [
      "0.2\n",
      "0.22000000000000003\n",
      "0.16399999999999992\n",
      "0.118\n",
      "0.08455999999999997\n",
      "0.060567999999999955\n",
      "0.0433808\n",
      "0.03107055999999997\n",
      "0.022253600000000096\n",
      "0.01593864639999998\n",
      "0.01141570112000001\n",
      "0.008176242112000076\n",
      "0.005856051622399994\n",
      "0.00419426677120005\n",
      "0.003004050319616036\n",
      "0.002151584249420857\n",
      "0.0015410243803597456\n",
      "0.0011037244493224962\n",
      "0.0007905180966364389\n",
      "0.0005661910103497148\n",
      "0.00040552172248153884\n",
      "0.0002904459173643792\n",
      "0.00020802543054254663\n",
      "0.00014899358939213236\n",
      "0.00010671334568113089\n",
      "7.643106118138121e-05\n",
      "5.474204820421491e-05\n",
      "3.920777489252458e-05\n",
      "2.8081697021731244e-05\n",
      "2.0112891123802434e-05\n",
      "Warning: Total hitting probability is 0.9999492360091907, not 1.0\n",
      "Expected hitting time: 3.8444520365145927\n"
     ]
    }
   ],
   "execution_count": 8
  },
  {
   "cell_type": "markdown",
   "id": "e78a4dee",
   "metadata": {
    "deletable": false,
    "lx_assignment_number": "2",
    "lx_assignment_type": "ASSIGNMENT",
    "lx_assignment_type2print": "Assignment",
    "lx_problem_cell_type": "PROBLEM",
    "lx_problem_number": "2",
    "lx_problem_points": "4"
   },
   "source": [
    "---\n",
    "## Assignment 2, PROBLEM 2\n",
    "Maximum Points = 4"
   ]
  },
  {
   "cell_type": "markdown",
   "id": "d9a825d1",
   "metadata": {
    "deletable": false,
    "lx_assignment_number": "2",
    "lx_assignment_type": "ASSIGNMENT",
    "lx_assignment_type2print": "Assignment",
    "lx_problem_cell_type": "PROBLEM",
    "lx_problem_number": "2",
    "lx_problem_points": "4"
   },
   "source": [
    "\n",
    "Use the **Multi-dimensional Constrained Optimisation** example (in `07-Optimization.ipynb`) to numerically find the MLe for the mean and variance parameter based on `normallySimulatedDataSamples`, an array obtained by a specific simulation of $30$ IID samples from the $Normal(10,2)$ random variable.\n",
    "\n",
    "Recall that $Normal(\\mu, \\sigma^2)$ RV has the probability density function given by:\n",
    "\n",
    "$$\n",
    "f(x ;\\mu, \\sigma) = \\displaystyle\\frac{1}{\\sigma\\sqrt{2\\pi}}\\exp\\left(\\frac{-1}{2\\sigma^2}(x-\\mu)^2\\right)\n",
    "$$\n",
    "\n",
    "The two parameters, $\\mu \\in \\mathbb{R} := (-\\infty,\\infty)$ and $\\sigma \\in (0,\\infty)$, are sometimes referred to as the location and scale parameters.\n",
    "\n",
    "You know that the log likelihood function for $n$ IID samples from a Normal RV with parameters $\\mu$ and $\\sigma$ simply follows from $\\sum_{i=1}^n \\log(f(x_i; \\mu,\\sigma))$, based on the IID assumption. \n",
    "\n",
    "NOTE: When setting bounding boxes for $\\mu$ and $\\sigma$ try to start with some guesses like $[-20,20]$ and $[0.1,5.0]$ and make it larger if the solution is at the boundary. Making the left bounding-point for $\\sigma$ too close to $0.0$ will cause division by zero Warnings. Other numerical instabilities can happen in such iterative numerical solutions to the MLe. You need to be patient and learn by trial-and-error. You will see the mathematical theory in more details in a future course in scientific computing/optimisation. So don't worry too much now except learning to use it for our problems.  "
   ]
  },
  {
   "cell_type": "code",
   "id": "699b52ca",
   "metadata": {
    "deletable": false,
    "lx_assignment_number": "2",
    "lx_assignment_type": "ASSIGNMENT",
    "lx_assignment_type2print": "Assignment",
    "lx_problem_cell_type": "PROBLEM",
    "lx_problem_number": "2",
    "lx_problem_points": "4",
    "ExecuteTime": {
     "end_time": "2025-01-16T14:05:52.578098Z",
     "start_time": "2025-01-16T14:05:52.381416Z"
    }
   },
   "source": [
    "\n",
    "import numpy as np\n",
    "from scipy import optimize\n",
    "\n",
    "# do NOT change the next three lines\n",
    "np.random.seed(123456)  # set seed\n",
    "# simulate 30 IID samples drawn from Normal(10,2)RV\n",
    "normallySimulatedDataSamples = np.random.normal(10, 2, 30)\n",
    "\n",
    "\n",
    "def f(x, mu, sigma):\n",
    "    return (1 / (sigma * np.sqrt(2 * np.pi))) * np.exp(-((x - mu) ** 2) / (2 * sigma ** 2))\n",
    "\n",
    "\n",
    "# define the negative log likelihood function you want to minimise by editing XXX\n",
    "def negLogLklOfIIDNormalSamples(parameters):\n",
    "    # Return the -log(likelihood) of normallySimulatedDataSamples with mean and variance parameters\n",
    "    mu_param = parameters[0]\n",
    "    sigma_param = parameters[1]\n",
    "\n",
    "    likelihoods = f(normallySimulatedDataSamples, mu_param, sigma_param)\n",
    "    positive_likelihoods = likelihoods[likelihoods > 0]  #filter zeros\n",
    "\n",
    "    negative_log_likelihood = -np.sum(np.log(positive_likelihoods))\n",
    "    return negative_log_likelihood\n",
    "\n",
    "\n",
    "# you should only change XXX below and not anything else\n",
    "parameter_bounding_box = ((-20, 20), (0.1, 5.0))  # specify the constraints for each parameter - some guess work...\n",
    "initial_arguments = np.array([10, 2])  # point in 2D to initialise the minimize algorithm\n",
    "result_problem2_opt = optimize.minimize(negLogLklOfIIDNormalSamples, initial_arguments, bounds=parameter_bounding_box,\n",
    "                                        method='L-BFGS-B')\n",
    "# call the minimize method above finally! you need to play a bit to get initial conditions and bounding box ok\n",
    "result_problem2_opt\n"
   ],
   "outputs": [
    {
     "data": {
      "text/plain": [
       "  message: CONVERGENCE: REL_REDUCTION_OF_F_<=_FACTR*EPSMCH\n",
       "  success: True\n",
       "   status: 0\n",
       "      fun: 58.63138728248559\n",
       "        x: [ 9.269e+00  1.708e+00]\n",
       "      nit: 5\n",
       "      jac: [ 1.066e-05 -6.892e-05]\n",
       "     nfev: 27\n",
       "     njev: 9\n",
       " hess_inv: <2x2 LbfgsInvHessProduct with dtype=float64>"
      ]
     },
     "execution_count": 9,
     "metadata": {},
     "output_type": "execute_result"
    }
   ],
   "execution_count": 9
  },
  {
   "cell_type": "markdown",
   "id": "d64a351c",
   "metadata": {
    "deletable": false,
    "lx_assignment_number": "2",
    "lx_assignment_type": "ASSIGNMENT",
    "lx_assignment_type2print": "Assignment",
    "lx_problem_cell_type": "PROBLEM",
    "lx_problem_number": "3",
    "lx_problem_points": "4"
   },
   "source": [
    "---\n",
    "## Assignment 2, PROBLEM 3\n",
    "Maximum Points = 4"
   ]
  },
  {
   "cell_type": "markdown",
   "id": "0b9c787c",
   "metadata": {
    "deletable": false,
    "lx_assignment_number": "2",
    "lx_assignment_type": "ASSIGNMENT",
    "lx_assignment_type2print": "Assignment",
    "lx_problem_cell_type": "PROBLEM",
    "lx_problem_number": "3",
    "lx_problem_points": "4"
   },
   "source": [
    "\n",
    "\n",
    "Derive the maximum likelihood estimate for $n$ IID samples from a random variable with the following probability density function:\n",
    "$$\n",
    "f(x; \\lambda) = \\frac{1}{24} \\lambda^5 x^4 \\exp(-\\lambda x), \\qquad \\text{ where, } \\lambda>0, x > 0\n",
    "$$\n",
    "\n",
    "You can solve the MLe by hand (using pencil paper or using key-strokes). Present your solution as the return value of a function called `def MLeForAssignment2Problem3(x)`, where `x` is a list of $n$ input data points."
   ]
  },
  {
   "cell_type": "code",
   "id": "41720f28",
   "metadata": {
    "deletable": false,
    "lx_assignment_number": "2",
    "lx_assignment_type": "ASSIGNMENT",
    "lx_assignment_type2print": "Assignment",
    "lx_problem_cell_type": "PROBLEM",
    "lx_problem_number": "3",
    "lx_problem_points": "4",
    "ExecuteTime": {
     "end_time": "2025-01-16T14:05:52.587640Z",
     "start_time": "2025-01-16T14:05:52.585748Z"
    }
   },
   "source": [
    "# do not change the name of the function, just replace XXX with the appropriate expressions for the MLe\n",
    "def MLeForAssignment2Problem3(x):\n",
    "    # Derivation of Log-Likelihood Function set to equal 0\n",
    "    n = len(x)\n",
    "    return 5 * n / sum(x)"
   ],
   "outputs": [],
   "execution_count": 10
  },
  {
   "cell_type": "markdown",
   "id": "2de9360d",
   "metadata": {
    "deletable": false,
    "lx_assignment_number": "2",
    "lx_assignment_type": "ASSIGNMENT",
    "lx_assignment_type2print": "Assignment",
    "lx_problem_cell_type": "PROBLEM",
    "lx_problem_number": "4",
    "lx_problem_points": "8"
   },
   "source": [
    "---\n",
    "## Assignment 2, PROBLEM 4\n",
    "Maximum Points = 8"
   ]
  },
  {
   "cell_type": "markdown",
   "id": "2e67892b",
   "metadata": {
    "deletable": false,
    "lx_assignment_number": "2",
    "lx_assignment_type": "ASSIGNMENT",
    "lx_assignment_type2print": "Assignment",
    "lx_problem_cell_type": "PROBLEM",
    "lx_problem_number": "4",
    "lx_problem_points": "8"
   },
   "source": [
    "\n",
    "## Random variable generation and transformation\n",
    "\n",
    "The purpose of this problem is to show that you can implement your own sampler, this will be built in the following three steps:\n",
    "\n",
    "1. [2p] Implement a Linear Congruential Generator where you tested out a good combination (a large $M$ with $a,b$ satisfying the Hull-Dobell (Thm 6.8)) of parameters. Follow the instructions in the code block.\n",
    "2. [2p] Using a generator construct random numbers from the uniform $[0,1]$ distribution.\n",
    "3. [4p] Using a uniform $[0,1]$ random generator, generate samples from \n",
    "\n",
    "$$p_0(x) = \\frac{\\pi}{2}|\\sin(2\\pi x)|, \\quad x \\in [0,1] \\enspace .$$\n",
    "\n",
    "Using the **Accept-Reject** sampler (**Algorithm 1** in TFDS notes) with sampling density given by the uniform $[0,1]$ distribution."
   ]
  },
  {
   "cell_type": "code",
   "id": "530446bc",
   "metadata": {
    "deletable": false,
    "lx_assignment_number": "2",
    "lx_assignment_type": "ASSIGNMENT",
    "lx_assignment_type2print": "Assignment",
    "lx_problem_cell_type": "PROBLEM",
    "lx_problem_number": "4",
    "lx_problem_points": "8",
    "ExecuteTime": {
     "end_time": "2025-01-16T14:05:52.598068Z",
     "start_time": "2025-01-16T14:05:52.595108Z"
    }
   },
   "source": [
    "\n",
    " \"\"\"\n",
    " A linear congruential generator that generates pseudo random numbers according to size.\n",
    "    \n",
    "Parameters\n",
    "-------------\n",
    "size : an integer denoting how many samples should be produced\n",
    "seed : the starting point of the LCG, i.e. u0 in the notes.\n",
    "    \n",
    "Returns\n",
    "-------------\n",
    "out : a list of the pseudo random numbers\n",
    "\"\"\"\n",
    "\n",
    "def problem4_LCG(size=10, seed=0):\n",
    "    m = 2 ** 31 - 1 \n",
    "    a = 1103515245 \n",
    "    b = 12345 \n",
    "\n",
    "    x = seed\n",
    "    retValue = []\n",
    "    for _ in range(size):\n",
    "        x = (a * x + b) % m\n",
    "        retValue.append(x)\n",
    "    return retValue"
   ],
   "outputs": [],
   "execution_count": 11
  },
  {
   "cell_type": "code",
   "id": "8d215c5a",
   "metadata": {
    "deletable": false,
    "lx_assignment_number": "2",
    "lx_assignment_type": "ASSIGNMENT",
    "lx_assignment_type2print": "Assignment",
    "lx_problem_cell_type": "PROBLEM",
    "lx_problem_number": "4",
    "lx_problem_points": "8",
    "ExecuteTime": {
     "end_time": "2025-01-16T14:05:53.905655Z",
     "start_time": "2025-01-16T14:05:52.605813Z"
    }
   },
   "source": [
    "from matplotlib import pyplot as plt\n",
    "\n",
    "\n",
    "def problem4_uniform(generator=problem4_LCG, period=2 ** 31 - 1, size=10000, seed=0):\n",
    "    \"\"\"\n",
    "    Takes a generator and produces samples from the uniform [0,1] distribution according\n",
    "    to size.\n",
    "    \n",
    "    Parameters\n",
    "    -------------\n",
    "    generator : a function of type generator(size,seed) and produces the same result as problem1_LCG, i.e. pseudo random numbers in the range {0,1,...,period-1}\n",
    "    period : the period of the generator\n",
    "    seed : the seed to be used in the generator provided\n",
    "    size : an integer denoting how many samples should be produced\n",
    "    \n",
    "    Returns\n",
    "    --------------\n",
    "    out : a list of the uniform pseudo random numbers\n",
    "    \"\"\"\n",
    "\n",
    "    LCG = problem4_LCG(size = size, seed=seed)\n",
    "    scaledLCG = [x / max(LCG) for x in LCG]\n",
    "\n",
    "    return scaledLCG\n",
    "\n",
    "\n",
    "ScaledLCG = problem4_uniform(generator=problem4_LCG)\n",
    "\n",
    "plt.hist(ScaledLCG, bins=100)"
   ],
   "outputs": [
    {
     "data": {
      "text/plain": [
       "(array([106.,  94.,  91.,  97.,  92.,  89.,  78., 117., 115.,  96.,  90.,\n",
       "         97.,  99., 102., 115., 100., 110.,  92.,  91.,  98.,  99.,  90.,\n",
       "        111.,  99.,  83., 112., 100., 108.,  80.,  92.,  99.,  93., 118.,\n",
       "        106., 102., 100.,  97., 105., 120., 106., 100.,  98.,  81.,  98.,\n",
       "         99.,  88.,  90.,  87., 131.,  80., 105., 119.,  92., 116.,  86.,\n",
       "         94.,  85., 113., 116.,  99., 113.,  85.,  97., 119., 104.,  97.,\n",
       "        108.,  93.,  81., 105.,  89., 101., 105., 127., 108.,  83., 113.,\n",
       "        103.,  94.,  92.,  84., 104.,  92.,  92., 120., 108., 108., 105.,\n",
       "        107., 108.,  97.,  96.,  81., 101.,  91., 105., 109.,  96.,  99.,\n",
       "        114.]),\n",
       " array([5.74884967e-06, 1.00056914e-02, 2.00056339e-02, 3.00055764e-02,\n",
       "        4.00055189e-02, 5.00054614e-02, 6.00054039e-02, 7.00053464e-02,\n",
       "        8.00052889e-02, 9.00052315e-02, 1.00005174e-01, 1.10005116e-01,\n",
       "        1.20005059e-01, 1.30005001e-01, 1.40004944e-01, 1.50004887e-01,\n",
       "        1.60004829e-01, 1.70004772e-01, 1.80004714e-01, 1.90004657e-01,\n",
       "        2.00004599e-01, 2.10004542e-01, 2.20004484e-01, 2.30004427e-01,\n",
       "        2.40004369e-01, 2.50004312e-01, 2.60004254e-01, 2.70004197e-01,\n",
       "        2.80004139e-01, 2.90004082e-01, 3.00004024e-01, 3.10003967e-01,\n",
       "        3.20003909e-01, 3.30003852e-01, 3.40003794e-01, 3.50003737e-01,\n",
       "        3.60003679e-01, 3.70003622e-01, 3.80003564e-01, 3.90003507e-01,\n",
       "        4.00003449e-01, 4.10003392e-01, 4.20003334e-01, 4.30003277e-01,\n",
       "        4.40003219e-01, 4.50003162e-01, 4.60003104e-01, 4.70003047e-01,\n",
       "        4.80002989e-01, 4.90002932e-01, 5.00002874e-01, 5.10002817e-01,\n",
       "        5.20002759e-01, 5.30002702e-01, 5.40002644e-01, 5.50002587e-01,\n",
       "        5.60002529e-01, 5.70002472e-01, 5.80002415e-01, 5.90002357e-01,\n",
       "        6.00002300e-01, 6.10002242e-01, 6.20002185e-01, 6.30002127e-01,\n",
       "        6.40002070e-01, 6.50002012e-01, 6.60001955e-01, 6.70001897e-01,\n",
       "        6.80001840e-01, 6.90001782e-01, 7.00001725e-01, 7.10001667e-01,\n",
       "        7.20001610e-01, 7.30001552e-01, 7.40001495e-01, 7.50001437e-01,\n",
       "        7.60001380e-01, 7.70001322e-01, 7.80001265e-01, 7.90001207e-01,\n",
       "        8.00001150e-01, 8.10001092e-01, 8.20001035e-01, 8.30000977e-01,\n",
       "        8.40000920e-01, 8.50000862e-01, 8.60000805e-01, 8.70000747e-01,\n",
       "        8.80000690e-01, 8.90000632e-01, 9.00000575e-01, 9.10000517e-01,\n",
       "        9.20000460e-01, 9.30000402e-01, 9.40000345e-01, 9.50000287e-01,\n",
       "        9.60000230e-01, 9.70000172e-01, 9.80000115e-01, 9.90000057e-01,\n",
       "        1.00000000e+00]),\n",
       " <BarContainer object of 100 artists>)"
      ]
     },
     "execution_count": 12,
     "metadata": {},
     "output_type": "execute_result"
    },
    {
     "data": {
      "text/plain": [
       "<Figure size 640x480 with 1 Axes>"
      ],
      "image/png": "[encoded data removed]"
     },
     "metadata": {},
     "output_type": "display_data"
    }
   ],
   "execution_count": 12
  },
  {
   "cell_type": "code",
   "id": "15832284",
   "metadata": {
    "deletable": false,
    "lx_assignment_number": "2",
    "lx_assignment_type": "ASSIGNMENT",
    "lx_assignment_type2print": "Assignment",
    "lx_problem_cell_type": "PROBLEM",
    "lx_problem_number": "4",
    "lx_problem_points": "8",
    "ExecuteTime": {
     "end_time": "2025-01-16T14:05:55.184767Z",
     "start_time": "2025-01-16T14:05:53.919469Z"
    }
   },
   "source": [
    "\n",
    "def problem4_accept_reject(uniformGenerator=problem4_uniform, n_iterations=1000, seed=0):\n",
    "    \n",
    "    accepted_samples = []  # List to store accepted samples\n",
    "\n",
    "    uniform_seq = uniformGenerator()\n",
    "    \n",
    "    for i in range(n_iterations):\n",
    "        x = uniform_seq[i]  # Candidate sample from U[0,1]\n",
    "        u = uniform_seq[i + 1]  # Uniform random for acceptance criterion\n",
    "\n",
    "        # Acceptance check: u <= target density / (M * proposal density)\n",
    "        if u <= (np.abs(np.sin(2 * np.pi * x))):\n",
    "            accepted_samples.append(x)  # Accept x\n",
    "\n",
    "        # Stop if we have collected enough samples\n",
    "        if len(accepted_samples) >= n_iterations:\n",
    "            break\n",
    "\n",
    "    return np.array(accepted_samples)\n",
    "\n",
    "\n",
    "# Plot\n",
    "plot = problem4_accept_reject()\n",
    "plt.hist(plot, bins=40, density=True)\n"
   ],
   "outputs": [
    {
     "data": {
      "text/plain": [
       "(array([0.26170786, 0.32713482, 0.85055054, 0.58884268, 1.1122584 ,\n",
       "        0.91597751, 0.98140447, 1.76652805, 1.70110108, 1.96280894,\n",
       "        1.70110108, 1.04683143, 1.37396626, 1.37396626, 1.24311233,\n",
       "        0.58884268, 0.71969661, 0.45798875, 0.26170786, 0.13085393,\n",
       "        0.06542696, 0.39256179, 0.71969661, 1.04683143, 0.91597751,\n",
       "        1.24311233, 1.43939322, 0.78512358, 1.63567412, 2.15908983,\n",
       "        1.63567412, 1.43939322, 1.43939322, 1.83195501, 1.24311233,\n",
       "        1.1122584 , 1.24311233, 0.71969661, 0.52341572, 0.32713482]),\n",
       " array([0.01401058, 0.0382328 , 0.06245501, 0.08667723, 0.11089945,\n",
       "        0.13512166, 0.15934388, 0.18356609, 0.20778831, 0.23201053,\n",
       "        0.25623274, 0.28045496, 0.30467717, 0.32889939, 0.3531216 ,\n",
       "        0.37734382, 0.40156604, 0.42578825, 0.45001047, 0.47423268,\n",
       "        0.4984549 , 0.52267711, 0.54689933, 0.57112155, 0.59534376,\n",
       "        0.61956598, 0.64378819, 0.66801041, 0.69223262, 0.71645484,\n",
       "        0.74067706, 0.76489927, 0.78912149, 0.8133437 , 0.83756592,\n",
       "        0.86178813, 0.88601035, 0.91023257, 0.93445478, 0.958677  ,\n",
       "        0.98289921]),\n",
       " <BarContainer object of 40 artists>)"
      ]
     },
     "execution_count": 13,
     "metadata": {},
     "output_type": "execute_result"
    },
    {
     "data": {
      "text/plain": [
       "<Figure size 640x480 with 1 Axes>"
      ],
      "image/png": "[encoded data removed]"
     },
     "metadata": {},
     "output_type": "display_data"
    }
   ],
   "execution_count": 13
  },
  {
   "cell_type": "markdown",
   "id": "6479a17c",
   "metadata": {
    "deletable": false,
    "lx_assignment_number": "2",
    "lx_assignment_type": "ASSIGNMENT",
    "lx_assignment_type2print": "Assignment",
    "lx_problem_cell_type": "Test",
    "lx_problem_number": "4",
    "lx_problem_points": "8"
   },
   "source": [
    "---\n",
    "#### Local Test for Assignment 2, PROBLEM 4\n",
    "Evaluate cell below to make sure your answer is valid.                             You **should not** modify anything in the cell below when evaluating it to do a local test of                             your solution.\n",
    "You may need to include and evaluate code snippets from lecture notebooks in cells above to make the local test work correctly sometimes (see error messages for clues). This is meant to help you become efficient at recalling materials covered in lectures that relate to this problem. Such local tests will generally not be available in the exam."
   ]
  },
  {
   "cell_type": "code",
   "id": "26cd1592",
   "metadata": {
    "deletable": false,
    "lx_assignment_number": "2",
    "lx_assignment_type": "ASSIGNMENT",
    "lx_assignment_type2print": "Assignment",
    "lx_problem_cell_type": "Test",
    "lx_problem_number": "4",
    "lx_problem_points": "8",
    "ExecuteTime": {
     "end_time": "2025-01-16T14:05:55.225586Z",
     "start_time": "2025-01-16T14:05:55.198386Z"
    }
   },
   "source": [
    "\n",
    "# If you managed to solve all three parts you can test the following code to see if it runs\n",
    "# you have to change the period to match your LCG though, this is marked as XXX.\n",
    "# It is a very good idea to check these things using the histogram function in sagemath\n",
    "# try with a larger number of samples, up to 10000 should run\n",
    "\n",
    "print(\"LCG output: %s\" % problem4_LCG(size=10, seed=1))\n",
    "\n",
    "period = XXX\n",
    "\n",
    "print(\"Uniform sampler %s\" % problem4_uniform(generator=problem4_LCG, period=period, size=10, seed=1))\n",
    "\n",
    "uniform_sampler = lambda size, seed: problem4_uniform(generator=problem4_LCG, period=period, size=size, seed=seed)\n",
    "\n",
    "print(\"Accept-Reject sampler %s\" % problem4_accept_reject(uniformGenerator=uniform_sampler, n_iterations=20, seed=1))"
   ],
   "outputs": [
    {
     "name": "stdout",
     "output_type": "stream",
     "text": [
      "LCG output: [1103527590, 944465040, 1695244727, 1008001095, 235077491, 776026401, 964188548, 19180611, 1753372583, 504528511]\n"
     ]
    },
    {
     "ename": "NameError",
     "evalue": "name 'XXX' is not defined",
     "output_type": "error",
     "traceback": [
      "\u001B[0;31m---------------------------------------------------------------------------\u001B[0m",
      "\u001B[0;31mNameError\u001B[0m                                 Traceback (most recent call last)",
      "Cell \u001B[0;32mIn[14], line 8\u001B[0m\n\u001B[1;32m      1\u001B[0m \u001B[38;5;66;03m# If you managed to solve all three parts you can test the following code to see if it runs\u001B[39;00m\n\u001B[1;32m      2\u001B[0m \u001B[38;5;66;03m# you have to change the period to match your LCG though, this is marked as XXX.\u001B[39;00m\n\u001B[1;32m      3\u001B[0m \u001B[38;5;66;03m# It is a very good idea to check these things using the histogram function in sagemath\u001B[39;00m\n\u001B[1;32m      4\u001B[0m \u001B[38;5;66;03m# try with a larger number of samples, up to 10000 should run\u001B[39;00m\n\u001B[1;32m      6\u001B[0m \u001B[38;5;28mprint\u001B[39m(\u001B[38;5;124m\"\u001B[39m\u001B[38;5;124mLCG output: \u001B[39m\u001B[38;5;132;01m%s\u001B[39;00m\u001B[38;5;124m\"\u001B[39m \u001B[38;5;241m%\u001B[39m problem4_LCG(size\u001B[38;5;241m=\u001B[39m\u001B[38;5;241m10\u001B[39m, seed\u001B[38;5;241m=\u001B[39m\u001B[38;5;241m1\u001B[39m))\n\u001B[0;32m----> 8\u001B[0m period \u001B[38;5;241m=\u001B[39m \u001B[43mXXX\u001B[49m\n\u001B[1;32m     10\u001B[0m \u001B[38;5;28mprint\u001B[39m(\u001B[38;5;124m\"\u001B[39m\u001B[38;5;124mUniform sampler \u001B[39m\u001B[38;5;132;01m%s\u001B[39;00m\u001B[38;5;124m\"\u001B[39m \u001B[38;5;241m%\u001B[39m problem4_uniform(generator\u001B[38;5;241m=\u001B[39mproblem4_LCG, period\u001B[38;5;241m=\u001B[39mperiod, size\u001B[38;5;241m=\u001B[39m\u001B[38;5;241m10\u001B[39m, seed\u001B[38;5;241m=\u001B[39m\u001B[38;5;241m1\u001B[39m))\n\u001B[1;32m     12\u001B[0m uniform_sampler \u001B[38;5;241m=\u001B[39m \u001B[38;5;28;01mlambda\u001B[39;00m size, seed: problem4_uniform(generator\u001B[38;5;241m=\u001B[39mproblem4_LCG, period\u001B[38;5;241m=\u001B[39mperiod, size\u001B[38;5;241m=\u001B[39msize, seed\u001B[38;5;241m=\u001B[39mseed)\n",
      "\u001B[0;31mNameError\u001B[0m: name 'XXX' is not defined"
     ]
    }
   ],
   "execution_count": 14
  },
  {
   "cell_type": "code",
   "id": "5318f370",
   "metadata": {
    "deletable": false,
    "lx_assignment_number": "2",
    "lx_assignment_type": "ASSIGNMENT",
    "lx_assignment_type2print": "Assignment",
    "lx_problem_cell_type": "Test",
    "lx_problem_number": "4",
    "lx_problem_points": "8",
    "ExecuteTime": {
     "end_time": "2025-01-16T14:18:47.002482Z",
     "start_time": "2025-01-16T14:18:46.967697Z"
    }
   },
   "source": [
    "\n",
    "# If however you did not manage to implement either part 1 or part 2 but still want to check part 3, you can run the code below\n",
    "\n",
    "def testUniformGenerator(size, seed):\n",
    "    import random\n",
    "    random.seed(seed)\n",
    "\n",
    "    return [random.uniform(0, 1) for s in range(size)]\n",
    "\n",
    "\n",
    "print(\n",
    "    \"Accept-Reject sampler %s\" % problem4_accept_reject(uniformGenerator=testUniformGenerator, n_iterations=20, seed=1))"
   ],
   "outputs": [
    {
     "ename": "TypeError",
     "evalue": "testUniformGenerator() missing 2 required positional arguments: 'size' and 'seed'",
     "output_type": "error",
     "traceback": [
      "\u001B[0;31m---------------------------------------------------------------------------\u001B[0m",
      "\u001B[0;31mTypeError\u001B[0m                                 Traceback (most recent call last)",
      "Cell \u001B[0;32mIn[15], line 11\u001B[0m\n\u001B[1;32m      5\u001B[0m     random\u001B[38;5;241m.\u001B[39mseed(seed)\n\u001B[1;32m      7\u001B[0m     \u001B[38;5;28;01mreturn\u001B[39;00m [random\u001B[38;5;241m.\u001B[39muniform(\u001B[38;5;241m0\u001B[39m, \u001B[38;5;241m1\u001B[39m) \u001B[38;5;28;01mfor\u001B[39;00m s \u001B[38;5;129;01min\u001B[39;00m \u001B[38;5;28mrange\u001B[39m(size)]\n\u001B[1;32m     10\u001B[0m \u001B[38;5;28mprint\u001B[39m(\n\u001B[0;32m---> 11\u001B[0m     \u001B[38;5;124m\"\u001B[39m\u001B[38;5;124mAccept-Reject sampler \u001B[39m\u001B[38;5;132;01m%s\u001B[39;00m\u001B[38;5;124m\"\u001B[39m \u001B[38;5;241m%\u001B[39m \u001B[43mproblem4_accept_reject\u001B[49m\u001B[43m(\u001B[49m\u001B[43muniformGenerator\u001B[49m\u001B[38;5;241;43m=\u001B[39;49m\u001B[43mtestUniformGenerator\u001B[49m\u001B[43m,\u001B[49m\u001B[43m \u001B[49m\u001B[43mn_iterations\u001B[49m\u001B[38;5;241;43m=\u001B[39;49m\u001B[38;5;241;43m20\u001B[39;49m\u001B[43m,\u001B[49m\u001B[43m \u001B[49m\u001B[43mseed\u001B[49m\u001B[38;5;241;43m=\u001B[39;49m\u001B[38;5;241;43m1\u001B[39;49m\u001B[43m)\u001B[49m)\n",
      "Cell \u001B[0;32mIn[13], line 5\u001B[0m, in \u001B[0;36mproblem4_accept_reject\u001B[0;34m(uniformGenerator, n_iterations, seed)\u001B[0m\n\u001B[1;32m      1\u001B[0m \u001B[38;5;28;01mdef\u001B[39;00m\u001B[38;5;250m \u001B[39m\u001B[38;5;21mproblem4_accept_reject\u001B[39m(uniformGenerator\u001B[38;5;241m=\u001B[39mproblem4_uniform, n_iterations\u001B[38;5;241m=\u001B[39m\u001B[38;5;241m1000\u001B[39m, seed\u001B[38;5;241m=\u001B[39m\u001B[38;5;241m0\u001B[39m):\n\u001B[1;32m      3\u001B[0m     accepted_samples \u001B[38;5;241m=\u001B[39m []  \u001B[38;5;66;03m# List to store accepted samples\u001B[39;00m\n\u001B[0;32m----> 5\u001B[0m     uniform_seq \u001B[38;5;241m=\u001B[39m \u001B[43muniformGenerator\u001B[49m\u001B[43m(\u001B[49m\u001B[43m)\u001B[49m\n\u001B[1;32m      7\u001B[0m     \u001B[38;5;28;01mfor\u001B[39;00m i \u001B[38;5;129;01min\u001B[39;00m \u001B[38;5;28mrange\u001B[39m(n_iterations):\n\u001B[1;32m      8\u001B[0m         x \u001B[38;5;241m=\u001B[39m uniform_seq[i]  \u001B[38;5;66;03m# Candidate sample from U[0,1]\u001B[39;00m\n",
      "\u001B[0;31mTypeError\u001B[0m: testUniformGenerator() missing 2 required positional arguments: 'size' and 'seed'"
     ]
    }
   ],
   "execution_count": 15
  }
 ],
 "metadata": {
  "kernelspec": {
   "display_name": "Python 3 (ipykernel)",
   "language": "python",
   "name": "python3"
  },
  "lx_assignment_number": 2,
  "lx_course_instance": "2024",
  "lx_course_name": "Introduction to Data Science",
  "lx_course_number": "1MS041"
 },
 "nbformat": 4,
 "nbformat_minor": 5
}
