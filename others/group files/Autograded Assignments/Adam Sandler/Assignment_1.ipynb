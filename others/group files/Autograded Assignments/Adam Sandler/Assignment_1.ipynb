{
 "cells": [
  {
   "cell_type": "markdown",
   "id": "6a845211",
   "metadata": {
    "deletable": false
   },
   "source": [
    "\n",
    "# Assignment 1 for Course 1MS041\n",
    "Make sure you pass the `# ... Test` cells and\n",
    " submit your solution notebook in the corresponding assignment on the course website. You can submit multiple times before the deadline and your highest score will be used."
   ]
  },
  {
   "cell_type": "markdown",
   "id": "7aa46aae",
   "metadata": {
    "deletable": false,
    "lx_assignment_number": "1",
    "lx_assignment_type": "ASSIGNMENT",
    "lx_assignment_type2print": "Assignment",
    "lx_problem_cell_type": "PROBLEM",
    "lx_problem_number": "1",
    "lx_problem_points": "3"
   },
   "source": [
    "---\n",
    "## Assignment 1, PROBLEM 1\n",
    "Maximum Points = 3"
   ]
  },
  {
   "cell_type": "markdown",
   "id": "6be79082",
   "metadata": {
    "deletable": false,
    "lx_assignment_number": "1",
    "lx_assignment_type": "ASSIGNMENT",
    "lx_assignment_type2print": "Assignment",
    "lx_problem_cell_type": "PROBLEM",
    "lx_problem_number": "1",
    "lx_problem_points": "3"
   },
   "source": [
    "\n",
    "\n",
    "Given that you are being introduced to data science it is important to bear in mind the true costs of AI, a highly predictive family of algorithms used in data engineering sciences:\n",
    "\n",
    "Read the 16 pages of [ai-anatomy-publication.pdf](http://www.anatomyof.ai/img/ai-anatomy-publication.pdf) with the highly detailed [ai-anatomy-map.pdf](https://anatomyof.ai/img/ai-anatomy-map.pdf) of [https://anatomyof.ai/](https://anatomyof.ai/), \"Anatomy of an AI System\" By Kate Crawford and Vladan Joler (2018).  The first problem in ASSIGNMENT 1 is a trivial test of your reading comprehension.\n",
    "\n",
    "\n",
    "Answer whether each of the following statements is `True` or `False` *according to the authors* by appropriately replacing `Xxxxx` coresponding to `TruthValueOfStatement0a`, `TruthValueOfStatement0b` and `TruthValueOfStatement0c`, respectively, in the next cell to demonstrate your reading comprehension.\n",
    "\n",
    "1. `Statement0a =` *Each small moment of convenience (provided by Amazon's Echo) – be it answering a question, turning on a light, or playing a song – requires a vast planetary network, fueled by the extraction of non-renewable materials, labor, and data.*\n",
    "2. `Statement0b =` *The Echo user is simultaneously a consumer, a resource, a worker, and a product* \n",
    "3. `Statement0c =` *Many of the assumptions about human life made by machine learning systems are narrow, normative and laden with error. Yet they are inscribing and building those assumptions into a new world, and will increasingly play a role in how opportunities, wealth, and knowledge are distributed.*"
   ]
  },
  {
   "cell_type": "code",
   "execution_count": null,
   "id": "abc0b4b6",
   "metadata": {},
   "outputs": [],
   "source": []
  },
  {
   "cell_type": "code",
   "execution_count": 1,
   "id": "4fa1b7d7",
   "metadata": {
    "deletable": false,
    "lx_assignment_number": "1",
    "lx_assignment_type": "ASSIGNMENT",
    "lx_assignment_type2print": "Assignment",
    "lx_problem_cell_type": "PROBLEM",
    "lx_problem_number": "1",
    "lx_problem_points": "3"
   },
   "outputs": [],
   "source": [
    "\n",
    "# Replace Xxxxx with True or False; Don't modify anything else in this cell!\n",
    "\n",
    "TruthValueOfStatement0a = True\n",
    "\n",
    "TruthValueOfStatement0b = True\n",
    "\n",
    "TruthValueOfStatement0c = True"
   ]
  },
  {
   "cell_type": "markdown",
   "id": "3aecf60a",
   "metadata": {
    "deletable": false,
    "lx_assignment_number": "1",
    "lx_assignment_type": "ASSIGNMENT",
    "lx_assignment_type2print": "Assignment",
    "lx_problem_cell_type": "Test",
    "lx_problem_number": "1",
    "lx_problem_points": "3"
   },
   "source": [
    "---\n",
    "#### Local Test for Assignment 1, PROBLEM 1\n",
    "Evaluate cell below to make sure your answer is valid.                             You **should not** modify anything in the cell below when evaluating it to do a local test of                             your solution.\n",
    "You may need to include and evaluate code snippets from lecture notebooks in cells above to make the local test work correctly sometimes (see error messages for clues). This is meant to help you become efficient at recalling materials covered in lectures that relate to this problem. Such local tests will generally not be available in the exam."
   ]
  },
  {
   "cell_type": "code",
   "execution_count": 2,
   "id": "6e4c2214",
   "metadata": {
    "deletable": false,
    "lx_assignment_number": "1",
    "lx_assignment_type": "ASSIGNMENT",
    "lx_assignment_type2print": "Assignment",
    "lx_problem_cell_type": "Test",
    "lx_problem_number": "1",
    "lx_problem_points": "3"
   },
   "outputs": [
    {
     "name": "stdout",
     "output_type": "stream",
     "text": [
      "Good, you have answered either True or False. Hopefully they are the correct answers!\n"
     ]
    }
   ],
   "source": [
    "# Test locally to ensure an acceptable answer, True or False\n",
    "try:\n",
    "    assert(isinstance(TruthValueOfStatement0a, bool)) \n",
    "    assert(isinstance(TruthValueOfStatement0b, bool)) \n",
    "    assert(isinstance(TruthValueOfStatement0c, bool))\n",
    "except:\n",
    "    print(\"Try again. You are not writing True or False for your answers.\")\n",
    "else:\n",
    "    print(\"Good, you have answered either True or False. Hopefully they are the correct answers!\")"
   ]
  },
  {
   "cell_type": "markdown",
   "id": "2ad8cfe1",
   "metadata": {
    "deletable": false,
    "lx_assignment_number": "1",
    "lx_assignment_type": "ASSIGNMENT",
    "lx_assignment_type2print": "Assignment",
    "lx_problem_cell_type": "PROBLEM",
    "lx_problem_number": "2",
    "lx_problem_points": "2"
   },
   "source": [
    "---\n",
    "## Assignment 1, PROBLEM 2\n",
    "Maximum Points = 2"
   ]
  },
  {
   "cell_type": "markdown",
   "id": "fefff3e3",
   "metadata": {
    "deletable": false,
    "lx_assignment_number": "1",
    "lx_assignment_type": "ASSIGNMENT",
    "lx_assignment_type2print": "Assignment",
    "lx_problem_cell_type": "PROBLEM",
    "lx_problem_number": "2",
    "lx_problem_points": "2"
   },
   "source": [
    "\n",
    "Evaluate the following cells by replacing `X` with the right command-line option to `head` in order to find the first four lines of the csv file `data/final.csv`\n",
    "\n",
    "```\n",
    "%%sh\n",
    "man head\n",
    "\n",
    "HEAD(1)                   BSD General Commands Manual                  HEAD(1)\n",
    "\n",
    "NAME\n",
    "     head -- display first lines of a file\n",
    "\n",
    "SYNOPSIS\n",
    "     head [-n count | -c bytes] [file ...]\n",
    "\n",
    "DESCRIPTION\n",
    "     This filter displays the first count lines or bytes of each of the speci-\n",
    "     fied files, or of the standard input if no files are specified.  If count\n",
    "     is omitted it defaults to 10.\n",
    "\n",
    "     If more than a single file is specified, each file is preceded by a\n",
    "     header consisting of the string ``==> XXX <=='' where ``XXX'' is the name\n",
    "     of the file.\n",
    "\n",
    "EXIT STATUS\n",
    "     The head utility exits 0 on success, and >0 if an error occurs.\n",
    "\n",
    "SEE ALSO\n",
    "     tail(1)\n",
    "\n",
    "HISTORY\n",
    "     The head command appeared in PWB UNIX.\n",
    "\n",
    "BSD                              June 6, 1993                              BSD\n",
    "```"
   ]
  },
  {
   "cell_type": "code",
   "execution_count": 3,
   "id": "482434f3",
   "metadata": {
    "deletable": false,
    "lx_assignment_number": "1",
    "lx_assignment_type": "ASSIGNMENT",
    "lx_assignment_type2print": "Assignment",
    "lx_problem_cell_type": "PROBLEM",
    "lx_problem_number": "2",
    "lx_problem_points": "2"
   },
   "outputs": [
    {
     "name": "stdout",
     "output_type": "stream",
     "text": [
      "region,municipality,district,party,votes\n",
      "Blekinge län,Karlshamn,0 - Centrala Asarum,S,519\n",
      "Blekinge län,Karlshamn,0 - Centrala Asarum,SD,311\n",
      "Blekinge län,Karlshamn,0 - Centrala Asarum,M,162\n",
      "Blekinge län,Karlshamn,0 - Centrala Asarum,V,82\n"
     ]
    }
   ],
   "source": [
    "%%sh\n",
    "#man head\n",
    "head -n 5 data/final.csv\n"
   ]
  },
  {
   "cell_type": "code",
   "execution_count": 4,
   "id": "b3949d74",
   "metadata": {
    "deletable": false,
    "lx_assignment_number": "1",
    "lx_assignment_type": "ASSIGNMENT",
    "lx_assignment_type2print": "Assignment",
    "lx_problem_cell_type": "PROBLEM",
    "lx_problem_number": "2",
    "lx_problem_points": "2"
   },
   "outputs": [],
   "source": [
    "line_1_final = \"region,municipality,district,party,votes\"\n",
    "line_2_final = \"Blekinge län,Karlshamn,0 - Centrala Asarum,S,519\""
   ]
  },
  {
   "cell_type": "markdown",
   "id": "e1830728",
   "metadata": {
    "deletable": false,
    "lx_assignment_number": "1",
    "lx_assignment_type": "ASSIGNMENT",
    "lx_assignment_type2print": "Assignment",
    "lx_problem_cell_type": "Test",
    "lx_problem_number": "2",
    "lx_problem_points": "2"
   },
   "source": [
    "---\n",
    "#### Local Test for Assignment 1, PROBLEM 2\n",
    "Evaluate cell below to make sure your answer is valid.                             You **should not** modify anything in the cell below when evaluating it to do a local test of                             your solution.\n",
    "You may need to include and evaluate code snippets from lecture notebooks in cells above to make the local test work correctly sometimes (see error messages for clues). This is meant to help you become efficient at recalling materials covered in lectures that relate to this problem. Such local tests will generally not be available in the exam."
   ]
  },
  {
   "cell_type": "code",
   "execution_count": 5,
   "id": "2c973b56",
   "metadata": {
    "deletable": false,
    "lx_assignment_number": "1",
    "lx_assignment_type": "ASSIGNMENT",
    "lx_assignment_type2print": "Assignment",
    "lx_problem_cell_type": "Test",
    "lx_problem_number": "2",
    "lx_problem_points": "2"
   },
   "outputs": [
    {
     "name": "stdout",
     "output_type": "stream",
     "text": [
      "Good! You have answered as a string for line 1. Hopefully it is the correct!\n",
      "Good! You have answered as a string for line 2. Hopefully it is the correct!\n"
     ]
    }
   ],
   "source": [
    "# Evaluate this cell locally to make sure you have the answer as a string\n",
    "try:\n",
    "    assert(type(line_1_final) == str)\n",
    "    print(\"Good! You have answered as a string for line 1. Hopefully it is the correct!\")\n",
    "except AssertionError:\n",
    "    print(\"Try Again. You should answer with a string.\")\n",
    "try:\n",
    "    assert(type(line_2_final) == str)\n",
    "    print(\"Good! You have answered as a string for line 2. Hopefully it is the correct!\")\n",
    "except AssertionError:\n",
    "    print(\"Try Again. You should answer with a string.\")"
   ]
  },
  {
   "cell_type": "markdown",
   "id": "070074fc",
   "metadata": {
    "deletable": false,
    "lx_assignment_number": "1",
    "lx_assignment_type": "ASSIGNMENT",
    "lx_assignment_type2print": "Assignment",
    "lx_problem_cell_type": "PROBLEM",
    "lx_problem_number": "3",
    "lx_problem_points": "3"
   },
   "source": [
    "---\n",
    "## Assignment 1, PROBLEM 3\n",
    "Maximum Points = 3"
   ]
  },
  {
   "cell_type": "markdown",
   "id": "8fe5a35f",
   "metadata": {
    "deletable": false,
    "lx_assignment_number": "1",
    "lx_assignment_type": "ASSIGNMENT",
    "lx_assignment_type2print": "Assignment",
    "lx_problem_cell_type": "PROBLEM",
    "lx_problem_number": "3",
    "lx_problem_points": "3"
   },
   "source": [
    "\n",
    "In this assignment the goal is to parse the `final.csv` file from the previous problem.\n",
    "\n",
    "1. Read the file `data/final.csv` and parse it using the `csv` package and store the result as follows\n",
    "\n",
    "the `header` variable contains a list of names all as strings\n",
    "\n",
    "the `data` variable should be a list of lists containing all the rows of the csv file"
   ]
  },
  {
   "cell_type": "code",
   "execution_count": 6,
   "id": "5b7bc3dd",
   "metadata": {
    "deletable": false,
    "lx_assignment_number": "1",
    "lx_assignment_type": "ASSIGNMENT",
    "lx_assignment_type2print": "Assignment",
    "lx_problem_cell_type": "PROBLEM",
    "lx_problem_number": "3",
    "lx_problem_points": "3"
   },
   "outputs": [
    {
     "name": "stdout",
     "output_type": "stream",
     "text": [
      "Header: ['region', 'municipality', 'district', 'party', 'votes']\n",
      "Data: [['Blekinge län', 'Karlshamn', '0 - Centrala Asarum', 'S', '519'], ['Blekinge län', 'Karlshamn', '0 - Centrala Asarum', 'SD', '311']]\n"
     ]
    }
   ],
   "source": [
    "import csv\n",
    "\n",
    "with open('data/final.csv', mode='r') as f:\n",
    "    csv_reader = csv.reader(f)\n",
    "    \n",
    "    # Reading the header (first row)\n",
    "    header = next(csv_reader)\n",
    "    \n",
    "    # Reading the rest of the data (rows)\n",
    "    data = []\n",
    "    for row in csv_reader:\n",
    "        data.append(row)\n",
    "    \n",
    "    # Print header and data\n",
    "    print(\"Header:\", header)\n",
    "    print(\"Data:\", data[:2])\n",
    "\n",
    "\n",
    "        \n"
   ]
  },
  {
   "cell_type": "markdown",
   "id": "d8f07ee3",
   "metadata": {
    "deletable": false,
    "lx_assignment_number": "1",
    "lx_assignment_type": "ASSIGNMENT",
    "lx_assignment_type2print": "Assignment",
    "lx_problem_cell_type": "Test",
    "lx_problem_number": "3",
    "lx_problem_points": "3"
   },
   "source": [
    "---\n",
    "#### Local Test for Assignment 1, PROBLEM 3\n",
    "Evaluate cell below to make sure your answer is valid.                             You **should not** modify anything in the cell below when evaluating it to do a local test of                             your solution.\n",
    "You may need to include and evaluate code snippets from lecture notebooks in cells above to make the local test work correctly sometimes (see error messages for clues). This is meant to help you become efficient at recalling materials covered in lectures that relate to this problem. Such local tests will generally not be available in the exam."
   ]
  },
  {
   "cell_type": "code",
   "execution_count": 7,
   "id": "f1beb51a",
   "metadata": {
    "deletable": false,
    "lx_assignment_number": "1",
    "lx_assignment_type": "ASSIGNMENT",
    "lx_assignment_type2print": "Assignment",
    "lx_problem_cell_type": "Test",
    "lx_problem_number": "3",
    "lx_problem_points": "3"
   },
   "outputs": [
    {
     "name": "stdout",
     "output_type": "stream",
     "text": [
      "Good! You have the header as a list. Hopefully it is the correct!\n",
      "Good! You have the header as a list of strings. Hopefully it is the correct!\n",
      "Good! You have the data as a list. Hopefully it is the correct!\n",
      "Good! You have the data as a list of lists. Hopefully it is the correct!\n",
      "Good! You have the data as a list of lists of strings. Hopefully it is the correct!\n"
     ]
    }
   ],
   "source": [
    "\n",
    "# Evaluate this cell locally to make sure you have the answer in the right format\n",
    "try:\n",
    "    assert(type(header) == list)\n",
    "    print(\"Good! You have the header as a list. Hopefully it is the correct!\")\n",
    "except AssertionError:\n",
    "    print(\"Try Again. You should answer with a list.\")\n",
    "try:\n",
    "    types = set([type(a) for a in header])\n",
    "    assert((len(types) == 1) and (list(types)[0] == str))\n",
    "    print(\"Good! You have the header as a list of strings. Hopefully it is the correct!\")\n",
    "except AssertionError:\n",
    "    print(\"Try Again. You should answer with a list of strings.\")\n",
    "try:\n",
    "    assert(type(data) == list)\n",
    "    print(\"Good! You have the data as a list. Hopefully it is the correct!\")\n",
    "except AssertionError:\n",
    "    print(\"Try Again. You should answer with a list.\")\n",
    "try:\n",
    "    types = set([type(a) for a in data])\n",
    "    assert((len(types) == 1) and (list(types)[0] == list))\n",
    "    print(\"Good! You have the data as a list of lists. Hopefully it is the correct!\")\n",
    "except AssertionError:\n",
    "    print(\"Try Again. You should answer with a list of lists.\")\n",
    "try:\n",
    "    types = set(sum([[type(d) for d in t] for t in data[:1]],[]))\n",
    "    assert((len(types) == 1) and (list(types)[0] == str))\n",
    "    print(\"Good! You have the data as a list of lists of strings. Hopefully it is the correct!\")\n",
    "except AssertionError:\n",
    "    print(\"Try Again. You should answer with a list of lists of strings.\")"
   ]
  },
  {
   "cell_type": "markdown",
   "id": "19c8958e",
   "metadata": {
    "deletable": false,
    "lx_assignment_number": "1",
    "lx_assignment_type": "ASSIGNMENT",
    "lx_assignment_type2print": "Assignment",
    "lx_problem_cell_type": "PROBLEM",
    "lx_problem_number": "4",
    "lx_problem_points": "8"
   },
   "source": [
    "---\n",
    "## Assignment 1, PROBLEM 4\n",
    "Maximum Points = 8"
   ]
  },
  {
   "cell_type": "markdown",
   "id": "d9b0e8a2",
   "metadata": {
    "deletable": false,
    "lx_assignment_number": "1",
    "lx_assignment_type": "ASSIGNMENT",
    "lx_assignment_type2print": "Assignment",
    "lx_problem_cell_type": "PROBLEM",
    "lx_problem_number": "4",
    "lx_problem_points": "8"
   },
   "source": [
    "\n",
    "## Students passing exam (Sample exam problem)\n",
    "Let's say we have an exam question which consists of $10$ yes/no questions. \n",
    "From past performance of similar students, a randomly chosen student will know the correct answer to $N \\sim \\text{binom}(10,6/10)$ questions. Furthermore, we assume that the student will guess the answer with equal probability to each question they don't know the answer to, i.e. given $N$ we define $Z \\sim \\text{binom}(10-N,1/2)$ as the number of correctly guessed answers. Define $Y = N + Z$, i.e., $Y$ represents the number of total correct answers.\n",
    "\n",
    "We are interested in setting a deterministic threshold $T$, i.e., we would pass a student at threshold $T$ if $Y \\geq T$. Here $T \\in \\{0,1,2,\\ldots,10\\}$.\n",
    "\n",
    "1. [5p] For each threshold $T$, compute the probability that the student *knows* less than $5$ correct answers given that the student passed, i.e., $N < 5$. Put the answer in `problem11_probabilities` as a list.\n",
    "2. [3p] What is the smallest value of $T$ such that if $Y \\geq T$ then we are 90\\% certain that $N \\geq 5$?"
   ]
  },
  {
   "cell_type": "code",
   "execution_count": 8,
   "id": "432666c8",
   "metadata": {},
   "outputs": [
    {
     "name": "stdout",
     "output_type": "stream",
     "text": [
      "[0.16623862 0.16623853 0.16623512 0.16617364 0.16551733 0.16089403\n",
      " 0.1444528  0.11223026 0.07321212 0.04058456 0.01972771]\n",
      "[0.83376138 0.83376147 0.83376488 0.83382636 0.83448267 0.83910597\n",
      " 0.8555472  0.88776974 0.92678788 0.95941544 0.98027229]\n"
     ]
    }
   ],
   "source": [
    "from scipy.special import binom as binomial\n",
    "import numpy as np\n",
    "\n",
    "# Parameters\n",
    "prob_know = 0.6\n",
    "prob_guess = 0.5\n",
    "\n",
    "# P(N = n): Probability of knowing n answers\n",
    "def p_N(n):\n",
    "    return binomial(10, n) * ((1 - prob_know) ** (10 - n)) * (prob_know ** n)\n",
    "\n",
    "# P(Y = y | N = n): Conditional probability of total correct answers\n",
    "def p_Y_given_N(n, y):\n",
    "    z = y - n  # Z = Y - N\n",
    "    if 0 <= z <= (10 - n):  # Z must be valid\n",
    "        return binomial(10 - n, z) * (prob_guess ** z) * ((1 - prob_guess) ** (10 - n - z))\n",
    "    return 0\n",
    "\n",
    "# P(Y = y): Marginal probability of total correct answers\n",
    "def prob_Y(y):\n",
    "    return sum(p_N(k) * p_Y_given_N(k, y) for k in range(11))\n",
    "\n",
    "# P(Y >= T): Marginal probability of scoring at least T correct answers\n",
    "def P_Y_geq_T(T):\n",
    "    return sum(prob_Y(y) for y in range(T, 11))\n",
    "\n",
    "# P(N < 5 and Y >= T): Joint probability\n",
    "def prob_N_given_Y(T):\n",
    "    total_prob = 0\n",
    "    for n in range(5):  # N < 5\n",
    "        for y in range(T, 11):  # Y >= T\n",
    "            total_prob += p_N(n) * p_Y_given_N(n, y)\n",
    "    return total_prob\n",
    "\n",
    "# Compute probabilities P(N < 5 | Y >= T) for all T\n",
    "probabilities = []\n",
    "for T in range(11):\n",
    "    if P_Y_geq_T(T) > 0:\n",
    "        probabilities.append(prob_N_given_Y(T) / P_Y_geq_T(T))\n",
    "    else:\n",
    "        probabilities.append(0)\n",
    "\n",
    "# Convert to NumPy array and print results\n",
    "prob = np.array(probabilities)\n",
    "print(prob)\n",
    "print(1-prob)\n"
   ]
  },
  {
   "cell_type": "code",
   "execution_count": 9,
   "id": "0a1e3cee",
   "metadata": {
    "deletable": false,
    "lx_assignment_number": "1",
    "lx_assignment_type": "ASSIGNMENT",
    "lx_assignment_type2print": "Assignment",
    "lx_problem_cell_type": "PROBLEM",
    "lx_problem_number": "4",
    "lx_problem_points": "8"
   },
   "outputs": [
    {
     "name": "stdout",
     "output_type": "stream",
     "text": [
      "[0.16623861760000005, 0.16623853222282575, 0.16623511712151579, 0.16617364051358016, 0.16551732549063342, 0.1608940308080942, 0.14445279891451654, 0.11223025722358065, 0.07321212315323332, 0.04058456420898438, 0.01972770690917968]\n"
     ]
    },
    {
     "name": "stderr",
     "output_type": "stream",
     "text": [
      "/Users/arokah/Downloads/ds_files/Utils.py:362: SyntaxWarning: invalid escape sequence '\\i'\n",
      "  \"\"\"\n"
     ]
    }
   ],
   "source": [
    "\n",
    "#pt 1 we need P(N<5|Y>=T) for each T\n",
    "# Hint the PMF of N is p_N(k) where p_N is\n",
    "from scipy.special import binom as binomial\n",
    "import numpy as np\n",
    "from Utils import makeEDF, plotEDF\n",
    "\n",
    "#parameters\n",
    "p = 6/10\n",
    "p_N = lambda k: binomial(10,k)*((1-p)**(10-k))*((p)**k)\n",
    "p_guess = 1/2 \n",
    "Tot_Questions=10 #questions\n",
    "\n",
    "# PMF of Z given N=n: Binomial(10 - k, 1/2)\n",
    "def Z_given_N(n, z):   \n",
    "    if z > (Tot_Questions - n):  # If Z is greater than the remaining questions, PMF is 0\n",
    "        return 0\n",
    "    return binomial(Tot_Questions - n, z) * (p_guess ** z) * ((1 - p_guess) ** (Tot_Questions - n - z))\n",
    "\n",
    "# PMF of Z (marginalized over N)\n",
    "def p_Z(z):\n",
    "    total_prob = 0\n",
    "    # Sum over all possible values of N (0 to 10)\n",
    "    for n in range(Tot_Questions+1):\n",
    "        total_prob += p_N(n) * Z_given_N(n, z) #joint probability that N=n and Z=z \n",
    "    return total_prob\n",
    "\n",
    "\n",
    "# PMF of Y given a fixed N (which is N + Z)\n",
    "def p_Y_given_N(n, y):\n",
    "    z = y - n  # Z = Y - N\n",
    "    if 0 <= z <= (Tot_Questions - n):  # Z must be in a valid range\n",
    "        return Z_given_N(n, z)\n",
    "    return 0\n",
    "\n",
    "# PMF of Y marginalized across all n \n",
    "def Y(y):\n",
    "    total_prob = 0\n",
    "    # Sum over all possible values of N (0 to 10)\n",
    "    for n in range(Tot_Questions + 1):\n",
    "        total_prob += p_Y_given_N(n,y) * p_N(n)\n",
    "    return total_prob\n",
    "\n",
    "def numeratorPtOne(T): #P(Y>=T|N<5)*P(N<5)\n",
    "    total_prob = 0\n",
    "    for n in range(5):  # n = 0, 1, 2, 3, 4\n",
    "        # P(Y >= T given N = k) is the sum of probabilities for Y >= T\n",
    "        prob_Y_geq_T_given_N_n = sum(p_Y_given_N(n, y) for y in range(T, Tot_Questions + 1))\n",
    "        total_prob +=  prob_Y_geq_T_given_N_n * p_N(n)\n",
    "    return total_prob\n",
    "\n",
    "# CDF of Y, i.e., P(Y <= T)\n",
    "def CDF_Y(T):\n",
    "    total_prob = 0\n",
    "    # Sum over all values of Y up to T\n",
    "    for y in range(T + 1):\n",
    "        total_prob += Y(y)\n",
    "    return total_prob\n",
    "\n",
    "# P(Y >= T) using the complement of the CDF\n",
    "def P_Y_geq_T(T):\n",
    "    return 1 - CDF_Y(T - 1)\n",
    "\n",
    "# For each threshold T, compute the conditional probability P(N < 5 | Y >= T)\n",
    "conditional_probs = []\n",
    "for T in range(Tot_Questions + 1):\n",
    "    numerator = numeratorPtOne(T)\n",
    "    denominator = P_Y_geq_T(T)\n",
    "    if denominator == 0:\n",
    "        conditional_probs.append(0)\n",
    "    else:\n",
    "        conditional_probs.append(numerator / denominator)\n",
    "\n",
    "# Output the list of conditional probabilities for each threshold T\n",
    "print(conditional_probs)\n",
    "\n",
    "\n",
    "\n",
    "\n"
   ]
  },
  {
   "cell_type": "code",
   "execution_count": 10,
   "id": "af28f960",
   "metadata": {
    "deletable": false,
    "lx_assignment_number": "1",
    "lx_assignment_type": "ASSIGNMENT",
    "lx_assignment_type2print": "Assignment",
    "lx_problem_cell_type": "PROBLEM",
    "lx_problem_number": "4",
    "lx_problem_points": "8"
   },
   "outputs": [],
   "source": [
    "\n",
    "# Part 1: \n",
    "# replace XXX to represent P(N < 5) for T = [0,1,2,...,10], i.e. your answer should be a list\n",
    "# of length 11.\n",
    "problem11_probabilities = [0.16623861760000005, 0.16623853222282575, 0.16623511712151579, 0.16617364051358016, 0.16551732549063342, 0.1608940308080942, 0.14445279891451654, 0.11223025722358065, 0.07321212315323332, 0.04058456420898438, 0.01972770690917968]\n"
   ]
  },
  {
   "cell_type": "code",
   "execution_count": 11,
   "id": "66204b27",
   "metadata": {
    "deletable": false,
    "lx_assignment_number": "1",
    "lx_assignment_type": "ASSIGNMENT",
    "lx_assignment_type2print": "Assignment",
    "lx_problem_cell_type": "PROBLEM",
    "lx_problem_number": "4",
    "lx_problem_points": "8"
   },
   "outputs": [
    {
     "name": "stdout",
     "output_type": "stream",
     "text": [
      "[0.8337613824, 0.8337614677771743, 0.8337648828784843, 0.8338263594864198, 0.8344826745093665, 0.8391059691919058, 0.8555472010854834, 0.8877697427764193, 0.9267878768467667, 0.9594154357910156, 0.9802722930908203]\n"
     ]
    }
   ],
   "source": [
    "\n",
    "# Part 2: Give an integer between 0 and 10 which is the answer to 2.\n",
    "print([1-x for x in problem11_probabilities])\n",
    "problem12_T = 8"
   ]
  },
  {
   "cell_type": "markdown",
   "id": "5ca34e5c",
   "metadata": {
    "deletable": false,
    "lx_assignment_number": "1",
    "lx_assignment_type": "ASSIGNMENT",
    "lx_assignment_type2print": "Assignment",
    "lx_problem_cell_type": "PROBLEM",
    "lx_problem_number": "5",
    "lx_problem_points": "8"
   },
   "source": [
    "---\n",
    "## Assignment 1, PROBLEM 5\n",
    "Maximum Points = 8"
   ]
  },
  {
   "cell_type": "markdown",
   "id": "b838295b",
   "metadata": {
    "deletable": false,
    "lx_assignment_number": "1",
    "lx_assignment_type": "ASSIGNMENT",
    "lx_assignment_type2print": "Assignment",
    "lx_problem_cell_type": "PROBLEM",
    "lx_problem_number": "5",
    "lx_problem_points": "8"
   },
   "source": [
    "\n",
    "## Concentration of measure (Sample exam problem)\n",
    "\n",
    "As you recall, we said that concentration of measure was simply the phenomenon where we expect that the probability of a large deviation of some quantity becoming smaller as we observe more samples: [0.4 points per correct answer]\n",
    "\n",
    "1. Which of the following will exponentially concentrate, i.e. for some $C_1,C_2,C_3,C_4 $ \n",
    "$$\n",
    "    P(Z - \\mathbb{E}[Z] \\geq \\epsilon) \\leq C_1 e^{-C_2 n \\epsilon^2} \\vee C_3 e^{-C_4 n (\\epsilon+1)} \\enspace .\n",
    "$$\n",
    "\n",
    "    1. The empirical variance of i.i.d. random variables with finite mean?\n",
    "    2. The empirical variance of i.i.d. sub-Gaussian random variables?\n",
    "    3. The empirical variance of i.i.d. sub-Exponential random variables?\n",
    "    4. The empirical mean of i.i.d. sub-Gaussian random variables?\n",
    "    5. The empirical mean of i.i.d. sub-Exponential random variables?\n",
    "    6. The empirical mean of i.i.d. random variables with finite variance?\n",
    "    7. The empirical third moment of i.i.d. random variables with finite sixth moment?\n",
    "    8. The empirical fourth moment of i.i.d. sub-Gaussian random variables?\n",
    "    9. The empirical mean of i.i.d. deterministic random variables?\n",
    "    10. The empirical tenth moment of i.i.d. Bernoulli random variables?\n",
    "\n",
    "2. Which of the above will concentrate in the weaker sense, that for some $C_1$\n",
    "$$\n",
    "    P(Z - \\mathbb{E}[Z] \\geq \\epsilon) \\leq \\frac{C_1}{n \\epsilon^2}?\n",
    "$$"
   ]
  },
  {
   "cell_type": "code",
   "execution_count": 12,
   "id": "3556b712",
   "metadata": {
    "deletable": false,
    "lx_assignment_number": "1",
    "lx_assignment_type": "ASSIGNMENT",
    "lx_assignment_type2print": "Assignment",
    "lx_problem_cell_type": "PROBLEM",
    "lx_problem_number": "5",
    "lx_problem_points": "8"
   },
   "outputs": [],
   "source": [
    "\n",
    "# Answers to part 1, which of the alternatives exponentially concentrate, answer as a list\n",
    "# i.e. [1,4,5] that is example 1, 4, and 5 concentrate\n",
    "problem3_answer_1 = [2,4,5,9,10]"
   ]
  },
  {
   "cell_type": "code",
   "execution_count": 13,
   "id": "1859ff70",
   "metadata": {
    "deletable": false,
    "lx_assignment_number": "1",
    "lx_assignment_type": "ASSIGNMENT",
    "lx_assignment_type2print": "Assignment",
    "lx_problem_cell_type": "PROBLEM",
    "lx_problem_number": "5",
    "lx_problem_points": "8"
   },
   "outputs": [],
   "source": [
    "\n",
    "# Answers to part 2, which of the alternatives concentrate in the weaker sense, answer as a list\n",
    "# i.e. [1,4,5] that is example 1, 4, and 5 concentrate\n",
    "problem3_answer_2 = [2,3,4,5,6,7,8,9,10]"
   ]
  },
  {
   "cell_type": "code",
   "execution_count": 14,
   "id": "d4c22654",
   "metadata": {},
   "outputs": [
    {
     "name": "stdout",
     "output_type": "stream",
     "text": [
      "[0.9988, 0.9936, 0.9946, 0.9949]\n"
     ]
    },
    {
     "data": {
      "image/png": "[encoded data removed]",
      "text/plain": [
       "<Figure size 800x500 with 1 Axes>"
      ]
     },
     "metadata": {},
     "output_type": "display_data"
    }
   ],
   "source": [
    "import numpy as np\n",
    "import matplotlib.pyplot as plt\n",
    "\n",
    "# Set parameters\n",
    "alpha = 0.05  # significance level\n",
    "p = 0.4       # true value of p\n",
    "num_simulations = 10000  # number of simulations for each n\n",
    "n_values = [10, 100, 1000, 10000]  # different sample sizes\n",
    "\n",
    "# Function to calculate epsilon_n (the margin of error) based on Hoeffding's inequality\n",
    "def epsilon_n(n, alpha):\n",
    "    return np.sqrt(np.log(2/alpha) / (2 * n))\n",
    "\n",
    "# Function to simulate and check if p is in the confidence interval\n",
    "def coverage(n, alpha, p, num_simulations):\n",
    "    epsilon = epsilon_n(n, alpha)\n",
    "    covered = 0\n",
    "    for _ in range(num_simulations):\n",
    "        # Generate n Bernoulli trials with probability p\n",
    "        X = np.random.binomial(1, p, n)\n",
    "        p_hat = np.mean(X)  # empirical proportion\n",
    "        # Check if true p lies within the confidence interval\n",
    "        if p_hat - epsilon <= p <= p_hat + epsilon:\n",
    "            covered += 1\n",
    "    return covered / num_simulations\n",
    "\n",
    "# Run the simulations for each n\n",
    "coverages = [coverage(n, alpha, p, num_simulations) for n in n_values]\n",
    "print(coverages)\n",
    "\n",
    "# Plotting\n",
    "plt.figure(figsize=(8, 5))\n",
    "plt.plot(n_values, coverages, marker='o', linestyle='-', color='b')\n",
    "plt.axhline(y=1 - alpha, color='r', linestyle='--', label=f'1 - α = {1 - alpha}')\n",
    "plt.xlabel('Sample Size (n)')\n",
    "plt.ylabel('Coverage Probability')\n",
    "plt.title('Coverage Probability as a Function of Sample Size (n)')\n",
    "plt.xscale('log')  # Use log scale for better visualization\n",
    "plt.ylim(0, 1.05)\n",
    "plt.legend()\n",
    "plt.grid(True)\n",
    "plt.show()\n"
   ]
  },
  {
   "cell_type": "code",
   "execution_count": 15,
   "id": "c0787101",
   "metadata": {},
   "outputs": [
    {
     "data": {
      "image/png": "[encoded data removed]",
      "text/plain": [
       "<Figure size 800x500 with 1 Axes>"
      ]
     },
     "metadata": {},
     "output_type": "display_data"
    }
   ],
   "source": [
    "alpha = 0.05  # significance level\n",
    "n_values = np.arange(10, 10000, 10)  # range of n values for plotting\n",
    "\n",
    "# Function to calculate epsilon_n based on Hoeffding's inequality\n",
    "def epsilon_n(n, alpha):\n",
    "    return np.sqrt(np.log(2 / alpha) / (2 * n))\n",
    "\n",
    "# Calculate the interval lengths for each n\n",
    "interval_lengths = 2 * epsilon_n(n_values, alpha)\n",
    "\n",
    "# Plotting the interval length as a function of n\n",
    "plt.figure(figsize=(8, 5))\n",
    "plt.plot(n_values, interval_lengths, color='b', label='Interval Length (Hoeffding)')\n",
    "plt.xlabel('Sample Size (n)')\n",
    "plt.ylabel('Confidence Interval Length')\n",
    "plt.title('Length of Confidence Interval as a Function of Sample Size (n)')\n",
    "plt.xscale('log')  # Log scale for better visualization\n",
    "plt.grid(True)\n",
    "plt.legend()\n",
    "plt.show()\n"
   ]
  }
 ],
 "metadata": {
  "kernelspec": {
   "display_name": "Python 3",
   "language": "python",
   "name": "python3"
  },
  "language_info": {
   "codemirror_mode": {
    "name": "ipython",
    "version": 3
   },
   "file_extension": ".py",
   "mimetype": "text/x-python",
   "name": "python",
   "nbconvert_exporter": "python",
   "pygments_lexer": "ipython3",
   "version": "3.12.0"
  },
  "lx_assignment_number": 1,
  "lx_course_instance": "2024",
  "lx_course_name": "Introduction to Data Science",
  "lx_course_number": "1MS041"
 },
 "nbformat": 4,
 "nbformat_minor": 5
}
