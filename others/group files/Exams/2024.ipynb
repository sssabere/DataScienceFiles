{
 "cells": [
  {
   "cell_type": "markdown",
   "metadata": {},
   "source": [
    "Problem 1"
   ]
  },
  {
   "cell_type": "code",
   "metadata": {
    "ExecuteTime": {
     "end_time": "2025-01-15T14:11:55.869166Z",
     "start_time": "2025-01-15T14:11:54.189071Z"
    }
   },
   "source": [
    "import numpy as np\n",
    "import matplotlib.pyplot as plt\n",
    "\n",
    "\n",
    "def problem1_inversion(n_samples=1000):\n",
    "    # Distribution from part 1\n",
    "    # write the code in this function to produce samples from the distribution in the assignment\n",
    "    # Make sure you choose a good sampling distribution to avoid unnecessary rejections\n",
    "    # Return a numpy array of length n_samples\n",
    "\n",
    "    accepted_samples = []\n",
    "\n",
    "    target = lambda x: np.clip((np.exp(x ** 2) - 1) / (np.e - 1), 0, 1)\n",
    "    proposal = lambda x: 1\n",
    "\n",
    "    while len(accepted_samples) < n_samples:\n",
    "        x = np.random.uniform(1e-6, 1)\n",
    "        u = np.random.uniform(1e-6, 1)  # Uniform random for acceptance criterion\n",
    "\n",
    "        if u <= 1.1 * target(x):\n",
    "            accepted_samples.append(x)  # Accept x\n",
    "\n",
    "    return np.array(accepted_samples)\n",
    "\n",
    "\n",
    "accepted_samples = problem1_inversion(n_samples=100000)\n",
    "\n",
    "plt.hist(accepted_samples, bins=100)"
   ],
   "outputs": [
    {
     "data": {
      "text/plain": [
       "(array([3.000e+00, 3.000e+00, 5.000e+00, 7.000e+00, 9.000e+00, 1.200e+01,\n",
       "        1.500e+01, 2.500e+01, 2.800e+01, 2.800e+01, 2.900e+01, 3.800e+01,\n",
       "        4.000e+01, 4.800e+01, 8.000e+01, 4.900e+01, 8.400e+01, 7.200e+01,\n",
       "        1.030e+02, 8.800e+01, 1.210e+02, 1.260e+02, 1.360e+02, 1.380e+02,\n",
       "        1.530e+02, 1.460e+02, 1.640e+02, 2.030e+02, 1.950e+02, 2.080e+02,\n",
       "        2.210e+02, 2.610e+02, 2.470e+02, 2.930e+02, 2.900e+02, 3.350e+02,\n",
       "        3.120e+02, 3.590e+02, 3.540e+02, 3.810e+02, 3.860e+02, 4.110e+02,\n",
       "        4.400e+02, 4.720e+02, 4.810e+02, 5.160e+02, 5.210e+02, 5.920e+02,\n",
       "        5.860e+02, 5.780e+02, 6.900e+02, 6.820e+02, 7.030e+02, 6.650e+02,\n",
       "        7.780e+02, 7.620e+02, 8.340e+02, 8.390e+02, 8.810e+02, 9.080e+02,\n",
       "        1.001e+03, 1.042e+03, 1.096e+03, 1.100e+03, 1.165e+03, 1.205e+03,\n",
       "        1.203e+03, 1.217e+03, 1.311e+03, 1.407e+03, 1.389e+03, 1.473e+03,\n",
       "        1.436e+03, 1.567e+03, 1.620e+03, 1.714e+03, 1.664e+03, 1.776e+03,\n",
       "        1.825e+03, 1.902e+03, 1.909e+03, 2.053e+03, 2.148e+03, 2.149e+03,\n",
       "        2.245e+03, 2.288e+03, 2.378e+03, 2.500e+03, 2.550e+03, 2.589e+03,\n",
       "        2.786e+03, 2.748e+03, 2.899e+03, 2.889e+03, 3.098e+03, 3.114e+03,\n",
       "        3.289e+03, 3.338e+03, 3.411e+03, 3.372e+03]),\n",
       " array([0.02271708, 0.03248989, 0.0422627 , 0.05203552, 0.06180833,\n",
       "        0.07158114, 0.08135395, 0.09112677, 0.10089958, 0.11067239,\n",
       "        0.1204452 , 0.13021802, 0.13999083, 0.14976364, 0.15953645,\n",
       "        0.16930927, 0.17908208, 0.18885489, 0.1986277 , 0.20840052,\n",
       "        0.21817333, 0.22794614, 0.23771895, 0.24749177, 0.25726458,\n",
       "        0.26703739, 0.2768102 , 0.28658302, 0.29635583, 0.30612864,\n",
       "        0.31590145, 0.32567427, 0.33544708, 0.34521989, 0.3549927 ,\n",
       "        0.36476552, 0.37453833, 0.38431114, 0.39408395, 0.40385677,\n",
       "        0.41362958, 0.42340239, 0.4331752 , 0.44294802, 0.45272083,\n",
       "        0.46249364, 0.47226645, 0.48203927, 0.49181208, 0.50158489,\n",
       "        0.5113577 , 0.52113052, 0.53090333, 0.54067614, 0.55044895,\n",
       "        0.56022177, 0.56999458, 0.57976739, 0.5895402 , 0.59931302,\n",
       "        0.60908583, 0.61885864, 0.62863145, 0.63840427, 0.64817708,\n",
       "        0.65794989, 0.6677227 , 0.67749552, 0.68726833, 0.69704114,\n",
       "        0.70681395, 0.71658677, 0.72635958, 0.73613239, 0.7459052 ,\n",
       "        0.75567802, 0.76545083, 0.77522364, 0.78499645, 0.79476927,\n",
       "        0.80454208, 0.81431489, 0.8240877 , 0.83386052, 0.84363333,\n",
       "        0.85340614, 0.86317895, 0.87295177, 0.88272458, 0.89249739,\n",
       "        0.9022702 , 0.91204302, 0.92181583, 0.93158864, 0.94136145,\n",
       "        0.95113427, 0.96090708, 0.97067989, 0.9804527 , 0.99022552,\n",
       "        0.99999833]),\n",
       " <BarContainer object of 100 artists>)"
      ]
     },
     "execution_count": 5,
     "metadata": {},
     "output_type": "execute_result"
    },
    {
     "data": {
      "text/plain": [
       "<Figure size 640x480 with 1 Axes>"
      ],
      "image/png": "[encoded data removed]"
     },
     "metadata": {},
     "output_type": "display_data"
    }
   ],
   "execution_count": 5
  },
  {
   "cell_type": "markdown",
   "metadata": {},
   "source": [
    "Problem 2 (This is exacly the same as an assignment)"
   ]
  },
  {
   "cell_type": "markdown",
   "metadata": {},
   "source": [
    "Problem 3"
   ]
  },
  {
   "metadata": {
    "ExecuteTime": {
     "end_time": "2025-01-15T14:11:55.882643Z",
     "start_time": "2025-01-15T14:11:55.878658Z"
    }
   },
   "cell_type": "code",
   "source": [
    "# PART 1\n",
    "#------------------------TRANSITION MATRIX -------------------------------\n",
    "# Answer each one by supplying the transition matrix as a numpy array\n",
    "# of shape (n_states,n_states), where state (A,B,...) corresponds to index (0,1,...)\n",
    "\n",
    "import numpy as np\n",
    "\n",
    "problem3_A = np.array([[0.8, 0.2, 0.0, 0.0],\n",
    "                       [0.6, 0.2, 0.2, 0.0],\n",
    "                       [0.0, 0.4, 0.0, 0.6],\n",
    "                       [0.0, 0.0, 0.8, 0.2]])\n",
    "\n",
    "problem3_B = np.array([[0.0, 0.2, 0.0, 0.8],\n",
    "                       [0.0, 0.0, 1.0, 0.0],\n",
    "                       [0.0, 1.0, 0.0, 0.0],\n",
    "                       [0.5, 0.0, 0.5, 0.0]])\n",
    "\n",
    "problem3_C = np.array([[0.2, 0.3, 0.0, 0.0, 0.5],\n",
    "                       [0.2, 0.2, 0.6, 0.0, 0.0],\n",
    "                       [0.0, 0.4, 0.0, 0.6, 0.0],\n",
    "                       [0.0, 0.0, 0.0, 0.6, 0.4],\n",
    "                       [0.0, 0.0, 0.0, 0.4, 0.6]])\n",
    "\n",
    "problem3_D = np.array([[0.8, 0.2, 0.0, 0.0],\n",
    "                       [0.6, 0.2, 0.2, 0.0],\n",
    "                       [0.0, 0.4, 0.0, 0.6],\n",
    "                       [0.1, 0.0, 0.7, 0.2]])"
   ],
   "outputs": [],
   "execution_count": 6
  },
  {
   "metadata": {
    "ExecuteTime": {
     "end_time": "2025-01-15T14:11:55.893417Z",
     "start_time": "2025-01-15T14:11:55.889479Z"
    }
   },
   "cell_type": "code",
   "source": [
    "'''\n",
    "To check for irreducibility, raise the matrix to a high power\n",
    "and check for convergence. No elements should approach 0.\n",
    "'''\n",
    "\n",
    "\n",
    "def check_irreducibility(lst):\n",
    "    if isinstance(lst, list):\n",
    "        pass\n",
    "    else:\n",
    "        raise Exception(\"Input to check_irreducibility() must be a LIST!\")\n",
    "\n",
    "    i = 0\n",
    "    for matrix in lst:\n",
    "        if matrix.shape[0] != matrix.shape[1]:\n",
    "            raise Exception(f\"Matrix #{i} is not square!\")\n",
    "        matrix_inf = np.linalg.matrix_power(matrix, 1000)\n",
    "        if np.any(matrix_inf < 1e-10):\n",
    "            print(f\"Matrix #{i} is REDUCIBLE!.\")\n",
    "            # print(matrix)\n",
    "        else:\n",
    "            print(f\"Matrix #{i} is irreducible.\")\n",
    "\n",
    "        i += 1\n",
    "\n",
    "\n",
    "check_irreducibility([problem3_A, problem3_B, problem3_C, problem3_D])\n",
    "\n",
    "problem3_A_irreducible = True\n",
    "problem3_B_irreducible = False\n",
    "problem3_C_irreducible = False\n",
    "problem3_D_irreducible = True"
   ],
   "outputs": [
    {
     "name": "stdout",
     "output_type": "stream",
     "text": [
      "Matrix #0 is irreducible.\n",
      "Matrix #1 is REDUCIBLE!.\n",
      "Matrix #2 is REDUCIBLE!.\n",
      "Matrix #3 is irreducible.\n"
     ]
    }
   ],
   "execution_count": 7
  },
  {
   "metadata": {
    "ExecuteTime": {
     "end_time": "2025-01-15T14:11:55.905601Z",
     "start_time": "2025-01-15T14:11:55.900182Z"
    }
   },
   "cell_type": "code",
   "source": [
    "\n",
    "import numpy as np\n",
    "import numpy as np\n",
    "\n",
    "def stat_distr(p):\n",
    "    A = p.T - np.eye(p.shape[0])\n",
    "    b = np.zeros(p.shape[0])\n",
    "\n",
    "    A[-1] = 1\n",
    "    b[-1] = 1\n",
    "\n",
    "    return np.linalg.solve(A, b)\n",
    "\n",
    "def reversible_markov(A):\n",
    "    n = len(A)\n",
    "\n",
    "    stationary_dist = stat_distr(A)\n",
    "\n",
    "    for i in range(n):\n",
    "        for j in range(n):\n",
    "            if not np.isclose(stationary_dist[i] * A[i, j], stationary_dist[j] * A[j, i]):\n",
    "                print(f\"Chain is not reversible. Detailed balance is violated between states {i} and {j}.\")\n",
    "                return False\n",
    "\n",
    "    print(\"Chain is reversible!\")\n",
    "    return True\n",
    "\n",
    "reversible_markov(problem3_A)\n",
    "\n",
    "\n",
    "\n",
    "\n",
    "\n"
   ],
   "outputs": [
    {
     "name": "stdout",
     "output_type": "stream",
     "text": [
      "Chain is reversible!\n"
     ]
    },
    {
     "data": {
      "text/plain": [
       "True"
      ]
     },
     "execution_count": 8,
     "metadata": {},
     "output_type": "execute_result"
    }
   ],
   "execution_count": 8
  },
  {
   "cell_type": "markdown",
   "metadata": {},
   "source": [
    "Problem 4"
   ]
  },
  {
   "cell_type": "markdown",
   "metadata": {},
   "source": [
    "Problem 5"
   ]
  },
  {
   "metadata": {},
   "cell_type": "markdown",
   "source": ""
  }
 ],
 "metadata": {
  "kernelspec": {
   "display_name": "base",
   "language": "python",
   "name": "python3"
  },
  "language_info": {
   "codemirror_mode": {
    "name": "ipython",
    "version": 3
   },
   "file_extension": ".py",
   "mimetype": "text/x-python",
   "name": "python",
   "nbconvert_exporter": "python",
   "pygments_lexer": "ipython3",
   "version": "3.11.7"
  }
 },
 "nbformat": 4,
 "nbformat_minor": 2
}
