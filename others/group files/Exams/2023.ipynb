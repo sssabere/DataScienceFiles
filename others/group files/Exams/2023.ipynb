{
 "cells": [
  {
   "cell_type": "code",
   "id": "4d58000714257a2d",
   "metadata": {
    "ExecuteTime": {
     "end_time": "2025-01-16T12:45:00.411501Z",
     "start_time": "2025-01-16T12:45:00.404529Z"
    }
   },
   "source": [
    "import numpy as np\n",
    "\n",
    "matrix = np.array([[0.3, 0.4, 0.3],\n",
    "                   [0.2, 0.5, 0.3],\n",
    "                   [0.4, 0.3, 0.3]])\n",
    "\n",
    "start_pos = [0, 1, 0]\n",
    "\n",
    "final_pos = (start_pos @ matrix @ matrix)[0]\n",
    "\n",
    "print(final_pos)"
   ],
   "outputs": [
    {
     "name": "stdout",
     "output_type": "stream",
     "text": [
      "0.28\n"
     ]
    }
   ],
   "execution_count": 48
  },
  {
   "cell_type": "code",
   "id": "2f56c72a56418cae",
   "metadata": {
    "ExecuteTime": {
     "end_time": "2025-01-16T12:45:00.427827Z",
     "start_time": "2025-01-16T12:45:00.424911Z"
    }
   },
   "source": [
    "# Part 2\n",
    "\n",
    "'''\n",
    "There exist two ways:\n",
    "\n",
    "a = suburb -> suburb -> downtown\n",
    "b = suburb -> countryside -> downtown\n",
    "'''\n",
    "a = 1 * 0.5 * 0.2\n",
    "b = 1 * 0.3 * 0.4\n",
    "\n",
    "# Fill in the answer to part 2 below as a decimal number\n",
    "problem1_p2 = a + b\n",
    "print(problem1_p2)"
   ],
   "outputs": [
    {
     "name": "stdout",
     "output_type": "stream",
     "text": [
      "0.22\n"
     ]
    }
   ],
   "execution_count": 49
  },
  {
   "cell_type": "code",
   "id": "cd0e121456074714",
   "metadata": {
    "ExecuteTime": {
     "end_time": "2025-01-16T12:45:00.473597Z",
     "start_time": "2025-01-16T12:45:00.470666Z"
    }
   },
   "source": [
    "# Part 3\n",
    "'''\n",
    "To check for irreducibility, raise the matrix to a high power\n",
    "and check for convergence. No elements should approach 0.\n",
    "'''\n",
    "\n",
    "matrix_inf = np.linalg.matrix_power(matrix, 100)\n",
    "print(matrix_inf)\n",
    "\n",
    "# Fill in the answer to part 3 below as a boolean\n",
    "problem1_irreducible = True"
   ],
   "outputs": [
    {
     "name": "stdout",
     "output_type": "stream",
     "text": [
      "[[0.28888889 0.41111111 0.3       ]\n",
      " [0.28888889 0.41111111 0.3       ]\n",
      " [0.28888889 0.41111111 0.3       ]]\n"
     ]
    }
   ],
   "execution_count": 50
  },
  {
   "cell_type": "code",
   "id": "c7f05ef5446ae273",
   "metadata": {
    "ExecuteTime": {
     "end_time": "2025-01-16T12:45:00.481402Z",
     "start_time": "2025-01-16T12:45:00.478344Z"
    }
   },
   "source": [
    "# Part 4\n",
    "\n",
    "def stat_distr(p):\n",
    "    A = p.T - np.eye(p.shape[0])\n",
    "    b = np.zeros(p.shape[0])\n",
    "\n",
    "    A[-1] = 1\n",
    "    b[-1] = 1\n",
    "\n",
    "    return np.linalg.solve(A, b)\n",
    "\n",
    "\n",
    "problem1_stationary = stat_distr(matrix)\n",
    "print(problem1_stationary)\n",
    "\n"
   ],
   "outputs": [
    {
     "name": "stdout",
     "output_type": "stream",
     "text": [
      "[0.28888889 0.41111111 0.3       ]\n"
     ]
    }
   ],
   "execution_count": 51
  },
  {
   "cell_type": "markdown",
   "id": "5aa87008e66b05bb",
   "metadata": {},
   "source": [
    "**Problem 2**"
   ]
  },
  {
   "cell_type": "code",
   "id": "9bf08457930fbdcb",
   "metadata": {
    "ExecuteTime": {
     "end_time": "2025-01-16T12:45:00.508269Z",
     "start_time": "2025-01-16T12:45:00.500933Z"
    }
   },
   "source": [
    "# Part 1\n",
    "# Let problem2_df be the pandas dataframe that contains the data from the file\n",
    "# data/abalone.csv\n",
    "\n",
    "import pandas as pd\n",
    "\n",
    "data = pd.read_csv(\"data_2/abalone.csv\")\n",
    "\n",
    "Y = data[\"Rings\"]\n",
    "X = data.drop(columns=[\"Rings\", \"Sex\"])\n",
    "X = pd.concat([pd.get_dummies(data[\"Sex\"], dtype=int), X], axis=1)\n",
    "\n",
    "problem2_df = data"
   ],
   "outputs": [],
   "execution_count": 52
  },
  {
   "cell_type": "code",
   "id": "4841c3755a76ce24",
   "metadata": {
    "ExecuteTime": {
     "end_time": "2025-01-16T12:45:00.528867Z",
     "start_time": "2025-01-16T12:45:00.526905Z"
    }
   },
   "source": [
    "# Part 1\n",
    "# Fill in the features as a list of strings of the names of the columns\n",
    "problem2_features = X.columns\n",
    "# Fill in the target as a string with the correct column name\n",
    "problem2_target = \"Rings\""
   ],
   "outputs": [],
   "execution_count": 53
  },
  {
   "cell_type": "code",
   "id": "c63b3a6e1595b0a3",
   "metadata": {
    "ExecuteTime": {
     "end_time": "2025-01-16T12:45:00.551524Z",
     "start_time": "2025-01-16T12:45:00.547394Z"
    }
   },
   "source": [
    "# Part 2\n",
    "# Split the data into train and test using train_test_split\n",
    "# keep the train size as 0.8 and use random_state=42\n",
    "\n",
    "from sklearn.model_selection import train_test_split\n",
    "\n",
    "problem2_X_train, problem2_X_test, problem2_y_train, problem2_y_test = train_test_split(X, Y, train_size=0.8,\n",
    "                                                                                        random_state=42)"
   ],
   "outputs": [],
   "execution_count": 54
  },
  {
   "cell_type": "code",
   "id": "1d9084961a228510",
   "metadata": {
    "ExecuteTime": {
     "end_time": "2025-01-16T12:45:00.574924Z",
     "start_time": "2025-01-16T12:45:00.569608Z"
    }
   },
   "source": [
    "# Part 3\n",
    "# Include the necessary imports\n",
    "# Initialize your linear regression model\n",
    "\n",
    "from sklearn.pipeline import Pipeline\n",
    "from sklearn.linear_model import LinearRegression\n",
    "\n",
    "pipeline = Pipeline([(\"Regressor\", LinearRegression())])\n",
    "\n",
    "pipeline.fit(problem2_X_train, problem2_y_train)\n",
    "\n",
    "problem2_y_pred = pipeline.predict(problem2_X_test)\n",
    "\n",
    "problem2_model = pipeline\n",
    "# Train your model on the training data"
   ],
   "outputs": [],
   "execution_count": 55
  },
  {
   "cell_type": "code",
   "id": "97aa672b8c0de842",
   "metadata": {
    "ExecuteTime": {
     "end_time": "2025-01-16T12:45:00.743281Z",
     "start_time": "2025-01-16T12:45:00.594254Z"
    }
   },
   "source": [
    "# Part 4\n",
    "# Evaluate the model by computing the mean absolute error\n",
    "from sklearn.metrics import mean_squared_error, mean_absolute_error, r2_score\n",
    "import Utils as u\n",
    "import matplotlib.pyplot as plt\n",
    "\n",
    "problem2_mae = mean_absolute_error(problem2_y_test, problem2_y_pred)\n",
    "print(\"MAE:\", problem2_mae)\n",
    "print(\"R2:\", r2_score(problem2_y_test, problem2_y_pred))\n",
    "\n",
    "u.plotEDF(u.makeEDF(problem2_y_test - problem2_y_pred), confidence_band=True, alpha=0.95)\n",
    "\n",
    "plt.scatter(problem2_y_pred, problem2_y_test)"
   ],
   "outputs": [
    {
     "name": "stdout",
     "output_type": "stream",
     "text": [
      "MAE: 1.5931067816608344\n",
      "R2: 0.5481628137889278\n"
     ]
    },
    {
     "data": {
      "text/plain": [
       "<Figure size 640x480 with 1 Axes>"
      ],
      "image/png": "[encoded data removed]"
     },
     "metadata": {},
     "output_type": "display_data"
    },
    {
     "data": {
      "text/plain": [
       "<matplotlib.collections.PathCollection at 0x15b4e5d00>"
      ]
     },
     "execution_count": 56,
     "metadata": {},
     "output_type": "execute_result"
    },
    {
     "data": {
      "text/plain": [
       "<Figure size 640x480 with 1 Axes>"
      ],
      "image/png": "[encoded data removed]"
     },
     "metadata": {},
     "output_type": "display_data"
    }
   ],
   "execution_count": 56
  },
  {
   "cell_type": "code",
   "id": "8bf5c12d5ed2098c",
   "metadata": {
    "ExecuteTime": {
     "end_time": "2025-01-16T12:45:00.780852Z",
     "start_time": "2025-01-16T12:45:00.779556Z"
    }
   },
   "source": [],
   "outputs": [],
   "execution_count": null
  },
  {
   "metadata": {},
   "cell_type": "markdown",
   "source": "**Problem 3**",
   "id": "431b4f5aa44ae0d"
  },
  {
   "metadata": {
    "ExecuteTime": {
     "end_time": "2025-01-16T12:45:00.794028Z",
     "start_time": "2025-01-16T12:45:00.787011Z"
    }
   },
   "cell_type": "code",
   "source": [
    "import pandas as pd\n",
    "\n",
    "# Part 1\n",
    "# Let problem3_df be the pandas dataframe that contains the data from the file\n",
    "# data/visits_clean.csv\n",
    "\n",
    "problem3_df = pd.read_csv(\"data_2/visits_clean.csv\", sep='\\s+')"
   ],
   "id": "3ab49a863f0158d3",
   "outputs": [],
   "execution_count": 57
  },
  {
   "metadata": {
    "ExecuteTime": {
     "end_time": "2025-01-16T12:45:00.816243Z",
     "start_time": "2025-01-16T12:45:00.813513Z"
    }
   },
   "cell_type": "code",
   "source": [
    "# Part 1\n",
    "\n",
    "data_features = problem3_df.drop(columns=[\"ofp\", \"ofnp\", \"opnp\", ], axis=1)\n",
    "\n",
    "# Fill in the features as a list of strings of the names of the columns\n",
    "problem3_features = data_features.columns\n",
    "\n",
    "# Fill in the target as a string with the correct column name\n",
    "problem3_target = \"ofp\""
   ],
   "id": "8fa9f17910f69f0f",
   "outputs": [],
   "execution_count": 58
  },
  {
   "metadata": {
    "ExecuteTime": {
     "end_time": "2025-01-16T12:45:00.839776Z",
     "start_time": "2025-01-16T12:45:00.835557Z"
    }
   },
   "cell_type": "code",
   "source": [
    "from sklearn.model_selection import train_test_split\n",
    "\n",
    "# Part 2\n",
    "\n",
    "# Fill in your X and y below\n",
    "problem3_X = problem3_df[problem3_features].to_numpy()\n",
    "problem3_y = problem3_df[problem3_target].to_numpy()\n",
    "\n",
    "# Split the data into train and test using train_test_split\n",
    "# keep the train size as 0.8 and use random_state=42\n",
    "problem3_X_train, problem3_X_test, problem3_y_train, problem3_y_test = train_test_split(problem3_X, problem3_y,\n",
    "                                                                                        train_size=0.8, random_state=42)"
   ],
   "id": "7dcd27d4cff28628",
   "outputs": [],
   "execution_count": 59
  },
  {
   "metadata": {
    "ExecuteTime": {
     "end_time": "2025-01-16T12:45:00.878204Z",
     "start_time": "2025-01-16T12:45:00.874026Z"
    }
   },
   "cell_type": "code",
   "source": [
    "# Part 3\n",
    "# Fill in the function loss below\n",
    "class PoissonRegression(object):\n",
    "\n",
    "    def __init__(self):\n",
    "        self.coeffs = None\n",
    "        self.result = None\n",
    "\n",
    "    def fit(self, X, Y):\n",
    "        import numpy as np\n",
    "        from scipy import optimize\n",
    "        import scipy.special as sc\n",
    "\n",
    "        # define the objective/cost/loss function we want to minimise\n",
    "\n",
    "        def loss(coeffs):\n",
    "            # The parameter lambda for the given X and the proposed values\n",
    "            # of the coefficients, here coeff[:-1] represent alpha\n",
    "            # and coeff[-1] represent beta\n",
    "            lam = np.exp(np.dot(X, coeffs[:-1]) + coeffs[-1])\n",
    "            # use the Y variable that is available here to define\n",
    "            # the loss function, return the value of the loss for\n",
    "            # this Y and for this parameter lam defined above\n",
    "\n",
    "            f = ((lam ** Y) * (np.exp(-lam))) / np.exp(sc.gammaln(Y + 1))\n",
    "            positive_likelihoods = f[f > 1e-10]  #filter zeros\n",
    "\n",
    "            negative_log_likelihood = -np.sum(np.log(positive_likelihoods))\n",
    "\n",
    "            return negative_log_likelihood\n",
    "\n",
    "        #Use the loss above together with an optimization method from scipy\n",
    "        #to find the coefficients of the model\n",
    "        #this is prepared for you below\n",
    "\n",
    "        initial_arguments = np.zeros(shape=X.shape[1] + 1)  # initial guess as 0\n",
    "        self.result = optimize.minimize(loss, initial_arguments, method='cg')\n",
    "        self.coeffs = self.result.x\n",
    "\n",
    "    def predict(self, X):\n",
    "        #Use the trained model to predict Y\n",
    "        if (self.coeffs is not None):\n",
    "            return np.exp(np.dot(X, self.coeffs[:-1]) + self.coeffs[-1])"
   ],
   "id": "7c51dcccd43aaaa4",
   "outputs": [],
   "execution_count": 60
  },
  {
   "metadata": {
    "ExecuteTime": {
     "end_time": "2025-01-16T12:45:00.894871Z",
     "start_time": "2025-01-16T12:45:00.883604Z"
    }
   },
   "cell_type": "code",
   "source": [
    "# Part 4\n",
    "# Initialize your PoissonRegression model\n",
    "problem3_model = PoissonRegression()\n",
    "\n",
    "problem3_model.fit(problem3_X_train, problem3_y_train)\n",
    "problem3_y_pred = problem3_model.predict(problem3_X_test)\n",
    "# Fit your initialized model on the training data\n",
    "# This is to make sure that everything went well,\n",
    "# check that success is True\n",
    "print(problem3_model.result)"
   ],
   "id": "3aedb30edf4df335",
   "outputs": [
    {
     "name": "stdout",
     "output_type": "stream",
     "text": [
      " message: Optimization terminated successfully.\n",
      " success: True\n",
      "  status: 0\n",
      "     fun: -0.0\n",
      "       x: [ 4.820e-02  2.371e-02 ...  6.936e-03  7.533e-02]\n",
      "     nit: 1\n",
      "     jac: [ 0.000e+00  0.000e+00 ...  0.000e+00  0.000e+00]\n",
      "    nfev: 40\n",
      "    njev: 2\n"
     ]
    },
    {
     "name": "stderr",
     "output_type": "stream",
     "text": [
      "/var/folders/57/pvy_qq0515vbvpthzvkgfwfh0000gn/T/ipykernel_32315/716863728.py:25: RuntimeWarning: overflow encountered in power\n",
      "  f = ((lam ** Y) * (np.exp(-lam))) / np.exp(sc.gammaln(Y + 1))\n",
      "/var/folders/57/pvy_qq0515vbvpthzvkgfwfh0000gn/T/ipykernel_32315/716863728.py:25: RuntimeWarning: invalid value encountered in multiply\n",
      "  f = ((lam ** Y) * (np.exp(-lam))) / np.exp(sc.gammaln(Y + 1))\n"
     ]
    }
   ],
   "execution_count": 61
  }
 ],
 "metadata": {
  "kernelspec": {
   "display_name": "Python 3 (ipykernel)",
   "language": "python",
   "name": "python3"
  }
 },
 "nbformat": 5,
 "nbformat_minor": 9
}
