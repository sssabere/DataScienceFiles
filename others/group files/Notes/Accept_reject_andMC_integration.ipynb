{
 "cells": [
  {
   "cell_type": "markdown",
   "id": "8bf52b8a",
   "metadata": {
    "deletable": false
   },
   "source": [
    "\n",
    "# Assignment 2 for Course 1MS041\n",
    "Make sure you pass the `# ... Test` cells and\n",
    " submit your solution notebook in the corresponding assignment on the course website. You can submit multiple times before the deadline and your highest score will be used."
   ]
  },
  {
   "cell_type": "markdown",
   "id": "5aec0bfa",
   "metadata": {
    "deletable": false,
    "lx_assignment_number": "2",
    "lx_assignment_type": "ASSIGNMENT",
    "lx_assignment_type2print": "Assignment",
    "lx_problem_cell_type": "PROBLEM",
    "lx_problem_number": "1",
    "lx_problem_points": "8"
   },
   "source": [
    "---\n",
    "## Assignment 2, PROBLEM 1\n",
    "Maximum Points = 8"
   ]
  },
  {
   "cell_type": "markdown",
   "id": "db58f10b",
   "metadata": {
    "deletable": false,
    "lx_assignment_number": "2",
    "lx_assignment_type": "ASSIGNMENT",
    "lx_assignment_type2print": "Assignment",
    "lx_problem_cell_type": "PROBLEM",
    "lx_problem_number": "1",
    "lx_problem_points": "8"
   },
   "source": [
    "\n",
    "A courier company operates a fleet of delivery trucks that make deliveries to different parts of the city. The trucks are equipped with GPS tracking devices that record the location of each truck at regular intervals. The locations are divided into three regions: downtown, the suburbs, and the countryside. The following table shows the probabilities of a truck transitioning between these regions at each time step:\n",
    "\n",
    "| Current region | Probability of transitioning to downtown | Probability of transitioning to the suburbs | Probability of transitioning to the countryside |\n",
    "|----------------|--------------------------------------------|-----------------------------------------------|------------------------------------------------|\n",
    "| Downtown       | 0.3                                      | 0.4                                           | 0.3                                            |\n",
    "| Suburbs        | 0.2                                      | 0.5                                           | 0.3                                            |\n",
    "| Countryside    | 0.4                                      | 0.3                                           | 0.3                                            |\n",
    "\n",
    "1. If a truck is currently in the suburbs, what is the probability that it will be in the downtown region after two time steps? [1.5p]\n",
    "2. If a truck is currently in the suburbs, what is the probability that it will be in the downtown region **the first time** after two time steps? [1.5p]\n",
    "3. Is this Markov chain irreducible? [1.5p]\n",
    "4. What is the stationary distribution? [1.5p]\n",
    "5. Advanced question: What is the expected number of steps until the first time one enters the downtown region having started in the suburbs region. Hint: to get within 1 decimal point, it is enough to compute the probabilities for hitting times below 30. [2p]\n",
    "\n"
   ]
  },
  {
   "cell_type": "code",
   "id": "2c601f0f",
   "metadata": {
    "deletable": false,
    "lx_assignment_number": "2",
    "lx_assignment_type": "ASSIGNMENT",
    "lx_assignment_type2print": "Assignment",
    "lx_problem_cell_type": "PROBLEM",
    "lx_problem_number": "1",
    "lx_problem_points": "8",
    "ExecuteTime": {
     "end_time": "2025-01-16T11:06:48.385704Z",
     "start_time": "2025-01-16T11:06:48.380827Z"
    }
   },
   "source": [
    "# Part 1\n",
    "import numpy as np\n",
    "P = np.array([[0.3, 0.4, 0.3],\n",
    "              [0.2, 0.5, 0.3],\n",
    "              [0.4, 0.3, 0.3]])\n",
    "P_squared =P@P\n",
    "print(P_squared)\n",
    "print(P_squared[1,0])\n",
    "\n",
    "\n",
    "# Fill in the answer to part 1 below as a decimal number\n",
    "problem1_p1 = 0.28"
   ],
   "outputs": [
    {
     "name": "stdout",
     "output_type": "stream",
     "text": [
      "[[0.29 0.41 0.3 ]\n",
      " [0.28 0.42 0.3 ]\n",
      " [0.3  0.4  0.3 ]]\n",
      "0.28\n"
     ]
    }
   ],
   "execution_count": 14
  },
  {
   "cell_type": "code",
   "id": "52a172dc",
   "metadata": {
    "deletable": false,
    "lx_assignment_number": "2",
    "lx_assignment_type": "ASSIGNMENT",
    "lx_assignment_type2print": "Assignment",
    "lx_problem_cell_type": "PROBLEM",
    "lx_problem_number": "1",
    "lx_problem_points": "8",
    "ExecuteTime": {
     "end_time": "2025-01-16T11:06:48.401404Z",
     "start_time": "2025-01-16T11:06:48.399150Z"
    }
   },
   "source": [
    "# Part 2\n",
    "#start: suburbs\n",
    "#probability that we are in Downtown after 2 steps\n",
    "\n",
    "# Fill in the answer to part 2 below as a decimal number\n",
    "problem1_p2 = 0.22"
   ],
   "outputs": [],
   "execution_count": 15
  },
  {
   "cell_type": "code",
   "id": "a3b3872d",
   "metadata": {
    "deletable": false,
    "lx_assignment_number": "2",
    "lx_assignment_type": "ASSIGNMENT",
    "lx_assignment_type2print": "Assignment",
    "lx_problem_cell_type": "PROBLEM",
    "lx_problem_number": "1",
    "lx_problem_points": "8",
    "ExecuteTime": {
     "end_time": "2025-01-16T11:06:48.420558Z",
     "start_time": "2025-01-16T11:06:48.418782Z"
    }
   },
   "source": [
    "# Part 3\n",
    "\n",
    "# Fill in the answer to part 3 below as a boolean\n",
    "problem1_irreducible = True"
   ],
   "outputs": [],
   "execution_count": 16
  },
  {
   "cell_type": "code",
   "id": "30193da6",
   "metadata": {
    "ExecuteTime": {
     "end_time": "2025-01-16T11:06:48.440073Z",
     "start_time": "2025-01-16T11:06:48.436278Z"
    }
   },
   "source": [
    "# Part 4 - Stationary Distribution APPROACH 1 (eigenvalues and eigenvectors)\n",
    "\n",
    "# Define the transition matrix as given in the table\n",
    "P = np.array([\n",
    "    [0.3, 0.4, 0.3],  # Transition probabilities from Downtown\n",
    "    [0.2, 0.5, 0.3],  # Transition probabilities from Suburbs\n",
    "    [0.4, 0.3, 0.3]   # Transition probabilities from Countryside\n",
    "])\n",
    "#stationary distribution satisfies P*π=π:\n",
    "P_T = P.T\n",
    "eigenvalues, eigenvectors = np.linalg.eig(P_T)\n",
    "\n",
    "# Find the eigenvector corresponding to eigenvalue 1\n",
    "index = np.where(np.isclose(eigenvalues, 1))[0][0]\n",
    "stationary_vector = eigenvectors[:, index]\n",
    "print(\"Raw stationary vector:\", stationary_vector)\n",
    "\n",
    "#Normalizing the eignenvector (so that its elements sum to one to enforce that the stationary distribution is probablistic and itse elements therefore sum to one)\n",
    "stationary_distribution = stationary_vector / np.sum(stationary_vector)\n",
    "print(\"Stationary distribution:\", stationary_distribution)\n",
    "\n",
    "\n"
   ],
   "outputs": [
    {
     "name": "stdout",
     "output_type": "stream",
     "text": [
      "Raw stationary vector: [-0.49365111 -0.70250351 -0.51263769]\n",
      "Stationary distribution: [0.28888889 0.41111111 0.3       ]\n"
     ]
    }
   ],
   "execution_count": 17
  },
  {
   "cell_type": "code",
   "id": "683b03cb",
   "metadata": {
    "ExecuteTime": {
     "end_time": "2025-01-16T11:06:48.450410Z",
     "start_time": "2025-01-16T11:06:48.445522Z"
    }
   },
   "source": [
    "# Part 4 (approach 2 -- linear system)\n",
    "\n",
    "# Fill in the answer to part 4 below\n",
    "# the answer should be a numpy array of length 3\n",
    "# make sure that the entries sums to 1!\n",
    "\"\"\"\n",
    "eigenvalues, eigenvectors = np.linalg.eig(P.T)\n",
    "print(eigenvalues)\n",
    "print(eigenvectors)\n",
    "#normalize eigenvector corresponding to eigenvalue 1\n",
    "problem1_stationary=eigenvectors[:,0]/np.linalg.norm(eigenvectors[:,0])\n",
    "print(problem1_stationary)\n",
    "\"\"\"\n",
    "import numpy as np\n",
    "\n",
    "# Define the transition matrix as given in the table\n",
    "P = np.array([\n",
    "    [0.3, 0.4, 0.3],  # Transition probabilities from Downtown\n",
    "    [0.2, 0.5, 0.3],  # Transition probabilities from Suburbs\n",
    "    [0.4, 0.3, 0.3]   # Transition probabilities from Countryside\n",
    "])\n",
    "\n",
    "# To find the stationary distribution, we set up the equation πP = π,\n",
    "# which is equivalent to solving (P.T - I) * π = 0 with the constraint sum(π) = 1.\n",
    "\n",
    "# Step 1: Subtract the identity matrix from the transpose of P\n",
    "A = P.T - np.eye(3)\n",
    "print(A)\n",
    "\n",
    "# Step 2: Add the normalization condition that the probabilities sum to 1\n",
    "A = np.vstack([A, np.ones(3)])\n",
    "b = np.array([0, 0, 0, 1])\n",
    "\n",
    "# Step 3: Solve for the stationary distribution using numpy's least squares solver\n",
    "\n",
    "stationary_distribution = np.linalg.lstsq(A, b)[0]\n",
    "\n",
    "# Print the results\n",
    "print(\"Stationary distribution:\", stationary_distribution)\n",
    "\n",
    "\n",
    "problem1_stationary = np.array([0.288,0.411,0.3])"
   ],
   "outputs": [
    {
     "name": "stdout",
     "output_type": "stream",
     "text": [
      "[[-0.7  0.2  0.4]\n",
      " [ 0.4 -0.5  0.3]\n",
      " [ 0.3  0.3 -0.7]]\n",
      "Stationary distribution: [0.28888889 0.41111111 0.3       ]\n"
     ]
    }
   ],
   "execution_count": 18
  },
  {
   "cell_type": "code",
   "id": "481625e3",
   "metadata": {
    "deletable": false,
    "lx_assignment_number": "2",
    "lx_assignment_type": "ASSIGNMENT",
    "lx_assignment_type2print": "Assignment",
    "lx_problem_cell_type": "PROBLEM",
    "lx_problem_number": "1",
    "lx_problem_points": "8",
    "ExecuteTime": {
     "end_time": "2025-01-16T11:06:48.463265Z",
     "start_time": "2025-01-16T11:06:48.459939Z"
    }
   },
   "source": [
    "# Part 5\n",
    "\n",
    "# Fill in the answer to part 5 below\n",
    "# That is, the expected number of steps as a decimal number\n",
    "import numpy as np\n",
    "\n",
    "# Coefficient matrix A and RHS vector b based on our equations\n",
    "A = np.array([\n",
    "    [0.5, -0.3],\n",
    "    [-0.3, 0.7]\n",
    "])\n",
    "\n",
    "b = np.array([1.0, 1.0])\n",
    "\n",
    "# Solve for h_SD and h_CD\n",
    "hitting_times = np.linalg.solve(A, b)\n",
    "print(hitting_times)\n",
    "\n",
    "# Output the expected hitting time from suburbs to downtown\n",
    "h_SD = hitting_times[0]\n",
    "print(\"Expected number of steps to reach downtown from suburbs:\", h_SD)\n",
    "\n",
    "problem1_ET = 3.8461"
   ],
   "outputs": [
    {
     "name": "stdout",
     "output_type": "stream",
     "text": [
      "[3.84615385 3.07692308]\n",
      "Expected number of steps to reach downtown from suburbs: 3.846153846153846\n"
     ]
    }
   ],
   "execution_count": 19
  },
  {
   "cell_type": "markdown",
   "id": "215a4c8b",
   "metadata": {
    "deletable": false,
    "lx_assignment_number": "2",
    "lx_assignment_type": "ASSIGNMENT",
    "lx_assignment_type2print": "Assignment",
    "lx_problem_cell_type": "PROBLEM",
    "lx_problem_number": "2",
    "lx_problem_points": "4"
   },
   "source": [
    "---\n",
    "## Assignment 2, PROBLEM 2\n",
    "Maximum Points = 4"
   ]
  },
  {
   "cell_type": "markdown",
   "id": "d9a825d1",
   "metadata": {
    "deletable": false,
    "lx_assignment_number": "2",
    "lx_assignment_type": "ASSIGNMENT",
    "lx_assignment_type2print": "Assignment",
    "lx_problem_cell_type": "PROBLEM",
    "lx_problem_number": "2",
    "lx_problem_points": "4"
   },
   "source": [
    "\n",
    "Use the **Multi-dimensional Constrained Optimisation** example (in `07-Optimization.ipynb`) to numerically find the MLe for the mean and variance parameter based on `normallySimulatedDataSamples`, an array obtained by a specific simulation of $30$ IID samples from the $Normal(10,2)$ random variable.\n",
    "\n",
    "Recall that $Normal(\\mu, \\sigma^2)$ RV has the probability density function given by:\n",
    "\n",
    "$$\n",
    "f(x ;\\mu, \\sigma) = \\displaystyle\\frac{1}{\\sigma\\sqrt{2\\pi}}\\exp\\left(\\frac{-1}{2\\sigma^2}(x-\\mu)^2\\right)\n",
    "$$\n",
    "\n",
    "The two parameters, $\\mu \\in \\mathbb{R} := (-\\infty,\\infty)$ and $\\sigma \\in (0,\\infty)$, are sometimes referred to as the location and scale parameters.\n",
    "\n",
    "You know that the log likelihood function for $n$ IID samples from a Normal RV with parameters $\\mu$ and $\\sigma$ simply follows from $\\sum_{i=1}^n \\log(f(x_i; \\mu,\\sigma))$, based on the IID assumption. \n",
    "\n",
    "NOTE: When setting bounding boxes for $\\mu$ and $\\sigma$ try to start with some guesses like $[-20,20]$ and $[0.1,5.0]$ and make it larger if the solution is at the boundary. Making the left bounding-point for $\\sigma$ too close to $0.0$ will cause division by zero Warnings. Other numerical instabilities can happen in such iterative numerical solutions to the MLe. You need to be patient and learn by trial-and-error. You will see the mathematical theory in more details in a future course in scientific computing/optimisation. So don't worry too much now except learning to use it for our problems.  "
   ]
  },
  {
   "cell_type": "code",
   "id": "699b52ca",
   "metadata": {
    "deletable": false,
    "lx_assignment_number": "2",
    "lx_assignment_type": "ASSIGNMENT",
    "lx_assignment_type2print": "Assignment",
    "lx_problem_cell_type": "PROBLEM",
    "lx_problem_number": "2",
    "lx_problem_points": "4",
    "ExecuteTime": {
     "end_time": "2025-01-16T11:06:48.484873Z",
     "start_time": "2025-01-16T11:06:48.478274Z"
    }
   },
   "source": [
    "\n",
    "import numpy as np\n",
    "from scipy import optimize\n",
    "# do NOT change the next three lines\n",
    "np.random.seed(123456) # set seed\n",
    "# simulate 30 IID samples drawn from Normal(10,2)RV\n",
    "normallySimulatedDataSamples = np.random.normal(10,2,30) \n",
    "\n",
    "# define the negative log likelihood function you want to minimise by editing \n",
    "def negLogLklOfIIDNormalSamples(parameters):\n",
    "    '''return the -log(likelihood) of normallySimulatedDataSamples with mean and var parameters'''\n",
    "    mu_param=parameters[0]\n",
    "    sigma_param=parameters[1]\n",
    "    # Compute the negative log-likelihood\n",
    "    n = len(normallySimulatedDataSamples)\n",
    "    log_likelihood = -np.sum(\n",
    "        -0.5 * np.log(2 * np.pi * sigma_param**2)\n",
    "        - ((normallySimulatedDataSamples - mu_param) ** 2) / (2 * sigma_param**2)\n",
    "    )\n",
    "    return log_likelihood\n",
    "\n",
    "\n",
    "\n",
    "# you should only change XXX below and not anything else\n",
    "parameter_bounding_box=((-20, 20), (0.1, 5)) # specify the constraints (search space) for each parameter - some guess work...\n",
    "initial_arguments = np.array([10, 1]) # point in 2D to initialise the minimize algorithm\n",
    "result_problem2_opt = optimize.minimize(negLogLklOfIIDNormalSamples, initial_arguments, bounds=parameter_bounding_box) \n",
    "# call the minimize method above finally! you need to play a bit to get initial conditions and bounding box ok\n",
    "result_problem2_opt\n"
   ],
   "outputs": [
    {
     "data": {
      "text/plain": [
       "  message: CONVERGENCE: REL_REDUCTION_OF_F_<=_FACTR*EPSMCH\n",
       "  success: True\n",
       "   status: 0\n",
       "      fun: 58.63138728292095\n",
       "        x: [ 9.269e+00  1.708e+00]\n",
       "      nit: 9\n",
       "      jac: [-2.842e-05  1.457e-04]\n",
       "     nfev: 36\n",
       "     njev: 12\n",
       " hess_inv: <2x2 LbfgsInvHessProduct with dtype=float64>"
      ]
     },
     "execution_count": 20,
     "metadata": {},
     "output_type": "execute_result"
    }
   ],
   "execution_count": 20
  },
  {
   "cell_type": "markdown",
   "id": "f722d247",
   "metadata": {
    "deletable": false,
    "lx_assignment_number": "2",
    "lx_assignment_type": "ASSIGNMENT",
    "lx_assignment_type2print": "Assignment",
    "lx_problem_cell_type": "PROBLEM",
    "lx_problem_number": "3",
    "lx_problem_points": "4"
   },
   "source": [
    "---\n",
    "## Assignment 2, PROBLEM 3\n",
    "Maximum Points = 4"
   ]
  },
  {
   "cell_type": "markdown",
   "id": "0b9c787c",
   "metadata": {
    "deletable": false,
    "lx_assignment_number": "2",
    "lx_assignment_type": "ASSIGNMENT",
    "lx_assignment_type2print": "Assignment",
    "lx_problem_cell_type": "PROBLEM",
    "lx_problem_number": "3",
    "lx_problem_points": "4"
   },
   "source": [
    "\n",
    "\n",
    "Derive the maximum likelihood estimate for $n$ IID samples from a random variable with the following probability density function:\n",
    "$$\n",
    "f(x; \\lambda) = \\frac{1}{24} \\lambda^5 x^4 \\exp(-\\lambda x), \\qquad \\text{ where, } \\lambda>0, x > 0\n",
    "$$\n",
    "\n",
    "You can solve the MLe by hand (using pencil paper or using key-strokes). Present your solution as the return value of a function called `def MLeForAssignment2Problem3(x)`, where `x` is a list of $n$ input data points."
   ]
  },
  {
   "cell_type": "code",
   "id": "41720f28",
   "metadata": {
    "deletable": false,
    "lx_assignment_number": "2",
    "lx_assignment_type": "ASSIGNMENT",
    "lx_assignment_type2print": "Assignment",
    "lx_problem_cell_type": "PROBLEM",
    "lx_problem_number": "3",
    "lx_problem_points": "4",
    "ExecuteTime": {
     "end_time": "2025-01-16T11:06:48.499370Z",
     "start_time": "2025-01-16T11:06:48.497260Z"
    }
   },
   "source": [
    "\n",
    "# do not change the name of the function, just replace XXX with the appropriate expressions for the MLe\n",
    "def MLeForAssignment2Problem3(x):\n",
    "    '''write comment of what this function does'''\n",
    "    n=len(x)\n",
    "    return 5*n/np.sum(x)"
   ],
   "outputs": [],
   "execution_count": 21
  },
  {
   "cell_type": "markdown",
   "id": "85367892",
   "metadata": {
    "deletable": false,
    "lx_assignment_number": "2",
    "lx_assignment_type": "ASSIGNMENT",
    "lx_assignment_type2print": "Assignment",
    "lx_problem_cell_type": "PROBLEM",
    "lx_problem_number": "4",
    "lx_problem_points": "8"
   },
   "source": [
    "---\n",
    "## Assignment 2, PROBLEM 4\n",
    "Maximum Points = 8"
   ]
  },
  {
   "cell_type": "markdown",
   "id": "2e67892b",
   "metadata": {
    "deletable": false,
    "lx_assignment_number": "2",
    "lx_assignment_type": "ASSIGNMENT",
    "lx_assignment_type2print": "Assignment",
    "lx_problem_cell_type": "PROBLEM",
    "lx_problem_number": "4",
    "lx_problem_points": "8"
   },
   "source": [
    "\n",
    "## Random variable generation and transformation\n",
    "\n",
    "The purpose of this problem is to show that you can implement your own sampler, this will be built in the following three steps:\n",
    "\n",
    "1. [2p] Implement a Linear Congruential Generator where you tested out a good combination (a large $M$ with $a,b$ satisfying the Hull-Dobell (Thm 6.8)) of parameters. Follow the instructions in the code block.\n",
    "2. [2p] Using a generator construct random numbers from the uniform $[0,1]$ distribution.\n",
    "3. [4p] Using a uniform $[0,1]$ random generator, generate samples from \n",
    "\n",
    "$$p_0(x) = \\frac{\\pi}{2}|\\sin(2\\pi x)|, \\quad x \\in [0,1] \\enspace .$$\n",
    "\n",
    "Using the **Accept-Reject** sampler (**Algorithm 1** in TFDS notes) with sampling density given by the uniform $[0,1]$ distribution."
   ]
  },
  {
   "cell_type": "code",
   "id": "b32b9a47",
   "metadata": {
    "ExecuteTime": {
     "end_time": "2025-01-16T14:06:35.018578Z",
     "start_time": "2025-01-16T14:06:35.009007Z"
    }
   },
   "source": [
    "def LCG(size=None, seed=0):\n",
    "    # Parameters for maximal period\n",
    "    m = 2**31 - 1  # Large prime modulus\n",
    "    a = 1103515245  # Multiplier (common choice)\n",
    "    b = 12345  # Increment (common choice)\n",
    "    \n",
    "    x = seed   # seed is the starting position\n",
    "    retValue = []\n",
    "    for _ in range(size):\n",
    "        x = (a * x + b) % m\n",
    "        retValue.append(x)\n",
    "    return retValue\n",
    "\n",
    "## To generate uniform random numbers, we divide by the period (m)\n",
    "def LCG_uniform(size=None, seed=0, decimals=None):\n",
    "    # Parameters for maximal period\n",
    "    m = 2**31 - 1  # Large prime modulus\n",
    "    a = 1103515245  # Multiplier (common choice)\n",
    "    b = 12345  # Increment (common choice)\n",
    "    \n",
    "    x = seed   # seed is the starting position\n",
    "    retValue = []\n",
    "    for _ in range(size):\n",
    "        x = (a * x + b) % m\n",
    "        retValue.append(np.round(x/m, decimals))\n",
    "    return retValue\n",
    "\n",
    "random_list= LCG(size=30, seed=0)\n",
    "uniformlist = LCG_uniform(size=30, seed=0, decimals=2)\n",
    "print(random_list)\n",
    "print(uniformlist)"
   ],
   "outputs": [
    {
     "name": "stdout",
     "output_type": "stream",
     "text": [
      "[12345, 1406938949, 178066070, 1543701248, 427461576, 562845833, 1609490218, 377220791, 2040027864, 186150528, 667276653, 167860840, 95653539, 1525258573, 795960552, 1272442040, 173617473, 865290808, 270830898, 1905073316, 1560342131, 835276979, 5600085, 1987058269, 1401826095, 1694140998, 1087770539, 2122194134, 754953873, 2085830575]\n",
      "[np.float64(0.0), np.float64(0.66), np.float64(0.08), np.float64(0.72), np.float64(0.2), np.float64(0.26), np.float64(0.75), np.float64(0.18), np.float64(0.95), np.float64(0.09), np.float64(0.31), np.float64(0.08), np.float64(0.04), np.float64(0.71), np.float64(0.37), np.float64(0.59), np.float64(0.08), np.float64(0.4), np.float64(0.13), np.float64(0.89), np.float64(0.73), np.float64(0.39), np.float64(0.0), np.float64(0.93), np.float64(0.65), np.float64(0.79), np.float64(0.51), np.float64(0.99), np.float64(0.35), np.float64(0.97)]\n"
     ]
    }
   ],
   "execution_count": 27
  },
  {
   "cell_type": "code",
   "id": "bfd5ef33",
   "metadata": {
    "ExecuteTime": {
     "end_time": "2025-01-16T14:07:02.694673Z",
     "start_time": "2025-01-16T14:07:02.545272Z"
    }
   },
   "source": [
    "\n",
    "\n",
    "def accept_reject_sampler(n_samples, M, target_density, proposal_sampler, proposal_density):\n",
    "    \"\"\"\n",
    "    Accept-Reject Sampling Algorithm\n",
    "    \n",
    "    Parameters:\n",
    "        n_samples (int): Number of samples to generate.\n",
    "        M (float): Scaling constant such that M * proposal_density(x) >= target(x) for all x.\n",
    "        target (function): The target density function.\n",
    "        proposal_sampler (function): Function to sample from the proposal distribution.\n",
    "        proposal_density (function): The density of the proposal distribution.\n",
    "    \n",
    "    Returns:\n",
    "        np.array: Accepted samples from the target distribution.\n",
    "    \"\"\"\n",
    "    accepted_samples = []\n",
    "    \n",
    "    while len(accepted_samples) < n_samples:\n",
    "        # Generate a candidate sample from the proposal distribution\n",
    "        x = proposal_sampler()\n",
    "        \n",
    "        # Generate a uniform random number for acceptance criterion\n",
    "        u = np.random.uniform(0, 1)\n",
    "        \n",
    "        # Acceptance condition\n",
    "        if u <= target_density(x) / (M * proposal_density(x)):\n",
    "            accepted_samples.append(x)\n",
    "    \n",
    "    return np.array(accepted_samples)\n",
    "\n",
    "\n",
    "\n",
    "#################################################################\n",
    "# Target density: f(x) = pi/2 * |sin(2*pi*x)|\n",
    "def target_density(x):\n",
    "    return (np.pi / 2) * np.abs(np.sin(2 * np.pi * x))\n",
    "\n",
    "# Proposal sampler: samples from U(0, 1)\n",
    "#x = np.random.normal(mu, sigma)\n",
    "def proposal_sampler():\n",
    "    return np.random.uniform(0, 1)\n",
    "\n",
    "# Proposal density: q(x) = 1 for U(0, 1)\n",
    "#proposal_density = norm.pdf(x, loc=0.5, scale=0.1) #scipy.stats.norm\n",
    "def proposal_density(x):\n",
    "    return 1 if 0 <= x <= 1 else 0\n",
    "\n",
    "# M: maximum value of target_density(x) / proposal_density(x)\n",
    "M = (np.pi / 2)  # Maximum value of |sin(2*pi*x)| is 1, so M = pi/2 * 1\n",
    "\n",
    "# Generate 1000 samples\n",
    "samples = accept_reject_sampler(n_samples=1000, M=M, target_density=target_density, \n",
    "                                 proposal_sampler=proposal_sampler, \n",
    "                                 proposal_density=proposal_density)\n",
    "\n",
    "import matplotlib.pyplot as plt\n",
    "x = np.linspace(0, 1, 1000)  # High resolution for smooth plotting\n",
    "plt.figure(figsize=(8, 6))\n",
    "\n",
    "# Plot the histogram of samples\n",
    "plt.hist(samples, bins=30, density=True, alpha=0.6, color='skyblue', edgecolor='black', label='Samples Histogram')\n",
    "\n",
    "# Plot the target density\n",
    "plt.plot(x, target_density(x), color='red', linewidth=2, label=r'Target Density: $f(x) = \\frac{\\pi}{2} |\\sin(2\\pi x)|$')\n",
    "\n",
    "# Add labels, legend, and title\n",
    "plt.xlabel('x')\n",
    "plt.ylabel('Density')\n",
    "plt.title('Histogram of Samples and Target Density')\n",
    "plt.legend()\n",
    "\n",
    "# Show the plot\n",
    "plt.grid(alpha=0.3)\n",
    "plt.show()\n",
    "\n",
    "\n",
    "\n",
    "\n",
    "\n"
   ],
   "outputs": [
    {
     "data": {
      "text/plain": [
       "<Figure size 800x600 with 1 Axes>"
      ],
      "image/png": "[encoded data removed]"
     },
     "metadata": {},
     "output_type": "display_data"
    }
   ],
   "execution_count": 28
  },
  {
   "cell_type": "code",
   "id": "5553bee6",
   "metadata": {
    "ExecuteTime": {
     "end_time": "2025-01-16T11:06:49.821723Z",
     "start_time": "2025-01-16T11:06:48.624444Z"
    }
   },
   "source": [
    "from scipy.stats import norm #Normal distribution\n",
    "\n",
    "def target_density(x):\n",
    "    return 2*x*np.exp(x**2)/(np.exp(1)-1)\n",
    "\n",
    "# Proposal sampler: samples from U(0, 1)\n",
    "\n",
    "def proposal_sampler():\n",
    "    u = np.random.uniform(0, 1)\n",
    "    # Inverse CDF of normalized proposal (e^x / (e - 1))\n",
    "    return np.log(u * (np.exp(1) - 1) + 1)\n",
    "\n",
    "\n",
    "# Proposal density: q(x) = 1 for U(0, 1)\n",
    "#proposal_density = norm.pdf(x, loc=0.5, scale=0.1) #scipy.stats.norm\n",
    "def proposal_density(x):\n",
    "    return np.exp(x) / (np.exp(1)-1)           #1 if 0 <= x <= 1 else 0 #Normalized\n",
    "\n",
    "M=2\n",
    "\n",
    "\n",
    "# Generate 1000 samples\n",
    "\n",
    "samples = accept_reject_sampler(n_samples=100000, M=M, target_density=target_density, \n",
    "                                 proposal_sampler=proposal_sampler, \n",
    "                                 proposal_density=proposal_density)\n",
    "\n",
    "x = np.linspace(0, 1, 10000)  # High resolution for smooth plotting\n",
    "plt.figure(figsize=(8, 6))\n",
    "\n",
    "# Plot the histogram of samples\n",
    "plt.hist(samples, bins=100, density=True, alpha=0.6, color='skyblue', edgecolor='black', label='Samples Histogram')\n",
    "\n",
    "# Plot the target density\n",
    "plt.plot(x, target_density(x), color='red', linewidth=2, label=r'Target Density: $f(x) = \\frac{\\pi}{2} |\\sin(2\\pi x)|$')\n",
    "\n",
    "# Add labels, legend, and title\n",
    "plt.xlabel('x')\n",
    "plt.ylabel('Density')\n",
    "plt.title('Histogram of Samples and Target Density')\n",
    "plt.legend()\n",
    "\n",
    "# Show the plot\n",
    "plt.grid(alpha=0.3)\n",
    "plt.show()\n",
    "\n"
   ],
   "outputs": [
    {
     "data": {
      "text/plain": [
       "<Figure size 800x600 with 1 Axes>"
      ],
      "image/png": "[encoded data removed]"
     },
     "metadata": {},
     "output_type": "display_data"
    }
   ],
   "execution_count": 24
  },
  {
   "cell_type": "code",
   "id": "12fd5f69",
   "metadata": {
    "ExecuteTime": {
     "end_time": "2025-01-16T11:06:49.957126Z",
     "start_time": "2025-01-16T11:06:49.837174Z"
    }
   },
   "source": [
    "#Calculate integral using the 100000 samples above\n",
    "# Monte Carlo integration using samples\n",
    "def monte_carlo_integration(samples, integrand_function, a, b):\n",
    "    # Compute the average of the integrand values at the sample points\n",
    "    return np.mean([integrand_function(x) for x in samples])*(b-a)\n",
    "\n",
    "integral_estimate = monte_carlo_integration(samples, target_density, 0, 1)\n",
    "print(integral_estimate)\n",
    "\n",
    "\n",
    "#Hoeffdings inequality to produce a 95% confidence interval of the integral above\n"
   ],
   "outputs": [
    {
     "name": "stdout",
     "output_type": "stream",
     "text": [
      "1.7043802414459706\n"
     ]
    }
   ],
   "execution_count": 25
  },
  {
   "cell_type": "code",
   "id": "5c6ccf49",
   "metadata": {
    "ExecuteTime": {
     "end_time": "2025-01-16T14:16:41.187259Z",
     "start_time": "2025-01-16T14:16:41.182799Z"
    }
   },
   "source": [
    "#Hoeffdings inequality to produce a 95% confidence interval of the integral above\n",
    "#alpha = 1-confidence_level\n",
    "def hoeffdings_range_based(X, alpha):\n",
    "\n",
    "    log_term = np.log(2 / (1 - alpha))\n",
    "    range_term = (np.max(X) - np.min(X)) ** 2\n",
    "    denominator = 2 * len(X)\n",
    "\n",
    "    epsilon = np.sqrt((log_term * range_term) / denominator)\n",
    "    sample_mean = np.mean(X)\n",
    "    \n",
    "    return sample_mean - epsilon, sample_mean + epsilon\n",
    "\n",
    "a, b = hoeffdings_range_based(target_density(samples), 0.05)\n",
    "confidence_interval = (a, b)\n",
    "print(confidence_interval)"
   ],
   "outputs": [
    {
     "name": "stdout",
     "output_type": "stream",
     "text": [
      "(np.float64(1.1977979590390857), np.float64(1.2579359221330335))\n"
     ]
    }
   ],
   "execution_count": 30
  }
 ],
 "metadata": {
  "kernelspec": {
   "display_name": "Python 3",
   "language": "python",
   "name": "python3"
  },
  "language_info": {
   "codemirror_mode": {
    "name": "ipython",
    "version": 3
   },
   "file_extension": ".py",
   "mimetype": "text/x-python",
   "name": "python",
   "nbconvert_exporter": "python",
   "pygments_lexer": "ipython3",
   "version": "3.12.0"
  },
  "lx_assignment_number": 2,
  "lx_course_instance": "2024",
  "lx_course_name": "Introduction to Data Science",
  "lx_course_number": "1MS041"
 },
 "nbformat": 4,
 "nbformat_minor": 5
}
