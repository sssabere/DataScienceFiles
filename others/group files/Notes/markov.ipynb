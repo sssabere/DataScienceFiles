{
 "cells": [
  {
   "cell_type": "code",
   "id": "initial_id",
   "metadata": {
    "collapsed": true,
    "ExecuteTime": {
     "end_time": "2025-01-16T20:47:36.456394Z",
     "start_time": "2025-01-16T20:47:36.451418Z"
    }
   },
   "source": [
    "def stat_distr(p):\n",
    "    A = p.T - np.eye(p.shape[0])\n",
    "    b = np.zeros(p.shape[0])\n",
    "\n",
    "    A[-1] = 1\n",
    "    b[-1] = 1\n",
    "\n",
    "    return np.linalg.solve(A, b)"
   ],
   "outputs": [],
   "execution_count": 1
  },
  {
   "metadata": {
    "ExecuteTime": {
     "end_time": "2025-01-16T20:47:36.470522Z",
     "start_time": "2025-01-16T20:47:36.467545Z"
    }
   },
   "cell_type": "code",
   "source": [
    "def check_irreducibility(lst):\n",
    "    if isinstance(lst, list):\n",
    "        pass\n",
    "    else:\n",
    "        raise Exception(\"Input to check_irreducibility() must be a LIST!\")\n",
    "\n",
    "    i = 0\n",
    "    for matrix in lst:\n",
    "        if matrix.shape[0] != matrix.shape[1]:\n",
    "            raise Exception(f\"Matrix #{i} is not square!\")\n",
    "        matrix_inf = np.linalg.matrix_power(matrix, 1000)\n",
    "        if np.any(matrix_inf < 1e-10):\n",
    "            print(f\"Matrix #{i} is REDUCIBLE!.\")\n",
    "            # print(matrix)\n",
    "        else:\n",
    "            print(f\"Matrix #{i} is irreducible.\")\n",
    "\n",
    "        i += 1"
   ],
   "id": "874e58a32ada619f",
   "outputs": [],
   "execution_count": 2
  },
  {
   "metadata": {
    "ExecuteTime": {
     "end_time": "2025-01-16T20:47:36.486038Z",
     "start_time": "2025-01-16T20:47:36.483100Z"
    }
   },
   "cell_type": "code",
   "source": [
    "def reversible_markov(A):\n",
    "    n = len(A)\n",
    "\n",
    "    stationary_dist = stat_distr(A)\n",
    "\n",
    "    for i in range(n):\n",
    "        for j in range(n):\n",
    "            if not np.isclose(stationary_dist[i] * A[i, j], stationary_dist[j] * A[j, i]):\n",
    "                print(f\"Chain is not reversible. Detailed balance is violated between states {i} and {j}.\")\n",
    "                return False\n",
    "\n",
    "    print(\"Chain is reversible!\")\n",
    "    return True"
   ],
   "id": "c994a4d0391b0b8b",
   "outputs": [],
   "execution_count": 3
  },
  {
   "cell_type": "markdown",
   "id": "0dd6a5a7",
   "metadata": {},
   "source": [
    "(Unfinished function)How to find expected number of steps until a state is reached"
   ]
  },
  {
   "cell_type": "code",
   "id": "3cd96db5",
   "metadata": {
    "ExecuteTime": {
     "end_time": "2025-01-16T20:48:18.004708Z",
     "start_time": "2025-01-16T20:48:17.999695Z"
    }
   },
   "source": [
    "import numpy as np\n",
    "\n",
    "# Transition matrix with downtown as an absorbing state\n",
    "P = np.array([\n",
    "    [1.0, 0.0, 0.0],  # Downtown is absorbing\n",
    "    [0.2, 0.5, 0.3],  # Suburbs\n",
    "    [0.4, 0.3, 0.3]  # Countryside\n",
    "])\n",
    "\n",
    "max_steps = 2\n",
    "initial_state = np.array([0, 1, 0])  # Start in the suburbs\n",
    "target_index = 0  # Downtown index\n",
    "\n",
    "hitting_probabilities = []\n",
    "cumulative_probability = 0  # Tracks total probability of hitting downtown\n",
    "\n",
    "current_state = initial_state.copy()\n",
    "for step in range(1, max_steps + 1):\n",
    "    # Advance the Markov chain one step\n",
    "    next_state = current_state @ P\n",
    "    # Calculate hitting probability at this step\n",
    "    hitting_probability = next_state[target_index] - cumulative_probability\n",
    "    hitting_probabilities.append(hitting_probability)\n",
    "    # Update cumulative probability\n",
    "    cumulative_probability += hitting_probability\n",
    "    # Update the current state\n",
    "    current_state = next_state\n",
    "\n",
    "    print(hitting_probability)\n",
    "\n",
    "# Check if total hitting probabilities sum to 1\n",
    "total_probability = sum(hitting_probabilities)\n",
    "if not np.isclose(total_probability, 1.0):\n",
    "    print(f\"Warning: Total hitting probability is {total_probability}, not 1.0\")\n",
    "\n",
    "# Compute expected hitting time\n",
    "expected_hitting_time = sum(step * hitting_probabilities[step - 1] for step in range(1, max_steps + 1))\n",
    "print(f\"Expected hitting time: {expected_hitting_time}\")\n",
    "\n",
    "problem1_ET = 3.8"
   ],
   "outputs": [
    {
     "name": "stdout",
     "output_type": "stream",
     "text": [
      "0.2\n",
      "0.22000000000000003\n",
      "Warning: Total hitting probability is 0.42000000000000004, not 1.0\n",
      "Expected hitting time: 0.6400000000000001\n"
     ]
    }
   ],
   "execution_count": 5
  }
 ],
 "metadata": {
  "kernelspec": {
   "display_name": "Python 3",
   "language": "python",
   "name": "python3"
  },
  "language_info": {
   "codemirror_mode": {
    "name": "ipython",
    "version": 2
   },
   "file_extension": ".py",
   "mimetype": "text/x-python",
   "name": "python",
   "nbconvert_exporter": "python",
   "pygments_lexer": "ipython2",
   "version": "2.7.6"
  }
 },
 "nbformat": 4,
 "nbformat_minor": 5
}
