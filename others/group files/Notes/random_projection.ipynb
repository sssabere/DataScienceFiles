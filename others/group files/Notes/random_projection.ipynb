{
 "cells": [
  {
   "cell_type": "markdown",
   "metadata": {},
   "source": [
    "Example exam problem from notebook 13 - high dimensionality."
   ]
  },
  {
   "cell_type": "code",
   "execution_count": 7,
   "metadata": {},
   "outputs": [
    {
     "name": "stdout",
     "output_type": "stream",
     "text": [
      "[[-0.19201899 -0.28668523  0.87315508 ... -0.85674057  0.4503255\n",
      "   0.17738849]\n",
      " [-0.10113037 -0.30530471  0.92933661 ...  0.19111759  0.30048915\n",
      "   0.65478168]\n",
      " [ 0.30333869 -0.52253684  1.19864907 ... -0.12763389  0.32304158\n",
      "   0.63944475]\n",
      " ...\n",
      " [ 0.57374731  0.14230777  0.71275657 ...  0.38570811  0.55228939\n",
      "   1.25061172]\n",
      " [ 0.30761452  0.01229702  0.80700594 ... -0.06182759  0.93265816\n",
      "   0.75816139]\n",
      " [ 0.200113    0.10683814  0.95071797 ... -0.04223969  1.20221133\n",
      "   0.81223284]]\n"
     ]
    }
   ],
   "source": [
    "import numpy as np\n",
    "import matplotlib.pyplot as plt\n",
    "from ipywidgets import interact, IntSlider\n",
    "\n",
    "# Do not rename the function below just replace what is XXX\n",
    "def random_projection(X,d,k):\n",
    "    '''Perform a random projection of the dataset X from \n",
    "    d-dimensions into k-dimensions'''\n",
    "    assert X.shape[1] == d, \"The array X does not have the shape (n_samples,d)\"\n",
    "    \n",
    "    R = np.random.normal(0, 1, size=(d, k))\n",
    "    R = R / np.linalg.norm(R, axis=0)\n",
    "\n",
    "    f = X@R\n",
    "\n",
    "    return f\n",
    "\n",
    "# Perform the random projection\n",
    "X = np.random.rand(200, 1000)\n",
    "X_projected = random_projection(X, d=1000, k=10)\n",
    "\n",
    "print(X_projected)"
   ]
  },
  {
   "cell_type": "code",
   "execution_count": 6,
   "metadata": {},
   "outputs": [
    {
     "name": "stdout",
     "output_type": "stream",
     "text": [
      "You are outputting the correct dimension, hopefully it is correct.\n"
     ]
    }
   ],
   "source": [
    "# small test to see that you output the correct shape\n",
    "import numpy as np\n",
    "X_test = np.array([[1,1],[2,1],[3,1],[4,1]])\n",
    "try:\n",
    "    assert(random_projection(X_test,2,1).shape == (X_test.shape[0],1))\n",
    "    print(\"You are outputting the correct dimension, hopefully it is correct.\")\n",
    "except AssertionError:\n",
    "    print(\"Try again! and make sure you are producing an output of (n_samples,k)\")"
   ]
  },
  {
   "cell_type": "markdown",
   "metadata": {},
   "source": [
    "Below is taken straight from the notebook, just for testing purposes"
   ]
  },
  {
   "cell_type": "code",
   "execution_count": 4,
   "metadata": {},
   "outputs": [
    {
     "data": {
      "application/vnd.jupyter.widget-view+json": {
       "model_id": "db8b6db73fa4407392cc8c4fe2c64c67",
       "version_major": 2,
       "version_minor": 0
      },
      "text/plain": [
       "interactive(children=(IntSlider(value=100, description='d', max=2000, min=100, step=100), IntSlider(value=2, d…"
      ]
     },
     "metadata": {},
     "output_type": "display_data"
    }
   ],
   "source": [
    "# Lets simulate\n",
    "\n",
    "@interact\n",
    "def _(d=IntSlider(100,100,2000,100),k=IntSlider(2,2,100,1)):\n",
    "    np.random.seed(1)\n",
    "    v_pre = np.random.normal(size=d)\n",
    "    v = v_pre / np.linalg.norm(v_pre)\n",
    "\n",
    "    print(\"v has length: %.2f\" % np.linalg.norm(v))\n",
    "\n",
    "    num_simulations = 300\n",
    "\n",
    "    error = []\n",
    "\n",
    "    for i in range(num_simulations):\n",
    "        uis = np.random.normal(size=(k,d))\n",
    "        f = uis@v\n",
    "        error.append(abs(np.linalg.norm(f)-np.linalg.norm(v)*np.sqrt(k))/(np.linalg.norm(v)*np.sqrt(k)))\n",
    "    _=plt.hist(error)\n",
    "\n",
    "    # P=histogram(error)\n",
    "    # P.xmax(1)\n",
    "    # P.show()"
   ]
  }
 ],
 "metadata": {
  "kernelspec": {
   "display_name": "base",
   "language": "python",
   "name": "python3"
  },
  "language_info": {
   "codemirror_mode": {
    "name": "ipython",
    "version": 3
   },
   "file_extension": ".py",
   "mimetype": "text/x-python",
   "name": "python",
   "nbconvert_exporter": "python",
   "pygments_lexer": "ipython3",
   "version": "3.11.7"
  }
 },
 "nbformat": 4,
 "nbformat_minor": 2
}
