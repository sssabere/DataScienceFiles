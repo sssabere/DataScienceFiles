{
 "cells": [
  {
   "cell_type": "markdown",
   "metadata": {},
   "source": "**Negative log likelihood for different pdf's**"
  },
  {
   "cell_type": "markdown",
   "metadata": {},
   "source": [
    "Gaussian \n",
    "$$\n",
    "f(x ;\\mu, \\sigma) = \\displaystyle\\frac{1}{\\sigma\\sqrt{2\\pi}}\\exp\\left(\\frac{-1}{2\\sigma^2}(x-\\mu)^2\\right)\n",
    "$$"
   ]
  },
  {
   "cell_type": "code",
   "execution_count": null,
   "metadata": {
    "vscode": {
     "languageId": "plaintext"
    }
   },
   "outputs": [],
   "source": "# (n/2)*np.log(2*np.pi)+(n/2)*np.log(sigma_param**2)+(1/(2*sigma_param**2))*np.sum((normallySimulatedDataSamples-mu_param)**2)"
  },
  {
   "metadata": {},
   "cell_type": "markdown",
   "source": ""
  },
  {
   "cell_type": "markdown",
   "metadata": {},
   "source": "NLL för funktioner som inte finns i detta dokument"
  },
  {
   "metadata": {},
   "cell_type": "code",
   "outputs": [],
   "execution_count": null,
   "source": [
    "def PDF(x, mu, sigma):\n",
    "    return NotImplemented\n",
    "\n",
    "\n",
    "# define the negative log likelihood function you want to minimise by editing XXX\n",
    "def negLogLklOfIIDNormalSamples(parameters):\n",
    "    # Return the -log(likelihood) of normallySimulatedDataSamples with mean and variance parameters\n",
    "    mu_param = parameters[0]\n",
    "    sigma_param = parameters[1]\n",
    "\n",
    "    likelihoods = PDF(normallySimulatedDataSamples, mu_param, sigma_param)\n",
    "    positive_likelihoods = likelihoods[likelihoods > 0]  #filter zeros\n",
    "\n",
    "    negative_log_likelihood = -np.sum(np.log(positive_likelihoods))\n",
    "    return negative_log_likelihood"
   ]
  },
  {
   "metadata": {},
   "cell_type": "markdown",
   "source": ""
  }
 ],
 "metadata": {
  "language_info": {
   "name": "python"
  }
 },
 "nbformat": 4,
 "nbformat_minor": 2
}
