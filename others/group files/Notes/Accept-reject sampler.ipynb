{
 "cells": [
  {
   "cell_type": "markdown",
   "metadata": {},
   "source": [
    "Accept-reject sampler. Change the uniformGenerator to whatever generator you have. Change (np.abs(np.sin(2 * np.pi * x))) to the proposal distribution you want to sample from. \n",
    "\n",
    "Pro tip: Use desmos to find a simple proposal distribtion. You want it to be larger than the target density at all points but reasonably close. "
   ]
  },
  {
   "cell_type": "code",
   "metadata": {
    "ExecuteTime": {
     "end_time": "2025-01-15T17:51:23.795666Z",
     "start_time": "2025-01-15T17:51:23.790562Z"
    }
   },
   "source": [
    "def reject_sampler(n_samples=1000):\n",
    "# Distribution from part 1\n",
    "# write the code in this function to produce samples from the distribution in the assignment\n",
    "# Make sure you choose a good sampling distribution to avoid unnecessary rejections\n",
    "# Return a numpy array of length n_samples\n",
    "\n",
    "    accepted_samples = []\n",
    "\n",
    "\n",
    "    target = lambda x: NotImplemented\n",
    "    proposal = lambda x: NotImplemented\n",
    "    M = NotImplemented\n",
    "\n",
    "    while len(accepted_samples) < n_samples:\n",
    "        x = np.random.uniform(0, 1)\n",
    "        u = np.random.uniform(0, 1)\n",
    "        \n",
    "        if u <= target(x) / M * proposal(x):\n",
    "            accepted_samples.append(x)  # Accept x\n",
    "    \n",
    "    return np.array(accepted_samples)"
   ],
   "outputs": [],
   "execution_count": 1
  }
 ],
 "metadata": {
  "kernelspec": {
   "display_name": "base",
   "language": "python",
   "name": "python3"
  },
  "language_info": {
   "codemirror_mode": {
    "name": "ipython",
    "version": 3
   },
   "file_extension": ".py",
   "mimetype": "text/x-python",
   "name": "python",
   "nbconvert_exporter": "python",
   "pygments_lexer": "ipython3",
   "version": "3.11.7"
  }
 },
 "nbformat": 4,
 "nbformat_minor": 2
}
