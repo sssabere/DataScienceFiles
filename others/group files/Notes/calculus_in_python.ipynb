{
 "cells": [
  {
   "metadata": {
    "ExecuteTime": {
     "end_time": "2025-01-16T12:22:52.088224Z",
     "start_time": "2025-01-16T12:22:52.085251Z"
    }
   },
   "cell_type": "code",
   "source": [
    "#EXAMPLE FUNC\n",
    "def f(x):\n",
    "    return x ** 2"
   ],
   "id": "16b3b55906f0747a",
   "outputs": [],
   "execution_count": 47
  },
  {
   "metadata": {
    "ExecuteTime": {
     "end_time": "2025-01-16T12:22:52.101673Z",
     "start_time": "2025-01-16T12:22:52.098465Z"
    }
   },
   "cell_type": "code",
   "source": [
    "#DERIVATIVE (Symbolic)\n",
    "from sympy import symbols, diff\n",
    "from sympy.abc import lamda\n",
    "import numpy as np\n",
    "\n",
    "# Define a variable and a function\n",
    "x = symbols('x')\n",
    "f_sym = x ** 2\n",
    "\n",
    "print(f\"The derivative of the function is: {diff(f_sym, x)}\")"
   ],
   "id": "dabe57fe9df609d1",
   "outputs": [
    {
     "name": "stdout",
     "output_type": "stream",
     "text": [
      "The derivative of the function is: 2*x\n"
     ]
    }
   ],
   "execution_count": 48
  },
  {
   "metadata": {
    "ExecuteTime": {
     "end_time": "2025-01-16T12:22:52.124952Z",
     "start_time": "2025-01-16T12:22:52.122445Z"
    }
   },
   "cell_type": "code",
   "source": [
    "#DERIVATIVE of function at x (numerical)\n",
    "def df(func, x, dx=1e-10):\n",
    "    return (func(x + dx) - func(x - dx)) / (2 * dx)\n",
    "\n",
    "\n",
    "print(f\"The derivative of the function at x=0 is: {df(f, 0)}\")"
   ],
   "id": "433d190b957380fc",
   "outputs": [
    {
     "name": "stdout",
     "output_type": "stream",
     "text": [
      "The derivative of the function at x=0 is: 0.0\n"
     ]
    }
   ],
   "execution_count": 49
  },
  {
   "metadata": {
    "ExecuteTime": {
     "end_time": "2025-01-16T12:22:52.200739Z",
     "start_time": "2025-01-16T12:22:52.197534Z"
    }
   },
   "cell_type": "code",
   "source": [
    "#INTEGRATE function over [0, 1]\n",
    "def I(func, n=100000):\n",
    "    # Monte Carlo Integration\n",
    "    return np.mean(func(np.random.uniform(0, 1, n)))\n",
    "\n",
    "\n",
    "print(f\"The integral of the function over [0, 1] is: {I(f)}\")"
   ],
   "id": "75a0b54704f17053",
   "outputs": [
    {
     "name": "stdout",
     "output_type": "stream",
     "text": [
      "The integral of the function over [0, 1] is: 0.3335577502752344\n"
     ]
    }
   ],
   "execution_count": 50
  },
  {
   "metadata": {
    "ExecuteTime": {
     "end_time": "2025-01-16T12:22:57.220614Z",
     "start_time": "2025-01-16T12:22:57.217080Z"
    }
   },
   "cell_type": "code",
   "source": [
    "def get_normalized_function(fun):\n",
    "    return lambda x: fun(x) / I(fun)\n",
    "\n",
    "# Test the normalized function with a specific value of x\n",
    "print(f\"The normalized f(x) at x={2} is: {get_normalized_function(lambda d: 4 * d)(2)}\")"
   ],
   "id": "230a782bd8910972",
   "outputs": [
    {
     "name": "stdout",
     "output_type": "stream",
     "text": [
      "The normalized f(x) at x=2 is: 3.996110315649643\n"
     ]
    }
   ],
   "execution_count": 67
  }
 ],
 "metadata": {
  "kernelspec": {
   "display_name": "Python 3",
   "language": "python",
   "name": "python3"
  },
  "language_info": {
   "codemirror_mode": {
    "name": "ipython",
    "version": 2
   },
   "file_extension": ".py",
   "mimetype": "text/x-python",
   "name": "python",
   "nbconvert_exporter": "python",
   "pygments_lexer": "ipython2",
   "version": "2.7.6"
  }
 },
 "nbformat": 4,
 "nbformat_minor": 5
}
