{
 "cells": [
  {
   "metadata": {},
   "cell_type": "markdown",
   "source": "**Manual Split**",
   "id": "2563c61c6094044c"
  },
  {
   "cell_type": "code",
   "execution_count": null,
   "id": "initial_id",
   "metadata": {
    "collapsed": true
   },
   "outputs": [],
   "source": [
    "X = NotImplemented\n",
    "Y = NotImplemented\n",
    "\n",
    "n = len(Y)\n",
    "train_end = int(0.6*n)\n",
    "test_end = train_end + int(0.15*n)\n",
    "Y_train, Y_test, Y_valid = Y[:train_end], Y[train_end:test_end], Y[test_end:]\n",
    "X_train, X_test, X_valid = X[:train_end], X[train_end:test_end], X[test_end:]"
   ]
  },
  {
   "metadata": {},
   "cell_type": "markdown",
   "source": "Split this data into a train-calibration-test sets where we have the split $40\\%$, $20\\%$, $40\\%$, put this data in the designated variables in the code cell.",
   "id": "aa2693357e6bad55"
  },
  {
   "metadata": {},
   "cell_type": "code",
   "outputs": [],
   "execution_count": null,
   "source": [
    "problem3_X = NotImplemented\n",
    "problem3_Y = NotImplemented\n",
    "\n",
    "X_train, X_temp, Y_train, Y_temp = train_test_split(problem3_X, problem3_Y, test_size=0.6, random_state=42, stratify=problem3_Y)\n",
    "X_calib, X_test, Y_calib, Y_test = train_test_split(X_temp, Y_temp, test_size=2/3, random_state=42, stratify=Y_temp)\n",
    "\n",
    "problem3_X_train = X_train\n",
    "problem3_X_calib = X_calib\n",
    "problem3_X_test = X_test\n",
    "\n",
    "problem3_Y_train = Y_train\n",
    "problem3_Y_calib = Y_calib\n",
    "problem3_Y_test = Y_test"
   ],
   "id": "8f09cbe278a75e93"
  }
 ],
 "metadata": {
  "kernelspec": {
   "display_name": "Python 3",
   "language": "python",
   "name": "python3"
  },
  "language_info": {
   "codemirror_mode": {
    "name": "ipython",
    "version": 2
   },
   "file_extension": ".py",
   "mimetype": "text/x-python",
   "name": "python",
   "nbconvert_exporter": "python",
   "pygments_lexer": "ipython2",
   "version": "2.7.6"
  }
 },
 "nbformat": 4,
 "nbformat_minor": 5
}
