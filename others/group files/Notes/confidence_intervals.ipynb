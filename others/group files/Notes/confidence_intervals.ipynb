{
 "cells": [
  {
   "cell_type": "code",
   "execution_count": 5,
   "id": "initial_id",
   "metadata": {
    "ExecuteTime": {
     "end_time": "2024-12-29T21:22:43.083588Z",
     "start_time": "2024-12-29T21:22:43.079589Z"
    },
    "collapsed": true
   },
   "outputs": [],
   "source": [
    "import numpy as np"
   ]
  },
  {
   "cell_type": "markdown",
   "id": "1837e8e0a31f42c4",
   "metadata": {},
   "source": [
    "### Range-based Hoeffding’s inequality with a confidence of $\\delta$:\n",
    "$$\n",
    "\\epsilon = \\sqrt{\\frac{\\ln(2 / (1 - \\delta)) \\cdot (b - a)^2}{2n}}\n",
    "$$\n"
   ]
  },
  {
   "cell_type": "code",
   "execution_count": 6,
   "id": "905b9bc1e0dc5b08",
   "metadata": {
    "ExecuteTime": {
     "end_time": "2024-12-29T21:22:43.102432Z",
     "start_time": "2024-12-29T21:22:43.098518Z"
    }
   },
   "outputs": [],
   "source": [
    "def hoeffdings_range_based(X, alpha):\n",
    "\n",
    "    log_term = np.log(2 / (1 - alpha))\n",
    "    range_term = (np.max(X) - np.min(X)) ** 2\n",
    "    denominator = 2 * len(X)\n",
    "\n",
    "    epsilon = np.sqrt((log_term * range_term) / denominator)\n",
    "    sample_mean = np.mean(X)\n",
    "    \n",
    "    return sample_mean - epsilon, sample_mean + epsilon\n",
    "\n",
    "\n",
    "# interval_of_C = (np.mean(C) - hoeffdings_range_based(C, confidence), np.mean(C) + hoeffdings_range_based(C, confidence))"
   ]
  },
  {
   "cell_type": "markdown",
   "id": "898c9efc707ea4a0",
   "metadata": {},
   "source": [
    "### Variance-based Hoeffding’s inequality with a confidence of $\\delta$:\n",
    "$$\n",
    "\\epsilon = \\sqrt{\\frac{2 \\cdot \\text{Var}(C) \\cdot \\ln(2 / (1 - \\delta))}{n}}\n",
    "$$"
   ]
  },
  {
   "cell_type": "code",
   "execution_count": 7,
   "id": "fc4985068a740a96",
   "metadata": {
    "ExecuteTime": {
     "end_time": "2024-12-29T21:22:43.117317Z",
     "start_time": "2024-12-29T21:22:43.114542Z"
    }
   },
   "outputs": [],
   "source": [
    "def hoeffdings_variance_based(C, confidence):\n",
    "\n",
    "    log_term = np.log(2 / (1 - confidence))\n",
    "    variance_of_C = np.var(C, ddof=0)\n",
    "    denominator = len(C)\n",
    "\n",
    "    return np.sqrt((2 * variance_of_C * log_term ) / denominator)\n",
    "\n",
    "# interval_of_C = (np.mean(C) - hoeffdings_variance_based, np.mean(C) + hoeffdings_variance_based)"
   ]
  },
  {
   "cell_type": "markdown",
   "id": "4ffbdce024637758",
   "metadata": {},
   "source": [
    "### Empirical Bernstein Bound with a confidence of $\\delta$:\n",
    "$$\n",
    "\\epsilon = \\sqrt{\\frac{2 \\cdot \\text{Var}(C) \\cdot \\ln{\\frac{2}{1 - \\delta}}}{n}} + \\frac{M}{3} \\cdot \\ln{\\frac{2}{1 -\\delta}}\n",
    "$$\n"
   ]
  },
  {
   "cell_type": "code",
   "execution_count": 8,
   "id": "e077c19fe8b443be",
   "metadata": {
    "ExecuteTime": {
     "end_time": "2024-12-29T21:22:43.123605Z",
     "start_time": "2024-12-29T21:22:43.121409Z"
    }
   },
   "outputs": [],
   "source": [
    "def bernstein_bound(C, confidence):\n",
    "    M = np.max(C) - np.min(C)\n",
    "    return hoeffdings_variance_based(C, confidence) + (M / 3) * np.log(2 / (1 - confidence))\n",
    "\n",
    "# interval_of_C = (np.mean(C) - bernstein_bound, np.mean(C) + bernstein_bound)"
   ]
  },
  {
   "cell_type": "markdown",
   "id": "fa830bc305a0f46a",
   "metadata": {},
   "source": [
    "### DKW Inequality:\n",
    "$$\n",
    "\\epsilon = \\sqrt{\\frac{\\ln(2 / (1 - \\delta))}{2n}}\n",
    "$$\n",
    "\n",
    "Worth noting is that DKW is essentially hoeffding but for bernoulli variables $(b-a=1)$. "
   ]
  },
  {
   "cell_type": "code",
   "execution_count": 9,
   "id": "82cd5614357b3a2",
   "metadata": {
    "ExecuteTime": {
     "end_time": "2024-12-29T21:22:43.131036Z",
     "start_time": "2024-12-29T21:22:43.129160Z"
    }
   },
   "outputs": [],
   "source": [
    "def DKW(delta, n):\n",
    "    return np.sqrt(np.log(2 / (1 - delta)) / (2 * n))"
   ]
  }
 ],
 "metadata": {
  "kernelspec": {
   "display_name": "Python 3",
   "language": "python",
   "name": "python3"
  },
  "language_info": {
   "codemirror_mode": {
    "name": "ipython",
    "version": 2
   },
   "file_extension": ".py",
   "mimetype": "text/x-python",
   "name": "python",
   "nbconvert_exporter": "python",
   "pygments_lexer": "ipython2",
   "version": "2.7.6"
  }
 },
 "nbformat": 4,
 "nbformat_minor": 5
}
