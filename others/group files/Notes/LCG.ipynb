{
 "cells": [
  {
   "cell_type": "markdown",
   "metadata": {},
   "source": [
    "Linear Congruential generator with good period. Set the seed to something you want. \n",
    "Other combinations of m,a,b is on wikipedia: https://en.wikipedia.org/wiki/Linear_congruential_generator#Parameters_in_common_use"
   ]
  },
  {
   "cell_type": "code",
   "metadata": {
    "ExecuteTime": {
     "end_time": "2025-01-16T12:51:49.019521Z",
     "start_time": "2025-01-16T12:51:49.014259Z"
    }
   },
   "source": [
    "def LCG(size=10, seed=0):\n",
    "    # Parameters for maximal period\n",
    "    m = 2**31 - 1  # Large prime modulus\n",
    "    a = 1103515245  # Multiplier (common choice)\n",
    "    b = 12345  # Increment (common choice)\n",
    "    \n",
    "    x = seed\n",
    "    retValue = []\n",
    "    for _ in range(size):\n",
    "        x = (a * x + b) % m\n",
    "        retValue.append(x)\n",
    "    return retValue\n",
    "\n",
    "array = LCG(size=100, seed=15)\n",
    "print(array)\n",
    "print(max(array))"
   ],
   "outputs": [
    {
     "name": "stdout",
     "output_type": "stream",
     "text": [
      "[1520355491, 912281255, 1460909455, 2098133541, 1836667595, 1613070706, 519899756, 1449069032, 2035165943, 666852979, 262222727, 1858622925, 1475120089, 1918382185, 1665448445, 2124359814, 114443171, 783679079, 1504423272, 829607953, 1624694532, 1716224483, 1557953359, 1430558574, 1832721741, 279144027, 749813734, 1909176618, 555652094, 1888841245, 947205790, 969118499, 2094747331, 693825789, 118760022, 238040002, 195152733, 750930814, 976141102, 342345164, 548921229, 960849217, 1981420224, 939582000, 1530025267, 833804784, 1085795633, 515688115, 1277743151, 2001460671, 652551578, 605994542, 388808722, 745018584, 747407100, 1120064189, 1722146299, 1579380809, 1931678930, 1574845189, 1219829401, 1294168991, 418406333, 1904426347, 934179464, 368655937, 2124946565, 993555196, 1936217987, 464987534, 1115579146, 400857605, 1147692242, 1589516347, 732154816, 1774140044, 1424078377, 1643076950, 1513253250, 243404646, 610949260, 54589341, 271940685, 1804064971, 472444101, 694644453, 607705448, 1602186761, 298938768, 1431265562, 1649733289, 1897841920, 574681643, 692876021, 340432506, 1147453028, 426039098, 1198263490, 430194740, 1608810688]\n",
      "2124946565\n"
     ]
    }
   ],
   "execution_count": 1
  }
 ],
 "metadata": {
  "kernelspec": {
   "display_name": "base",
   "language": "python",
   "name": "python3"
  },
  "language_info": {
   "codemirror_mode": {
    "name": "ipython",
    "version": 3
   },
   "file_extension": ".py",
   "mimetype": "text/x-python",
   "name": "python",
   "nbconvert_exporter": "python",
   "pygments_lexer": "ipython3",
   "version": "3.11.7"
  }
 },
 "nbformat": 4,
 "nbformat_minor": 2
}
