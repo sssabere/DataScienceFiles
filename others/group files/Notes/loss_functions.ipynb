{
 "cells": [
  {
   "cell_type": "code",
   "execution_count": null,
   "id": "initial_id",
   "metadata": {
    "collapsed": true
   },
   "outputs": [],
   "source": [
    "import numpy as np"
   ]
  },
  {
   "cell_type": "markdown",
   "id": "1d61f062f14bf494",
   "metadata": {},
   "source": [
    "binary cross-entropy loss for binary classification problems. It measures the difference between the predicted probabilities and the actual labels, quantifying how well the logistic regression model’s predictions match the true outcomes. X is input, Y is labels. P is the PDF. "
   ]
  },
  {
   "cell_type": "code",
   "execution_count": null,
   "id": "4e1dff979ede6ee7",
   "metadata": {},
   "outputs": [],
   "source": [
    "def loss(self,X,Y,coeffs):\n",
    "        G = lambda x: 1 / (1 + np.exp(-x))\n",
    "        beta0 = coeffs[0]\n",
    "        beta1 = coeffs[1:]\n",
    "        terms = beta0 + beta1@X.T\n",
    "        P = G(terms)\n",
    "        loss = (- np.sum(Y * np.log(P) + (1-Y)*np.log(1-P))) / len(X)\n",
    "        return loss"
   ]
  },
  {
   "cell_type": "markdown",
   "id": "4537a107684d4dad",
   "metadata": {},
   "source": []
  }
 ],
 "metadata": {
  "kernelspec": {
   "display_name": "Python 3",
   "language": "python",
   "name": "python3"
  },
  "language_info": {
   "codemirror_mode": {
    "name": "ipython",
    "version": 2
   },
   "file_extension": ".py",
   "mimetype": "text/x-python",
   "name": "python",
   "nbconvert_exporter": "python",
   "pygments_lexer": "ipython2",
   "version": "2.7.6"
  }
 },
 "nbformat": 4,
 "nbformat_minor": 5
}
