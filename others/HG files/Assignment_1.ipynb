{
 "cells": [
  {
   "cell_type": "markdown",
   "id": "0237b47b",
   "metadata": {
    "deletable": false
   },
   "source": [
    "%md\n",
    "# Assignment 1 for Course 1MS041\n",
    "Make sure you pass the `# ... Test` cells and\n",
    " submit your solution notebook in the corresponding assignment on the course website. You can submit multiple times before the deadline and your highest score will be used."
   ]
  },
  {
   "cell_type": "markdown",
   "id": "4f186894",
   "metadata": {
    "deletable": false,
    "lx_assignment_number": "1",
    "lx_assignment_type": "ASSIGNMENT",
    "lx_assignment_type2print": "Assignment",
    "lx_problem_cell_type": "PROBLEM",
    "lx_problem_number": "1",
    "lx_problem_points": "3"
   },
   "source": [
    "---\n",
    "## Assignment 1, PROBLEM 1\n",
    "Maximum Points = 3"
   ]
  },
  {
   "cell_type": "markdown",
   "id": "6be79082",
   "metadata": {
    "deletable": false,
    "lx_assignment_number": "1",
    "lx_assignment_type": "ASSIGNMENT",
    "lx_assignment_type2print": "Assignment",
    "lx_problem_cell_type": "PROBLEM",
    "lx_problem_number": "1",
    "lx_problem_points": "3"
   },
   "source": [
    "\n",
    "\n",
    "Given that you are being introduced to data science it is important to bear in mind the true costs of AI, a highly predictive family of algorithms used in data engineering sciences:\n",
    "\n",
    "Read the 16 pages of [ai-anatomy-publication.pdf](http://www.anatomyof.ai/img/ai-anatomy-publication.pdf) with the highly detailed [ai-anatomy-map.pdf](https://anatomyof.ai/img/ai-anatomy-map.pdf) of [https://anatomyof.ai/](https://anatomyof.ai/), \"Anatomy of an AI System\" By Kate Crawford and Vladan Joler (2018).  The first problem in ASSIGNMENT 1 is a trivial test of your reading comprehension.\n",
    "\n",
    "\n",
    "Answer whether each of the following statements is `True` or `False` *according to the authors* by appropriately replacing `Xxxxx` coresponding to `TruthValueOfStatement0a`, `TruthValueOfStatement0b` and `TruthValueOfStatement0c`, respectively, in the next cell to demonstrate your reading comprehension.\n",
    "\n",
    "1. `Statement0a =` *Each small moment of convenience (provided by Amazon's Echo) – be it answering a question, turning on a light, or playing a song – requires a vast planetary network, fueled by the extraction of non-renewable materials, labor, and data.*\n",
    "2. `Statement0b =` *The Echo user is simultaneously a consumer, a resource, a worker, and a product* \n",
    "3. `Statement0c =` *Many of the assumptions about human life made by machine learning systems are narrow, normative and laden with error. Yet they are inscribing and building those assumptions into a new world, and will increasingly play a role in how opportunities, wealth, and knowledge are distributed.*"
   ]
  },
  {
   "cell_type": "code",
   "execution_count": 1,
   "id": "4fa1b7d7",
   "metadata": {
    "deletable": false,
    "lx_assignment_number": "1",
    "lx_assignment_type": "ASSIGNMENT",
    "lx_assignment_type2print": "Assignment",
    "lx_problem_cell_type": "PROBLEM",
    "lx_problem_number": "1",
    "lx_problem_points": "3"
   },
   "outputs": [],
   "source": [
    "\n",
    "# Replace Xxxxx with True or False; Don't modify anything else in this cell!\n",
    "\n",
    "TruthValueOfStatement0a = True\n",
    "\n",
    "TruthValueOfStatement0b = True\n",
    "\n",
    "TruthValueOfStatement0c = True"
   ]
  },
  {
   "cell_type": "markdown",
   "id": "1b60c2f3",
   "metadata": {
    "deletable": false,
    "lx_assignment_number": "1",
    "lx_assignment_type": "ASSIGNMENT",
    "lx_assignment_type2print": "Assignment",
    "lx_problem_cell_type": "Test",
    "lx_problem_number": "1",
    "lx_problem_points": "3"
   },
   "source": [
    "---\n",
    "#### Local Test for Assignment 1, PROBLEM 1\n",
    "Evaluate cell below to make sure your answer is valid.                             You **should not** modify anything in the cell below when evaluating it to do a local test of                             your solution.\n",
    "You may need to include and evaluate code snippets from lecture notebooks in cells above to make the local test work correctly sometimes (see error messages for clues). This is meant to help you become efficient at recalling materials covered in lectures that relate to this problem. Such local tests will generally not be available in the exam."
   ]
  },
  {
   "cell_type": "code",
   "execution_count": null,
   "id": "6e4c2214",
   "metadata": {
    "deletable": false,
    "lx_assignment_number": "1",
    "lx_assignment_type": "ASSIGNMENT",
    "lx_assignment_type2print": "Assignment",
    "lx_problem_cell_type": "Test",
    "lx_problem_number": "1",
    "lx_problem_points": "3"
   },
   "outputs": [],
   "source": [
    "# Test locally to ensure an acceptable answer, True or False\n",
    "try:\n",
    "    assert(isinstance(TruthValueOfStatement0a, bool)) \n",
    "    assert(isinstance(TruthValueOfStatement0b, bool)) \n",
    "    assert(isinstance(TruthValueOfStatement0c, bool))\n",
    "except:\n",
    "    print(\"Try again. You are not writing True or False for your answers.\")\n",
    "else:\n",
    "    print(\"Good, you have answered either True or False. Hopefully they are the correct answers!\")"
   ]
  },
  {
   "cell_type": "markdown",
   "id": "b0c441f1",
   "metadata": {
    "deletable": false,
    "lx_assignment_number": "1",
    "lx_assignment_type": "ASSIGNMENT",
    "lx_assignment_type2print": "Assignment",
    "lx_problem_cell_type": "PROBLEM",
    "lx_problem_number": "2",
    "lx_problem_points": "2"
   },
   "source": [
    "---\n",
    "## Assignment 1, PROBLEM 2\n",
    "Maximum Points = 2"
   ]
  },
  {
   "cell_type": "markdown",
   "id": "fefff3e3",
   "metadata": {
    "deletable": false,
    "lx_assignment_number": "1",
    "lx_assignment_type": "ASSIGNMENT",
    "lx_assignment_type2print": "Assignment",
    "lx_problem_cell_type": "PROBLEM",
    "lx_problem_number": "2",
    "lx_problem_points": "2"
   },
   "source": [
    "\n",
    "Evaluate the following cells by replacing `X` with the right command-line option to `head` in order to find the first four lines of the csv file `data/final.csv`\n",
    "\n",
    "```\n",
    "%%sh\n",
    "man head\n",
    "\n",
    "HEAD(1)                   BSD General Commands Manual                  HEAD(1)\n",
    "\n",
    "NAME\n",
    "     head -- display first lines of a file\n",
    "\n",
    "SYNOPSIS\n",
    "     head [-n count | -c bytes] [file ...]\n",
    "\n",
    "DESCRIPTION\n",
    "     This filter displays the first count lines or bytes of each of the speci-\n",
    "     fied files, or of the standard input if no files are specified.  If count\n",
    "     is omitted it defaults to 10.\n",
    "\n",
    "     If more than a single file is specified, each file is preceded by a\n",
    "     header consisting of the string ``==> XXX <=='' where ``XXX'' is the name\n",
    "     of the file.\n",
    "\n",
    "EXIT STATUS\n",
    "     The head utility exits 0 on success, and >0 if an error occurs.\n",
    "\n",
    "SEE ALSO\n",
    "     tail(1)\n",
    "\n",
    "HISTORY\n",
    "     The head command appeared in PWB UNIX.\n",
    "\n",
    "BSD                              June 6, 1993                              BSD\n",
    "```"
   ]
  },
  {
   "cell_type": "code",
   "execution_count": null,
   "id": "482434f3",
   "metadata": {
    "deletable": false,
    "lx_assignment_number": "1",
    "lx_assignment_type": "ASSIGNMENT",
    "lx_assignment_type2print": "Assignment",
    "lx_problem_cell_type": "PROBLEM",
    "lx_problem_number": "2",
    "lx_problem_points": "2"
   },
   "outputs": [],
   "source": [
    "%%sh\n",
    "head -n 4 data/final.csv"
   ]
  },
  {
   "cell_type": "code",
   "execution_count": 4,
   "id": "b3949d74",
   "metadata": {
    "deletable": false,
    "lx_assignment_number": "1",
    "lx_assignment_type": "ASSIGNMENT",
    "lx_assignment_type2print": "Assignment",
    "lx_problem_cell_type": "PROBLEM",
    "lx_problem_number": "2",
    "lx_problem_points": "2"
   },
   "outputs": [],
   "source": [
    "line_1_final = \"region,municipality,district,party,votes\"\n",
    "line_2_final = \"Blekinge län,Karlshamn,0 - Centrala Asarum,S,519\""
   ]
  },
  {
   "cell_type": "markdown",
   "id": "34a5f06c",
   "metadata": {
    "deletable": false,
    "lx_assignment_number": "1",
    "lx_assignment_type": "ASSIGNMENT",
    "lx_assignment_type2print": "Assignment",
    "lx_problem_cell_type": "Test",
    "lx_problem_number": "2",
    "lx_problem_points": "2"
   },
   "source": [
    "---\n",
    "#### Local Test for Assignment 1, PROBLEM 2\n",
    "Evaluate cell below to make sure your answer is valid.                             You **should not** modify anything in the cell below when evaluating it to do a local test of                             your solution.\n",
    "You may need to include and evaluate code snippets from lecture notebooks in cells above to make the local test work correctly sometimes (see error messages for clues). This is meant to help you become efficient at recalling materials covered in lectures that relate to this problem. Such local tests will generally not be available in the exam."
   ]
  },
  {
   "cell_type": "code",
   "execution_count": null,
   "id": "2c973b56",
   "metadata": {
    "deletable": false,
    "lx_assignment_number": "1",
    "lx_assignment_type": "ASSIGNMENT",
    "lx_assignment_type2print": "Assignment",
    "lx_problem_cell_type": "Test",
    "lx_problem_number": "2",
    "lx_problem_points": "2"
   },
   "outputs": [],
   "source": [
    "# Evaluate this cell locally to make sure you have the answer as a string\n",
    "try:\n",
    "    assert(type(line_1_final) == str)\n",
    "    print(\"Good! You have answered as a string for line 1. Hopefully it is the correct!\")\n",
    "except AssertionError:\n",
    "    print(\"Try Again. You should answer with a string.\")\n",
    "try:\n",
    "    assert(type(line_2_final) == str)\n",
    "    print(\"Good! You have answered as a string for line 2. Hopefully it is the correct!\")\n",
    "except AssertionError:\n",
    "    print(\"Try Again. You should answer with a string.\")"
   ]
  },
  {
   "cell_type": "markdown",
   "id": "26707bc8",
   "metadata": {
    "deletable": false,
    "lx_assignment_number": "1",
    "lx_assignment_type": "ASSIGNMENT",
    "lx_assignment_type2print": "Assignment",
    "lx_problem_cell_type": "PROBLEM",
    "lx_problem_number": "3",
    "lx_problem_points": "3"
   },
   "source": [
    "---\n",
    "## Assignment 1, PROBLEM 3\n",
    "Maximum Points = 3"
   ]
  },
  {
   "cell_type": "markdown",
   "id": "8fe5a35f",
   "metadata": {
    "deletable": false,
    "lx_assignment_number": "1",
    "lx_assignment_type": "ASSIGNMENT",
    "lx_assignment_type2print": "Assignment",
    "lx_problem_cell_type": "PROBLEM",
    "lx_problem_number": "3",
    "lx_problem_points": "3"
   },
   "source": [
    "\n",
    "In this assignment the goal is to parse the `final.csv` file from the previous problem.\n",
    "\n",
    "1. Read the file `data/final.csv` and parse it using the `csv` package and store the result as follows\n",
    "\n",
    "the `header` variable contains a list of names all as strings\n",
    "\n",
    "the `data` variable should be a list of lists containing all the rows of the csv file"
   ]
  },
  {
   "cell_type": "code",
   "execution_count": null,
   "id": "5b7bc3dd",
   "metadata": {
    "deletable": false,
    "lx_assignment_number": "1",
    "lx_assignment_type": "ASSIGNMENT",
    "lx_assignment_type2print": "Assignment",
    "lx_problem_cell_type": "PROBLEM",
    "lx_problem_number": "3",
    "lx_problem_points": "3"
   },
   "outputs": [],
   "source": [
    "import csv\n",
    "with open ('data/final.csv', newline='', encoding=\"utf-8\") as file:\n",
    "  csv_reader = csv.reader(file)\n",
    "  header = next(csv_reader)\n",
    "  data = [row for row in csv_reader]"
   ]
  },
  {
   "cell_type": "markdown",
   "id": "4559ba9e",
   "metadata": {
    "deletable": false,
    "lx_assignment_number": "1",
    "lx_assignment_type": "ASSIGNMENT",
    "lx_assignment_type2print": "Assignment",
    "lx_problem_cell_type": "Test",
    "lx_problem_number": "3",
    "lx_problem_points": "3"
   },
   "source": [
    "---\n",
    "#### Local Test for Assignment 1, PROBLEM 3\n",
    "Evaluate cell below to make sure your answer is valid.                             You **should not** modify anything in the cell below when evaluating it to do a local test of                             your solution.\n",
    "You may need to include and evaluate code snippets from lecture notebooks in cells above to make the local test work correctly sometimes (see error messages for clues). This is meant to help you become efficient at recalling materials covered in lectures that relate to this problem. Such local tests will generally not be available in the exam."
   ]
  },
  {
   "cell_type": "code",
   "execution_count": null,
   "id": "f1beb51a",
   "metadata": {
    "deletable": false,
    "lx_assignment_number": "1",
    "lx_assignment_type": "ASSIGNMENT",
    "lx_assignment_type2print": "Assignment",
    "lx_problem_cell_type": "Test",
    "lx_problem_number": "3",
    "lx_problem_points": "3"
   },
   "outputs": [],
   "source": [
    "\n",
    "# Evaluate this cell locally to make sure you have the answer in the right format\n",
    "try:\n",
    "    assert(type(header) == list)\n",
    "    print(\"Good! You have the header as a list. Hopefully it is the correct!\")\n",
    "except AssertionError:\n",
    "    print(\"Try Again. You should answer with a list.\")\n",
    "try:\n",
    "    types = set([type(a) for a in header])\n",
    "    assert((len(types) == 1) and (list(types)[0] == str))\n",
    "    print(\"Good! You have the header as a list of strings. Hopefully it is the correct!\")\n",
    "except AssertionError:\n",
    "    print(\"Try Again. You should answer with a list of strings.\")\n",
    "try:\n",
    "    assert(type(data) == list)\n",
    "    print(\"Good! You have the data as a list. Hopefully it is the correct!\")\n",
    "except AssertionError:\n",
    "    print(\"Try Again. You should answer with a list.\")\n",
    "try:\n",
    "    types = set([type(a) for a in data])\n",
    "    assert((len(types) == 1) and (list(types)[0] == list))\n",
    "    print(\"Good! You have the data as a list of lists. Hopefully it is the correct!\")\n",
    "except AssertionError:\n",
    "    print(\"Try Again. You should answer with a list of lists.\")\n",
    "try:\n",
    "    types = set(sum([[type(d) for d in t] for t in data[:1]],[]))\n",
    "    assert((len(types) == 1) and (list(types)[0] == str))\n",
    "    print(\"Good! You have the data as a list of lists of strings. Hopefully it is the correct!\")\n",
    "except AssertionError:\n",
    "    print(\"Try Again. You should answer with a list of lists of strings.\")"
   ]
  },
  {
   "cell_type": "markdown",
   "id": "1d257370",
   "metadata": {
    "deletable": false,
    "lx_assignment_number": "1",
    "lx_assignment_type": "ASSIGNMENT",
    "lx_assignment_type2print": "Assignment",
    "lx_problem_cell_type": "PROBLEM",
    "lx_problem_number": "4",
    "lx_problem_points": "8"
   },
   "source": [
    "---\n",
    "## Assignment 1, PROBLEM 4\n",
    "Maximum Points = 8"
   ]
  },
  {
   "cell_type": "markdown",
   "id": "d9b0e8a2",
   "metadata": {
    "deletable": false,
    "lx_assignment_number": "1",
    "lx_assignment_type": "ASSIGNMENT",
    "lx_assignment_type2print": "Assignment",
    "lx_problem_cell_type": "PROBLEM",
    "lx_problem_number": "4",
    "lx_problem_points": "8"
   },
   "source": [
    "\n",
    "## Students passing exam (Sample exam problem)\n",
    "Let's say we have an exam question which consists of $10$ yes/no questions. \n",
    "From past performance of similar students, a randomly chosen student will know the correct answer to $N \\sim \\text{binom}(10,6/10)$ questions. Furthermore, we assume that the student will guess the answer with equal probability to each question they don't know the answer to, i.e. given $N$ we define $Z \\sim \\text{binom}(10-N,1/2)$ as the number of correctly guessed answers. Define $Y = N + Z$, i.e., $Y$ represents the number of total correct answers.\n",
    "\n",
    "We are interested in setting a deterministic threshold $T$, i.e., we would pass a student at threshold $T$ if $Y \\geq T$. Here $T \\in \\{0,1,2,\\ldots,10\\}$.\n",
    "\n",
    "1. [5p] For each threshold $T$, compute the probability that the student *knows* less than $5$ correct answers given that the student passed, i.e., $N < 5$. Put the answer in `problem11_probabilities` as a list.\n",
    "2. [3p] What is the smallest value of $T$ such that if $Y \\geq T$ then we are 90\\% certain that $N \\geq 5$?"
   ]
  },
  {
   "cell_type": "code",
   "execution_count": 132,
   "id": "0a1e3cee",
   "metadata": {
    "deletable": false,
    "lx_assignment_number": "1",
    "lx_assignment_type": "ASSIGNMENT",
    "lx_assignment_type2print": "Assignment",
    "lx_problem_cell_type": "PROBLEM",
    "lx_problem_number": "4",
    "lx_problem_points": "8"
   },
   "outputs": [],
   "source": [
    "\n",
    "# Hint the PMF of N is p_N(k) where p_N is\n",
    "from scipy.special import binom as binomial\n",
    "p = 6/10\n",
    "pz = 1/2\n",
    "p_N = lambda k: binomial(10,k)*((1-p)**(10-k))*((p)**k)\n",
    "\n",
    "def bin_cdf(k, n, p, pmf=None):\n",
    "  if pmf is None:\n",
    "    pmf = lambda k: binomial(n,k)*((1-p)**(n-k))*((p)**k)\n",
    "  return sum(pmf(i) for i in range(k+1))\n",
    "\n",
    "def p_Y_geq_T_given_N(T, N):\n",
    "  from scipy.stats import binom\n",
    "  \"\"\"P(Y >= T | N=n) = 1 if N>=T else P(Z >= T-N)\"\"\"\n",
    "  if N >= T:\n",
    "    return 1\n",
    "  # otherwise P(Y >= T | N=n) = P(Z >= T-N) = 1 - P(Z < T-N) = cdf_Z(T-N-1)\n",
    "  return 1 - bin_cdf(T-N-1, 10-N, pz)\n",
    "\n",
    "def p_Y_geq_T(T):\n",
    "  \"\"\"\n",
    "  P(Y >= T) = P(Y >= T | N=0) + P(Y >= T | N=1) + ... + P(Y>=T | N=10)\n",
    "  = P(Z >= T-1) * P(N=1) + ... + P(Z >= T-10) * P(N=10)  \n",
    "  \"\"\"\n",
    "  return sum(p_N(N) * p_Y_geq_T_given_N(T, N) for N in range(11))"
   ]
  },
  {
   "cell_type": "code",
   "execution_count": null,
   "id": "af28f960",
   "metadata": {
    "deletable": false,
    "lx_assignment_number": "1",
    "lx_assignment_type": "ASSIGNMENT",
    "lx_assignment_type2print": "Assignment",
    "lx_problem_cell_type": "PROBLEM",
    "lx_problem_number": "4",
    "lx_problem_points": "8"
   },
   "outputs": [],
   "source": [
    "\n",
    "# Part 1: \n",
    "# replace XXX to represent P(N < 5) for T = [0,1,2,...,10], i.e. your answer should be a list\n",
    "# of length 11.\n",
    "\n",
    "def problem11(T):\n",
    "  \"\"\"\n",
    "  P(N < 5 | Y >= T) = P(N<5 AND Y >= T) / P(Y >= T)\n",
    "                    = (P(N=1 AND Y >= T) + ... + P(N=4 AND Y >= T)) / P(Y >= T)\n",
    "  \"\"\"\n",
    "\n",
    "  return sum(p_N(N) * p_Y_geq_T_given_N(T,N) for N in range(5)) / p_Y_geq_T(T)\n",
    "\n",
    "problem11_probabilities = [problem11(t) for t in range(11)]\n",
    "problem11_probabilities"
   ]
  },
  {
   "cell_type": "code",
   "execution_count": 62,
   "id": "66204b27",
   "metadata": {
    "deletable": false,
    "lx_assignment_number": "1",
    "lx_assignment_type": "ASSIGNMENT",
    "lx_assignment_type2print": "Assignment",
    "lx_problem_cell_type": "PROBLEM",
    "lx_problem_number": "4",
    "lx_problem_points": "8"
   },
   "outputs": [],
   "source": [
    "\n",
    "# Part 2: Give an integer between 0 and 10 which is the answer to 2.\n",
    "problem12_T = 8"
   ]
  },
  {
   "cell_type": "markdown",
   "id": "4044b6c1",
   "metadata": {
    "deletable": false,
    "lx_assignment_number": "1",
    "lx_assignment_type": "ASSIGNMENT",
    "lx_assignment_type2print": "Assignment",
    "lx_problem_cell_type": "PROBLEM",
    "lx_problem_number": "5",
    "lx_problem_points": "8"
   },
   "source": [
    "---\n",
    "## Assignment 1, PROBLEM 5\n",
    "Maximum Points = 8"
   ]
  },
  {
   "cell_type": "markdown",
   "id": "b838295b",
   "metadata": {
    "deletable": false,
    "lx_assignment_number": "1",
    "lx_assignment_type": "ASSIGNMENT",
    "lx_assignment_type2print": "Assignment",
    "lx_problem_cell_type": "PROBLEM",
    "lx_problem_number": "5",
    "lx_problem_points": "8"
   },
   "source": [
    "\n",
    "## Concentration of measure (Sample exam problem)\n",
    "\n",
    "As you recall, we said that concentration of measure was simply the phenomenon where we expect that the probability of a large deviation of some quantity becoming smaller as we observe more samples: [0.4 points per correct answer]\n",
    "\n",
    "1. Which of the following will exponentially concentrate, i.e. for some $C_1,C_2,C_3,C_4 $ \n",
    "$$\n",
    "    P(Z - \\mathbb{E}[Z] \\geq \\epsilon) \\leq C_1 e^{-C_2 n \\epsilon^2} \\vee C_3 e^{-C_4 n (\\epsilon+1)} \\enspace .\n",
    "$$\n",
    "\n",
    "    1. The empirical variance of i.i.d. random variables with finite mean?\n",
    "    2. The empirical variance of i.i.d. sub-Gaussian random variables?\n",
    "    3. The empirical variance of i.i.d. sub-Exponential random variables?\n",
    "    4. The empirical mean of i.i.d. sub-Gaussian random variables?\n",
    "    5. The empirical mean of i.i.d. sub-Exponential random variables?\n",
    "    6. The empirical mean of i.i.d. random variables with finite variance?\n",
    "    7. The empirical third moment of i.i.d. random variables with finite sixth moment?\n",
    "    8. The empirical fourth moment of i.i.d. sub-Gaussian random variables?\n",
    "    9. The empirical mean of i.i.d. deterministic random variables?\n",
    "    10. The empirical tenth moment of i.i.d. Bernoulli random variables?\n",
    "\n",
    "2. Which of the above will concentrate in the weaker sense, that for some $C_1$\n",
    "$$\n",
    "    P(Z - \\mathbb{E}[Z] \\geq \\epsilon) \\leq \\frac{C_1}{n \\epsilon^2}?\n",
    "$$"
   ]
  },
  {
   "cell_type": "code",
   "execution_count": 63,
   "id": "3556b712",
   "metadata": {
    "deletable": false,
    "lx_assignment_number": "1",
    "lx_assignment_type": "ASSIGNMENT",
    "lx_assignment_type2print": "Assignment",
    "lx_problem_cell_type": "PROBLEM",
    "lx_problem_number": "5",
    "lx_problem_points": "8"
   },
   "outputs": [],
   "source": [
    "\n",
    "# Answers to part 1, which of the alternatives exponentially concentrate, answer as a list\n",
    "# i.e. [1,4,5] that is example 1, 4, and 5 concentrate\n",
    "problem3_answer_1 = [2,4,5,9,10]"
   ]
  },
  {
   "cell_type": "code",
   "execution_count": 64,
   "id": "1859ff70",
   "metadata": {
    "deletable": false,
    "lx_assignment_number": "1",
    "lx_assignment_type": "ASSIGNMENT",
    "lx_assignment_type2print": "Assignment",
    "lx_problem_cell_type": "PROBLEM",
    "lx_problem_number": "5",
    "lx_problem_points": "8"
   },
   "outputs": [],
   "source": [
    "\n",
    "# Answers to part 2, which of the alternatives concentrate in the weaker sense, answer as a list\n",
    "# i.e. [1,4,5] that is example 1, 4, and 5 concentrate\n",
    "problem3_answer_2 = [2,3,4,5,6,7,8,9,10]"
   ]
  }
 ],
 "metadata": {
  "kernelspec": {
   "display_name": "Python 3",
   "language": "python",
   "name": "python3"
  },
  "language_info": {
   "codemirror_mode": {
    "name": "ipython",
    "version": 3
   },
   "file_extension": ".py",
   "mimetype": "text/x-python",
   "name": "python",
   "nbconvert_exporter": "python",
   "pygments_lexer": "ipython3",
   "version": "3.12.1"
  },
  "lx_assignment_number": 1,
  "lx_course_instance": "2024",
  "lx_course_name": "Introduction to Data Science",
  "lx_course_number": "1MS041"
 },
 "nbformat": 4,
 "nbformat_minor": 5
}
