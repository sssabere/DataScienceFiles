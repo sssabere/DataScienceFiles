{
 "cells": [
  {
   "cell_type": "code",
   "execution_count": 1,
   "metadata": {},
   "outputs": [],
   "source": [
    "# Insert your anonymous exam ID as a string in the variable below\n",
    "examID=\"...\""
   ]
  },
  {
   "cell_type": "markdown",
   "metadata": {},
   "source": [
    "## Exam vB PROBLEM 1\n",
    "In this problem you will do rejection sampling from complicated distributions, you will also be using\n",
    "your samples to compute certain integrals, a method known as Monte Carlo integration: (Keep in\n",
    "mind that choosing a good sampling distribution is often key to avoid too much rejection)"
   ]
  },
  {
   "cell_type": "markdown",
   "metadata": {},
   "source": [
    "1. [4p] Fill in the remaining part of the function problem1_inversion in order to produce samples\n",
    "from the below distribution using rejection sampling:\n",
    "\n",
    "$$\n",
    "F[x] = \\begin{cases}\n",
    "  0, \\quad &x\\leq 0\\\\\n",
    "  \\frac{e^{x^2}-1}{e-1}, \\quad &0<x<1\\\\\n",
    "  1, \\quad &x\\geq1\n",
    "\\end{cases}\n",
    "$$"
   ]
  },
  {
   "cell_type": "code",
   "execution_count": 2,
   "metadata": {},
   "outputs": [],
   "source": [
    "# Part 1\n",
    "from Utils import timeout\n",
    "import numpy as np\n",
    "from scipy.stats import beta\n",
    "from scipy.special import gamma\n",
    "@timeout()\n",
    "def problem1_inversion(n_samples=1):\n",
    "  # Distribution from part 1\n",
    "  # write the code in this function to produce samples from the distribution in the assignment\n",
    "  # Make sure you choose a good sampling distribution to avoid unnecessary rejections\n",
    "  #f = lambda x: 0 if x <= 0 else ( (np.exp(x**2)-1)/(np.e-1) if x < 1 else 1)\n",
    "  f = lambda x: 2*x*np.exp(x**2)/(np.e-1)\n",
    "\n",
    "  alpha = 2.1\n",
    "  beta_param = 0.9\n",
    "  B = gamma(alpha+beta_param)/(gamma(alpha)*gamma(beta_param))\n",
    "  g = lambda x: beta.pdf(x, alpha, beta_param)\n",
    "  g = lambda x: np.power(x, alpha-1)*np.power(1-x, beta_param-1)*B\n",
    "  M = 1.2\n",
    "  samples = []\n",
    "  rejections = 0\n",
    "  while len(samples) < n_samples:\n",
    "    x = np.random.beta(alpha, beta_param)\n",
    "    r = f(x)/(M*g(x))\n",
    "    U = np.random.random()\n",
    "    if U <= r:\n",
    "      samples.append(x)\n",
    "    else:\n",
    "      rejections += 1\n",
    "  print(f\"{rejections} rejections ({int(100*rejections/(n_samples+rejections))}%)\")\n",
    "  # Return a numpy array of length n_samples\n",
    "  return np.array(samples)\n"
   ]
  },
  {
   "cell_type": "markdown",
   "metadata": {},
   "source": [
    "2. [2p] Produce 100000 samples (**use fewer if it times-out and you cannot find a solution**)\n",
    "and put the answer in `problem1_samples` from the above distribution and plot the histogram\n",
    "together with the true density. (*There is a timeout decorator on this function and if it takes\n",
    "more than 10 seconds to generate 100000 samples it will timeout and it will count as if you\n",
    "failed to generate.*)"
   ]
  },
  {
   "cell_type": "code",
   "execution_count": 3,
   "metadata": {},
   "outputs": [
    {
     "name": "stdout",
     "output_type": "stream",
     "text": [
      "19600 rejections (16%)\n",
      "(100000,)\n"
     ]
    },
    {
     "data": {
      "image/png": "[encoded data removed]",
      "text/plain": [
       "<Figure size 640x480 with 1 Axes>"
      ]
     },
     "metadata": {},
     "output_type": "display_data"
    }
   ],
   "source": [
    "# Part 2\n",
    "\n",
    "problem1_samples = problem1_inversion(100000) #100000\n",
    "\n",
    "print(problem1_samples.shape)\n",
    "import matplotlib.pyplot as plt\n",
    "f = lambda x: 2*x*np.exp(x**2)/(np.e-1)\n",
    "space = np.linspace(0,1,100000)\n",
    "vfunc = np.vectorize(f)\n",
    "true_dist = vfunc(space)\n",
    "plt.hist(problem1_samples, density=True, bins=100, label=\"Generated distribution\")\n",
    "plt.plot(space, true_dist, label=\"True distribution\")\n",
    "plt.legend()\n",
    "plt.show()"
   ]
  },
  {
   "cell_type": "markdown",
   "metadata": {},
   "source": [
    "3. [2p] Use the above 100000 samples (problem1_samples) to approximately compute the integral\n",
    "\n",
    "$$\n",
    "  \\int_{0}^1 \\sin(x)\\frac{2e^{x^2}x}{e-1}dx\n",
    "$$\n",
    "and store the result in `problem1_integral`."
   ]
  },
  {
   "cell_type": "code",
   "execution_count": 4,
   "metadata": {},
   "outputs": [
    {
     "data": {
      "text/plain": [
       "0.6528900181702191"
      ]
     },
     "execution_count": 4,
     "metadata": {},
     "output_type": "execute_result"
    }
   ],
   "source": [
    "# Part 3\n",
    "\n",
    "problem1_integral = np.mean(np.sin(problem1_samples))\n",
    "problem1_integral"
   ]
  },
  {
   "cell_type": "markdown",
   "metadata": {},
   "source": [
    "4. [2p] Use Hoeffdings inequality to produce a 95% confidence interval of the integral above and\n",
    "store the result as a tuple in the variable `problem1_interval`"
   ]
  },
  {
   "cell_type": "code",
   "execution_count": 5,
   "metadata": {},
   "outputs": [
    {
     "data": {
      "text/plain": [
       "(0.6485953240867517, 0.6571847122536865)"
      ]
     },
     "execution_count": 5,
     "metadata": {},
     "output_type": "execute_result"
    }
   ],
   "source": [
    "# Part 4\n",
    "from Utils import compute_confidence_interval_bounded\n",
    "problem1_interval = compute_confidence_interval_bounded(np.sin(problem1_samples), 0.05, 0, 1)\n",
    "problem1_interval"
   ]
  },
  {
   "cell_type": "markdown",
   "metadata": {},
   "source": [
    "5. [4p] Fill in the remaining part of the function problem1_inversion_2 in order to produce samples from the below distribution using rejection sampling:\n",
    "$$\n",
    "F[x] = \\begin{cases}\n",
    "  0, \\quad &x\\leq 0\\\\\n",
    "  20xe^{20-1/x}, \\quad &0<x<\\frac{1}{20}\\\\\n",
    "  1, \\quad &x\\geq \\frac{1}{20}\n",
    "\\end{cases}\n",
    "$$\n",
    "Hint: this is tricky because if you choose the wrong sampling distribution you reject at least\n",
    "9 times out of 10. You will get points based on how long your code takes to create a certain number of samples, if you choose the correct sampling distribution you can easily create 100000\n",
    "samples within 2 seconds."
   ]
  },
  {
   "cell_type": "code",
   "execution_count": 6,
   "metadata": {},
   "outputs": [
    {
     "name": "stdout",
     "output_type": "stream",
     "text": [
      "1248 rejections (1%)\n",
      "(100000,)\n"
     ]
    },
    {
     "data": {
      "image/png": "[encoded data removed]",
      "text/plain": [
       "<Figure size 640x480 with 1 Axes>"
      ]
     },
     "metadata": {},
     "output_type": "display_data"
    },
    {
     "name": "stdout",
     "output_type": "stream",
     "text": [
      "0.0499999530237778\n"
     ]
    }
   ],
   "source": [
    "# Part 5\n",
    "\n",
    "@timeout()\n",
    "def problem1_inversion_2(n_samples=1):\n",
    "  # Distribution from part 1\n",
    "  # write the code in this function to produce samples from the distribution in the assignment\n",
    "  # Make sure you choose a good sampling distribution to avoid unnecessary rejections\n",
    "  #f = lambda x: 0 if x <= 0 else ( (np.exp(x**2)-1)/(np.e-1) if x < 1 else 1)\n",
    "  f = lambda x: 20*np.exp(20-1/x)*(x+1)/x if 0<x<=1/20 else 0\n",
    "  a = 21\n",
    "  g = lambda x: 20**a*a*np.power(x, a-1)\n",
    "  M = 1\n",
    "  samples = []\n",
    "  rejections = 0\n",
    "  while len(samples) < n_samples:\n",
    "    x = np.random.power(a)/20\n",
    "    r = f(x)/(M*g(x))\n",
    "    U = np.random.random()\n",
    "    if U <= r:\n",
    "      samples.append(x)\n",
    "    else:\n",
    "      rejections += 1\n",
    "  print(f\"{rejections} rejections ({int(100*rejections/(n_samples+rejections))}%)\")\n",
    "  # Return a numpy array of length n_samples\n",
    "  return np.array(samples)\n",
    "\n",
    "problem2_samples = problem1_inversion_2(100000) #100000\n",
    "\n",
    "print(problem2_samples.shape)\n",
    "import matplotlib.pyplot as plt\n",
    "f = lambda x: 20*np.exp(20-1/x)*(x+1)/x\n",
    "space = np.linspace(1/2000000,1/20,100000)\n",
    "vfunc = np.vectorize(f)\n",
    "true_dist = vfunc(space)\n",
    "plt.hist(problem2_samples, density=True, bins=100, label=\"Generated distribution\")\n",
    "plt.plot(space, true_dist, label=\"True distribution\")\n",
    "plt.legend()\n",
    "plt.show()\n",
    "print(max(problem2_samples))"
   ]
  },
  {
   "cell_type": "markdown",
   "metadata": {},
   "source": [
    "### Local test problem 1"
   ]
  },
  {
   "cell_type": "code",
   "execution_count": 7,
   "metadata": {},
   "outputs": [
    {
     "name": "stdout",
     "output_type": "stream",
     "text": [
      "1 rejections (9%)\n",
      "Good, your problem1_inversion returns a numpy array\n",
      "Good, your problem1_samples is a numpy array\n",
      "Good, your problem1_integral is a float\n",
      "Good, your problem1_interval is a tuple or list of length 2\n",
      "0 rejections (0%)\n",
      "Good, your problem1_inversion_2 returns a numpy array\n"
     ]
    }
   ],
   "source": [
    "# This cell is just to check that you got the correct formats of your answer\n",
    "import numpy as np\n",
    "try:\n",
    "  assert(isinstance(problem1_inversion(10), np.ndarray))\n",
    "except:\n",
    "  print(\"Try again. You should return a numpy array from problem1_inversion\")\n",
    "else:\n",
    "  print(\"Good, your problem1_inversion returns a numpy array\")\n",
    "try:\n",
    "  assert(isinstance(problem1_samples, np.ndarray))\n",
    "except:\n",
    "  print(\"Try again. your problem1_samples is not a numpy array\")\n",
    "else:\n",
    "  print(\"Good, your problem1_samples is a numpy array\")\n",
    "try:\n",
    "  assert(isinstance(problem1_integral, float))\n",
    "except:\n",
    "  print(\"Try again. your problem1_integral is not a float\")\n",
    "else:\n",
    "  print(\"Good, your problem1_integral is a float\")\n",
    "try:\n",
    "  assert(isinstance(problem1_interval, list) or isinstance(problem1_interval, tuple)) , \"problem1_interval not a tuple or list\"\n",
    "  assert(len(problem1_interval) == 2) , \"problem1_interval does not have length 2, it should have a lower bound and an upper bound\"\n",
    "except Exception as e:\n",
    "  print(e)\n",
    "else:\n",
    "  print(\"Good, your problem1_interval is a tuple or list of length 2\")\n",
    "try:\n",
    "  assert(isinstance(problem1_inversion_2(10), np.ndarray))\n",
    "except:\n",
    "  print(\"Try again. You should return a numpy array from problem1_inversion_2\")\n",
    "else:\n",
    "  print(\"Good, your problem1_inversion_2 returns a numpy array\")\n"
   ]
  },
  {
   "cell_type": "markdown",
   "metadata": {},
   "source": [
    "## Exam vB PROBLEM 2\n",
    "Let us build a proportional model ($P(Y = 1 | X) = G(\\beta_0 + \\beta \\cdot X)$ where $G$ is the logistic function)\n",
    "for the spam vs not spam data. Here we assume that the features are presence vs not presence of a\n",
    "word, let $X_1$, $X_2$, $X_3$ denote the presence (1) or absence (0) of the words (\"free\", ”prize”, ”win”).\n"
   ]
  },
  {
   "cell_type": "markdown",
   "metadata": {},
   "source": [
    "1. [2p] Load the file `data/spam.csv` and create two numpy arrays, `problem2_X` which has\n",
    "shape (n_emails,3) where each feature in `problem2_X` corresponds to X1, X2, X3 from above,\n",
    "`problem2_Y` which has shape (n_emails,) and consists of a 1 if the email is spam and 0 if\n",
    "it is not. Split this data into a train-calibration-test sets where we have the split 40%, 20%,\n",
    "40%, put this data in the designated variables in the code cell."
   ]
  },
  {
   "cell_type": "code",
   "execution_count": 8,
   "metadata": {},
   "outputs": [
    {
     "name": "stdout",
     "output_type": "stream",
     "text": [
      "(5572, 3) (5572,)\n",
      "(2228, 3) (1114, 3) (2230, 3) (2228,) (1114,) (2230,)\n"
     ]
    }
   ],
   "source": [
    "# Part 1\n",
    "import pandas as pd\n",
    "data = pd.read_csv(\"data/spam.csv\", encoding=\"windows-1252\")\n",
    "v2 = data[\"v2\"]\n",
    "\n",
    "problem2_X = np.array([[\"free\" in x.casefold(), \"prize\" in x.casefold(), \"win\" in x.casefold()] for x in v2]).astype(int)\n",
    "problem2_Y = (data[\"v1\"] == \"spam\").to_numpy(dtype=int)\n",
    "print(problem2_X.shape, problem2_Y.shape)\n",
    "\n",
    "from Utils import train_test_validation\n",
    "(problem2_X_train, problem2_X_calib, problem2_X_test, \n",
    "  problem2_Y_train, problem2_Y_calib, problem2_Y_test) = train_test_validation(problem2_X, problem2_Y, test_size=0.2, validation_size=0.4, random_state=42) \n",
    "\n",
    "print(problem2_X_train.shape,problem2_X_calib.shape,problem2_X_test.shape,problem2_Y_train.shape,problem2_Y_calib.shape,problem2_Y_test.shape)"
   ]
  },
  {
   "cell_type": "markdown",
   "metadata": {},
   "source": [
    "2. [4p] Follow the calculation from the lecture notes where we derive the logistic regression and\n",
    "implement the final loss function inside the class `ProportionalSpam`. You can use the `Test`\n",
    "cell to check that it gives the correct value for a test-point."
   ]
  },
  {
   "cell_type": "code",
   "execution_count": 96,
   "metadata": {},
   "outputs": [],
   "source": [
    "# Part 2\n",
    "\n",
    "class ProportionalSpam(object):\n",
    "  def __init__(self):\n",
    "    self.coeffs = None\n",
    "    self.result = None\n",
    "  \n",
    "  # define the objective/cost/loss function we want to minimise\n",
    "  def loss(self,X,Y,coeffs):\n",
    "      x = np.hstack((np.ones((X.shape[0], 1)), X))\n",
    "      Z = 2*Y - 1\n",
    "      Bx = coeffs @ x.T\n",
    "      \n",
    "      return np.mean(np.log(1 + np.exp(-Z*Bx)))\n",
    "        \n",
    "  def fit(self,X,Y):\n",
    "    import numpy as np\n",
    "    from scipy import optimize\n",
    "\n",
    "    #Use the f above together with an optimization method from scipy\n",
    "    #to find the coefficients of the model\n",
    "    opt_loss = lambda coeffs: self.loss(X,Y,coeffs)\n",
    "    initial_arguments = np.zeros(shape=X.shape[1]+1)\n",
    "    self.result = optimize.minimize(opt_loss, initial_arguments,method='cg')\n",
    "    self.coeffs = self.result.x\n",
    "  def predict(self,X):\n",
    "    #Use the trained model to predict Y\n",
    "    if (self.coeffs is not None):\n",
    "      G = lambda x: np.exp(x)/(1+np.exp(x))\n",
    "      return np.round(10*G(np.dot(X,self.coeffs[1:])+self.coeffs[0]))/10 #This rounding is to help you with the calibration"
   ]
  },
  {
   "cell_type": "markdown",
   "metadata": {},
   "source": [
    "3. [4p] Train the model `problem2_ps` on the training data. The goal is to calibrate the probabilities output from the model. Start by creating a new variable `problem2_X_pred` (shape(n_samples,1)) which consists of the predictions of `problem2_ps` on the calibration dataset. Then train a calibration model using `sklearn.tree.DecisionTreeRegressor`, store this trained model in `problem2_calibrator`."
   ]
  },
  {
   "cell_type": "code",
   "execution_count": 97,
   "metadata": {},
   "outputs": [
    {
     "name": "stdout",
     "output_type": "stream",
     "text": [
      "problem2_X_pred.shape: (1114, 1)\n"
     ]
    },
    {
     "data": {
      "text/html": [
       "<style>#sk-container-id-10 {\n",
       "  /* Definition of color scheme common for light and dark mode */\n",
       "  --sklearn-color-text: black;\n",
       "  --sklearn-color-line: gray;\n",
       "  /* Definition of color scheme for unfitted estimators */\n",
       "  --sklearn-color-unfitted-level-0: #fff5e6;\n",
       "  --sklearn-color-unfitted-level-1: #f6e4d2;\n",
       "  --sklearn-color-unfitted-level-2: #ffe0b3;\n",
       "  --sklearn-color-unfitted-level-3: chocolate;\n",
       "  /* Definition of color scheme for fitted estimators */\n",
       "  --sklearn-color-fitted-level-0: #f0f8ff;\n",
       "  --sklearn-color-fitted-level-1: #d4ebff;\n",
       "  --sklearn-color-fitted-level-2: #b3dbfd;\n",
       "  --sklearn-color-fitted-level-3: cornflowerblue;\n",
       "\n",
       "  /* Specific color for light theme */\n",
       "  --sklearn-color-text-on-default-background: var(--sg-text-color, var(--theme-code-foreground, var(--jp-content-font-color1, black)));\n",
       "  --sklearn-color-background: var(--sg-background-color, var(--theme-background, var(--jp-layout-color0, white)));\n",
       "  --sklearn-color-border-box: var(--sg-text-color, var(--theme-code-foreground, var(--jp-content-font-color1, black)));\n",
       "  --sklearn-color-icon: #696969;\n",
       "\n",
       "  @media (prefers-color-scheme: dark) {\n",
       "    /* Redefinition of color scheme for dark theme */\n",
       "    --sklearn-color-text-on-default-background: var(--sg-text-color, var(--theme-code-foreground, var(--jp-content-font-color1, white)));\n",
       "    --sklearn-color-background: var(--sg-background-color, var(--theme-background, var(--jp-layout-color0, #111)));\n",
       "    --sklearn-color-border-box: var(--sg-text-color, var(--theme-code-foreground, var(--jp-content-font-color1, white)));\n",
       "    --sklearn-color-icon: #878787;\n",
       "  }\n",
       "}\n",
       "\n",
       "#sk-container-id-10 {\n",
       "  color: var(--sklearn-color-text);\n",
       "}\n",
       "\n",
       "#sk-container-id-10 pre {\n",
       "  padding: 0;\n",
       "}\n",
       "\n",
       "#sk-container-id-10 input.sk-hidden--visually {\n",
       "  border: 0;\n",
       "  clip: rect(1px 1px 1px 1px);\n",
       "  clip: rect(1px, 1px, 1px, 1px);\n",
       "  height: 1px;\n",
       "  margin: -1px;\n",
       "  overflow: hidden;\n",
       "  padding: 0;\n",
       "  position: absolute;\n",
       "  width: 1px;\n",
       "}\n",
       "\n",
       "#sk-container-id-10 div.sk-dashed-wrapped {\n",
       "  border: 1px dashed var(--sklearn-color-line);\n",
       "  margin: 0 0.4em 0.5em 0.4em;\n",
       "  box-sizing: border-box;\n",
       "  padding-bottom: 0.4em;\n",
       "  background-color: var(--sklearn-color-background);\n",
       "}\n",
       "\n",
       "#sk-container-id-10 div.sk-container {\n",
       "  /* jupyter's `normalize.less` sets `[hidden] { display: none; }`\n",
       "     but bootstrap.min.css set `[hidden] { display: none !important; }`\n",
       "     so we also need the `!important` here to be able to override the\n",
       "     default hidden behavior on the sphinx rendered scikit-learn.org.\n",
       "     See: https://github.com/scikit-learn/scikit-learn/issues/21755 */\n",
       "  display: inline-block !important;\n",
       "  position: relative;\n",
       "}\n",
       "\n",
       "#sk-container-id-10 div.sk-text-repr-fallback {\n",
       "  display: none;\n",
       "}\n",
       "\n",
       "div.sk-parallel-item,\n",
       "div.sk-serial,\n",
       "div.sk-item {\n",
       "  /* draw centered vertical line to link estimators */\n",
       "  background-image: linear-gradient(var(--sklearn-color-text-on-default-background), var(--sklearn-color-text-on-default-background));\n",
       "  background-size: 2px 100%;\n",
       "  background-repeat: no-repeat;\n",
       "  background-position: center center;\n",
       "}\n",
       "\n",
       "/* Parallel-specific style estimator block */\n",
       "\n",
       "#sk-container-id-10 div.sk-parallel-item::after {\n",
       "  content: \"\";\n",
       "  width: 100%;\n",
       "  border-bottom: 2px solid var(--sklearn-color-text-on-default-background);\n",
       "  flex-grow: 1;\n",
       "}\n",
       "\n",
       "#sk-container-id-10 div.sk-parallel {\n",
       "  display: flex;\n",
       "  align-items: stretch;\n",
       "  justify-content: center;\n",
       "  background-color: var(--sklearn-color-background);\n",
       "  position: relative;\n",
       "}\n",
       "\n",
       "#sk-container-id-10 div.sk-parallel-item {\n",
       "  display: flex;\n",
       "  flex-direction: column;\n",
       "}\n",
       "\n",
       "#sk-container-id-10 div.sk-parallel-item:first-child::after {\n",
       "  align-self: flex-end;\n",
       "  width: 50%;\n",
       "}\n",
       "\n",
       "#sk-container-id-10 div.sk-parallel-item:last-child::after {\n",
       "  align-self: flex-start;\n",
       "  width: 50%;\n",
       "}\n",
       "\n",
       "#sk-container-id-10 div.sk-parallel-item:only-child::after {\n",
       "  width: 0;\n",
       "}\n",
       "\n",
       "/* Serial-specific style estimator block */\n",
       "\n",
       "#sk-container-id-10 div.sk-serial {\n",
       "  display: flex;\n",
       "  flex-direction: column;\n",
       "  align-items: center;\n",
       "  background-color: var(--sklearn-color-background);\n",
       "  padding-right: 1em;\n",
       "  padding-left: 1em;\n",
       "}\n",
       "\n",
       "\n",
       "/* Toggleable style: style used for estimator/Pipeline/ColumnTransformer box that is\n",
       "clickable and can be expanded/collapsed.\n",
       "- Pipeline and ColumnTransformer use this feature and define the default style\n",
       "- Estimators will overwrite some part of the style using the `sk-estimator` class\n",
       "*/\n",
       "\n",
       "/* Pipeline and ColumnTransformer style (default) */\n",
       "\n",
       "#sk-container-id-10 div.sk-toggleable {\n",
       "  /* Default theme specific background. It is overwritten whether we have a\n",
       "  specific estimator or a Pipeline/ColumnTransformer */\n",
       "  background-color: var(--sklearn-color-background);\n",
       "}\n",
       "\n",
       "/* Toggleable label */\n",
       "#sk-container-id-10 label.sk-toggleable__label {\n",
       "  cursor: pointer;\n",
       "  display: block;\n",
       "  width: 100%;\n",
       "  margin-bottom: 0;\n",
       "  padding: 0.5em;\n",
       "  box-sizing: border-box;\n",
       "  text-align: center;\n",
       "}\n",
       "\n",
       "#sk-container-id-10 label.sk-toggleable__label-arrow:before {\n",
       "  /* Arrow on the left of the label */\n",
       "  content: \"▸\";\n",
       "  float: left;\n",
       "  margin-right: 0.25em;\n",
       "  color: var(--sklearn-color-icon);\n",
       "}\n",
       "\n",
       "#sk-container-id-10 label.sk-toggleable__label-arrow:hover:before {\n",
       "  color: var(--sklearn-color-text);\n",
       "}\n",
       "\n",
       "/* Toggleable content - dropdown */\n",
       "\n",
       "#sk-container-id-10 div.sk-toggleable__content {\n",
       "  max-height: 0;\n",
       "  max-width: 0;\n",
       "  overflow: hidden;\n",
       "  text-align: left;\n",
       "  /* unfitted */\n",
       "  background-color: var(--sklearn-color-unfitted-level-0);\n",
       "}\n",
       "\n",
       "#sk-container-id-10 div.sk-toggleable__content.fitted {\n",
       "  /* fitted */\n",
       "  background-color: var(--sklearn-color-fitted-level-0);\n",
       "}\n",
       "\n",
       "#sk-container-id-10 div.sk-toggleable__content pre {\n",
       "  margin: 0.2em;\n",
       "  border-radius: 0.25em;\n",
       "  color: var(--sklearn-color-text);\n",
       "  /* unfitted */\n",
       "  background-color: var(--sklearn-color-unfitted-level-0);\n",
       "}\n",
       "\n",
       "#sk-container-id-10 div.sk-toggleable__content.fitted pre {\n",
       "  /* unfitted */\n",
       "  background-color: var(--sklearn-color-fitted-level-0);\n",
       "}\n",
       "\n",
       "#sk-container-id-10 input.sk-toggleable__control:checked~div.sk-toggleable__content {\n",
       "  /* Expand drop-down */\n",
       "  max-height: 200px;\n",
       "  max-width: 100%;\n",
       "  overflow: auto;\n",
       "}\n",
       "\n",
       "#sk-container-id-10 input.sk-toggleable__control:checked~label.sk-toggleable__label-arrow:before {\n",
       "  content: \"▾\";\n",
       "}\n",
       "\n",
       "/* Pipeline/ColumnTransformer-specific style */\n",
       "\n",
       "#sk-container-id-10 div.sk-label input.sk-toggleable__control:checked~label.sk-toggleable__label {\n",
       "  color: var(--sklearn-color-text);\n",
       "  background-color: var(--sklearn-color-unfitted-level-2);\n",
       "}\n",
       "\n",
       "#sk-container-id-10 div.sk-label.fitted input.sk-toggleable__control:checked~label.sk-toggleable__label {\n",
       "  background-color: var(--sklearn-color-fitted-level-2);\n",
       "}\n",
       "\n",
       "/* Estimator-specific style */\n",
       "\n",
       "/* Colorize estimator box */\n",
       "#sk-container-id-10 div.sk-estimator input.sk-toggleable__control:checked~label.sk-toggleable__label {\n",
       "  /* unfitted */\n",
       "  background-color: var(--sklearn-color-unfitted-level-2);\n",
       "}\n",
       "\n",
       "#sk-container-id-10 div.sk-estimator.fitted input.sk-toggleable__control:checked~label.sk-toggleable__label {\n",
       "  /* fitted */\n",
       "  background-color: var(--sklearn-color-fitted-level-2);\n",
       "}\n",
       "\n",
       "#sk-container-id-10 div.sk-label label.sk-toggleable__label,\n",
       "#sk-container-id-10 div.sk-label label {\n",
       "  /* The background is the default theme color */\n",
       "  color: var(--sklearn-color-text-on-default-background);\n",
       "}\n",
       "\n",
       "/* On hover, darken the color of the background */\n",
       "#sk-container-id-10 div.sk-label:hover label.sk-toggleable__label {\n",
       "  color: var(--sklearn-color-text);\n",
       "  background-color: var(--sklearn-color-unfitted-level-2);\n",
       "}\n",
       "\n",
       "/* Label box, darken color on hover, fitted */\n",
       "#sk-container-id-10 div.sk-label.fitted:hover label.sk-toggleable__label.fitted {\n",
       "  color: var(--sklearn-color-text);\n",
       "  background-color: var(--sklearn-color-fitted-level-2);\n",
       "}\n",
       "\n",
       "/* Estimator label */\n",
       "\n",
       "#sk-container-id-10 div.sk-label label {\n",
       "  font-family: monospace;\n",
       "  font-weight: bold;\n",
       "  display: inline-block;\n",
       "  line-height: 1.2em;\n",
       "}\n",
       "\n",
       "#sk-container-id-10 div.sk-label-container {\n",
       "  text-align: center;\n",
       "}\n",
       "\n",
       "/* Estimator-specific */\n",
       "#sk-container-id-10 div.sk-estimator {\n",
       "  font-family: monospace;\n",
       "  border: 1px dotted var(--sklearn-color-border-box);\n",
       "  border-radius: 0.25em;\n",
       "  box-sizing: border-box;\n",
       "  margin-bottom: 0.5em;\n",
       "  /* unfitted */\n",
       "  background-color: var(--sklearn-color-unfitted-level-0);\n",
       "}\n",
       "\n",
       "#sk-container-id-10 div.sk-estimator.fitted {\n",
       "  /* fitted */\n",
       "  background-color: var(--sklearn-color-fitted-level-0);\n",
       "}\n",
       "\n",
       "/* on hover */\n",
       "#sk-container-id-10 div.sk-estimator:hover {\n",
       "  /* unfitted */\n",
       "  background-color: var(--sklearn-color-unfitted-level-2);\n",
       "}\n",
       "\n",
       "#sk-container-id-10 div.sk-estimator.fitted:hover {\n",
       "  /* fitted */\n",
       "  background-color: var(--sklearn-color-fitted-level-2);\n",
       "}\n",
       "\n",
       "/* Specification for estimator info (e.g. \"i\" and \"?\") */\n",
       "\n",
       "/* Common style for \"i\" and \"?\" */\n",
       "\n",
       ".sk-estimator-doc-link,\n",
       "a:link.sk-estimator-doc-link,\n",
       "a:visited.sk-estimator-doc-link {\n",
       "  float: right;\n",
       "  font-size: smaller;\n",
       "  line-height: 1em;\n",
       "  font-family: monospace;\n",
       "  background-color: var(--sklearn-color-background);\n",
       "  border-radius: 1em;\n",
       "  height: 1em;\n",
       "  width: 1em;\n",
       "  text-decoration: none !important;\n",
       "  margin-left: 1ex;\n",
       "  /* unfitted */\n",
       "  border: var(--sklearn-color-unfitted-level-1) 1pt solid;\n",
       "  color: var(--sklearn-color-unfitted-level-1);\n",
       "}\n",
       "\n",
       ".sk-estimator-doc-link.fitted,\n",
       "a:link.sk-estimator-doc-link.fitted,\n",
       "a:visited.sk-estimator-doc-link.fitted {\n",
       "  /* fitted */\n",
       "  border: var(--sklearn-color-fitted-level-1) 1pt solid;\n",
       "  color: var(--sklearn-color-fitted-level-1);\n",
       "}\n",
       "\n",
       "/* On hover */\n",
       "div.sk-estimator:hover .sk-estimator-doc-link:hover,\n",
       ".sk-estimator-doc-link:hover,\n",
       "div.sk-label-container:hover .sk-estimator-doc-link:hover,\n",
       ".sk-estimator-doc-link:hover {\n",
       "  /* unfitted */\n",
       "  background-color: var(--sklearn-color-unfitted-level-3);\n",
       "  color: var(--sklearn-color-background);\n",
       "  text-decoration: none;\n",
       "}\n",
       "\n",
       "div.sk-estimator.fitted:hover .sk-estimator-doc-link.fitted:hover,\n",
       ".sk-estimator-doc-link.fitted:hover,\n",
       "div.sk-label-container:hover .sk-estimator-doc-link.fitted:hover,\n",
       ".sk-estimator-doc-link.fitted:hover {\n",
       "  /* fitted */\n",
       "  background-color: var(--sklearn-color-fitted-level-3);\n",
       "  color: var(--sklearn-color-background);\n",
       "  text-decoration: none;\n",
       "}\n",
       "\n",
       "/* Span, style for the box shown on hovering the info icon */\n",
       ".sk-estimator-doc-link span {\n",
       "  display: none;\n",
       "  z-index: 9999;\n",
       "  position: relative;\n",
       "  font-weight: normal;\n",
       "  right: .2ex;\n",
       "  padding: .5ex;\n",
       "  margin: .5ex;\n",
       "  width: min-content;\n",
       "  min-width: 20ex;\n",
       "  max-width: 50ex;\n",
       "  color: var(--sklearn-color-text);\n",
       "  box-shadow: 2pt 2pt 4pt #999;\n",
       "  /* unfitted */\n",
       "  background: var(--sklearn-color-unfitted-level-0);\n",
       "  border: .5pt solid var(--sklearn-color-unfitted-level-3);\n",
       "}\n",
       "\n",
       ".sk-estimator-doc-link.fitted span {\n",
       "  /* fitted */\n",
       "  background: var(--sklearn-color-fitted-level-0);\n",
       "  border: var(--sklearn-color-fitted-level-3);\n",
       "}\n",
       "\n",
       ".sk-estimator-doc-link:hover span {\n",
       "  display: block;\n",
       "}\n",
       "\n",
       "/* \"?\"-specific style due to the `<a>` HTML tag */\n",
       "\n",
       "#sk-container-id-10 a.estimator_doc_link {\n",
       "  float: right;\n",
       "  font-size: 1rem;\n",
       "  line-height: 1em;\n",
       "  font-family: monospace;\n",
       "  background-color: var(--sklearn-color-background);\n",
       "  border-radius: 1rem;\n",
       "  height: 1rem;\n",
       "  width: 1rem;\n",
       "  text-decoration: none;\n",
       "  /* unfitted */\n",
       "  color: var(--sklearn-color-unfitted-level-1);\n",
       "  border: var(--sklearn-color-unfitted-level-1) 1pt solid;\n",
       "}\n",
       "\n",
       "#sk-container-id-10 a.estimator_doc_link.fitted {\n",
       "  /* fitted */\n",
       "  border: var(--sklearn-color-fitted-level-1) 1pt solid;\n",
       "  color: var(--sklearn-color-fitted-level-1);\n",
       "}\n",
       "\n",
       "/* On hover */\n",
       "#sk-container-id-10 a.estimator_doc_link:hover {\n",
       "  /* unfitted */\n",
       "  background-color: var(--sklearn-color-unfitted-level-3);\n",
       "  color: var(--sklearn-color-background);\n",
       "  text-decoration: none;\n",
       "}\n",
       "\n",
       "#sk-container-id-10 a.estimator_doc_link.fitted:hover {\n",
       "  /* fitted */\n",
       "  background-color: var(--sklearn-color-fitted-level-3);\n",
       "}\n",
       "</style><div id=\"sk-container-id-10\" class=\"sk-top-container\"><div class=\"sk-text-repr-fallback\"><pre>DecisionTreeRegressor()</pre><b>In a Jupyter environment, please rerun this cell to show the HTML representation or trust the notebook. <br />On GitHub, the HTML representation is unable to render, please try loading this page with nbviewer.org.</b></div><div class=\"sk-container\" hidden><div class=\"sk-item\"><div class=\"sk-estimator fitted sk-toggleable\"><input class=\"sk-toggleable__control sk-hidden--visually\" id=\"sk-estimator-id-10\" type=\"checkbox\" checked><label for=\"sk-estimator-id-10\" class=\"sk-toggleable__label fitted sk-toggleable__label-arrow fitted\">&nbsp;&nbsp;DecisionTreeRegressor<a class=\"sk-estimator-doc-link fitted\" rel=\"noreferrer\" target=\"_blank\" href=\"https://scikit-learn.org/1.4/modules/generated/sklearn.tree.DecisionTreeRegressor.html\">?<span>Documentation for DecisionTreeRegressor</span></a><span class=\"sk-estimator-doc-link fitted\">i<span>Fitted</span></span></label><div class=\"sk-toggleable__content fitted\"><pre>DecisionTreeRegressor()</pre></div> </div></div></div></div>"
      ],
      "text/plain": [
       "DecisionTreeRegressor()"
      ]
     },
     "execution_count": 97,
     "metadata": {},
     "output_type": "execute_result"
    }
   ],
   "source": [
    "# Part 3\n",
    "problem2_ps = ProportionalSpam()\n",
    "problem2_ps.fit(problem2_X_train, problem2_Y_train)\n",
    "\n",
    "problem2_X_pred = problem2_ps.predict(problem2_X_calib).reshape(-1, 1)\n",
    "print(f\"problem2_X_pred.shape: {problem2_X_pred.shape}\")\n",
    "\n",
    "from sklearn.tree import DecisionTreeRegressor as DTR\n",
    "\n",
    "problem2_calibrator = DTR()\n",
    "problem2_calibrator.fit(problem2_X_pred, problem2_Y_calib)"
   ]
  },
  {
   "cell_type": "markdown",
   "metadata": {},
   "source": [
    "4. [3p] Use the trained model `problem2_ps` and the calibrator `problem2_calibrator` to make\n",
    "final predictions on the testing data, store the prediction in `problem2_final_predictions`.\n",
    "Compute the 0-1 test-loss and store it in `problem2_01_loss` and provide a 99% confidence\n",
    "interval of it, store this in the variable `problem2_interval`, this should again be a tuple as in\n",
    "problem1."
   ]
  },
  {
   "cell_type": "code",
   "execution_count": 98,
   "metadata": {},
   "outputs": [
    {
     "name": "stdout",
     "output_type": "stream",
     "text": [
      "[0 0 1 ... 0 0 0]\n",
      "[0 0 0 ... 0 0 0]\n"
     ]
    },
    {
     "data": {
      "text/plain": [
       "(0.06451414384818517, 0.12203294135360855)"
      ]
     },
     "execution_count": 98,
     "metadata": {},
     "output_type": "execute_result"
    }
   ],
   "source": [
    "# Part 4\n",
    "\n",
    "# These are the predicted probabilities\n",
    "X_test_pred = problem2_ps.predict(problem2_X_test).reshape(-1, 1)\n",
    "problem2_final_predictions = problem2_calibrator.predict(X_test_pred)\n",
    "\n",
    "# In order to compute this loss we first need to convert the predicted probabilities to a decision\n",
    "# recall the Bayes classifier?\n",
    "class_predictions = (problem2_final_predictions > 0.5).astype(int)\n",
    "print(class_predictions)\n",
    "problem2_01_loss = (class_predictions != problem2_Y_test).astype(int)\n",
    "print(problem2_01_loss)\n",
    "\n",
    "# Recall the interval is given as a tuple (a,b) or a list [a,b]\n",
    "problem2_interval = compute_confidence_interval_bounded(problem2_01_loss, 0.05, 0, 1)\n",
    "problem2_interval"
   ]
  },
  {
   "cell_type": "markdown",
   "metadata": {},
   "source": [
    "### Local test problem 2"
   ]
  },
  {
   "cell_type": "code",
   "execution_count": 99,
   "metadata": {},
   "outputs": [
    {
     "name": "stdout",
     "output_type": "stream",
     "text": [
      "Your loss was correct for a test point\n"
     ]
    }
   ],
   "source": [
    "try:\n",
    "  import numpy as np\n",
    "  test_instance = ProportionalSpam()\n",
    "  test_loss = test_instance.loss(np.array([[1,0,1],[0,1,1]]),np.array([1,0]),np.array([1.2,0.4,0.3,0.9]))\n",
    "  assert (np.abs(test_loss-1.2828629432232497) < 1e-6)\n",
    "  print(\"Your loss was correct for a test point\")\n",
    "except:\n",
    "  print(\"Your loss was not correct on a test point\")"
   ]
  },
  {
   "cell_type": "markdown",
   "metadata": {},
   "source": [
    "## Exam vB PROBLEM 3"
   ]
  },
  {
   "cell_type": "code",
   "execution_count": 100,
   "metadata": {},
   "outputs": [],
   "source": [
    "# PART 1\n",
    "\n",
    "#------------------------TRANSITION MATRIX -------------------------------\n",
    "# Answer each one by supplying the transition matrix as a numpy array\n",
    "# of shape (n_states,n_states), where state (A,B,...) corresponds to index (0,1,...)\n",
    "\n",
    "problem3_A = ...\n",
    "problem3_B = ...\n",
    "problem3_C = ...\n",
    "problem3_D = ..."
   ]
  },
  {
   "cell_type": "code",
   "execution_count": 101,
   "metadata": {},
   "outputs": [],
   "source": [
    "# PART 2\n",
    "#------------------------REDUCIBLE -------------------------------\n",
    "# Answer each one with a True or False\n",
    "\n",
    "problem3_A_irreducible = ...\n",
    "problem3_B_irreducible = ...\n",
    "problem3_C_irreducible = ...\n",
    "problem3_D_irreducible = ..."
   ]
  },
  {
   "cell_type": "code",
   "execution_count": 102,
   "metadata": {},
   "outputs": [],
   "source": [
    "# PART 3\n",
    "#------------------------APERIODIC-------------------------------\n",
    "# Answer each one with a True or False\n",
    "\n",
    "problem3_A_is_aperiodic = ...\n",
    "problem3_B_is_aperiodic = ...\n",
    "problem3_C_is_aperiodic = ...\n",
    "problem3_D_is_aperiodic = ...\n",
    "\n",
    "# Answer the following with the period of the states as a numpy array\n",
    "# of shape (n_states,)\n",
    "\n",
    "problem3_A_periods = ...\n",
    "problem3_B_periods = ...\n",
    "problem3_C_periods = ...\n",
    "problem3_D_periods = ..."
   ]
  },
  {
   "cell_type": "code",
   "execution_count": 103,
   "metadata": {},
   "outputs": [],
   "source": [
    "# PART 4\n",
    "#------------------------STATIONARY DISTRIBUTION-----------------\n",
    "# Answer each one with a True or False\n",
    "\n",
    "problem3_A_has_stationary = ...\n",
    "problem3_B_has_stationary = ...\n",
    "problem3_C_has_stationary = ...\n",
    "problem3_D_has_stationary = ...\n",
    "\n",
    "# Answer the following with the stationary distribution as a numpy array of shape (n_states,)\n",
    "# if the Markov chain has a stationary distribution otherwise answer with False\n",
    "\n",
    "problem3_A_stationary_dist = ...\n",
    "problem3_B_stationary_dist = ...\n",
    "problem3_C_stationary_dist = ...\n",
    "problem3_D_stationary_dist = ..."
   ]
  },
  {
   "cell_type": "code",
   "execution_count": 104,
   "metadata": {},
   "outputs": [],
   "source": [
    "# PART 5\n",
    "#------------------------REVERSIBLE-----------------\n",
    "# Answer each one with a True or False\n",
    "\n",
    "problem3_A_is_reversible = ...\n",
    "problem3_B_is_reversible = ...\n",
    "problem3_C_is_reversible = ...\n",
    "problem3_D_is_reversible = ..."
   ]
  }
 ],
 "metadata": {
  "kernelspec": {
   "display_name": "Python 3",
   "language": "python",
   "name": "python3"
  },
  "language_info": {
   "codemirror_mode": {
    "name": "ipython",
    "version": 3
   },
   "file_extension": ".py",
   "mimetype": "text/x-python",
   "name": "python",
   "nbconvert_exporter": "python",
   "pygments_lexer": "ipython3",
   "version": "3.12.1"
  }
 },
 "nbformat": 4,
 "nbformat_minor": 2
}
